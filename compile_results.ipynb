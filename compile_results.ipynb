{
 "cells": [
  {
   "cell_type": "code",
   "execution_count": 1,
   "metadata": {},
   "outputs": [],
   "source": [
    "import os\n",
    "import csv\n",
    "import re"
   ]
  },
  {
   "cell_type": "code",
   "execution_count": 3,
   "metadata": {},
   "outputs": [],
   "source": [
    "results_path = \"//store-01.hpi.uni-potsdam.de/fg/doellner/florence.boettger/counterfactuals/output/new_results\"\n",
    "files = [os.path.join(results_path, f) for f in os.listdir(results_path) if re.search(\"^optimize_counterfactuals_initial2_\\d*.csv$\", f)]"
   ]
  },
  {
   "cell_type": "code",
   "execution_count": 6,
   "metadata": {},
   "outputs": [],
   "source": [
    "results = []\n",
    "for filename in files:\n",
    "    with open(filename, \"r\") as f:\n",
    "        reader = list(csv.DictReader(f))\n",
    "        raw_dict = reader[0]\n",
    "        eval_single = re.findall(\"\\d*\\.\\d*\", raw_dict[\"eval_single\"])\n",
    "        eval_all = re.findall(\"\\d*\\.\\d*\", raw_dict[\"eval_all\"])\n",
    "        results.append({\n",
    "            \"id\": raw_dict[\"id\"],\n",
    "            \"mode\": raw_dict[\"mode\"],\n",
    "            \"lambd\": raw_dict[\"lambd\"],\n",
    "            \"lambd2\": raw_dict[\"lambd2\"],\n",
    "            \"max_dist\": raw_dict[\"max_dist\"],\n",
    "            \"parts_type\": raw_dict[\"parts_type\"],\n",
    "            \"avg_edits\": raw_dict[\"avg_edits\"],\n",
    "            \"eval_single_near\": eval_single[0],\n",
    "            \"eval_single_same\": eval_single[1],\n",
    "            \"eval_all_near\": eval_all[0],\n",
    "            \"eval_all_same\": eval_all[1],\n",
    "        })\n",
    "\n",
    "with open(os.path.join(results_path, \"combined\", \"combined_results_initial2.csv\"), \"w\", newline='') as f:\n",
    "    writer = csv.DictWriter(f, fieldnames=results[0].keys())\n",
    "    writer.writeheader()\n",
    "    for result in results:\n",
    "        writer.writerow(result)"
   ]
  }
 ],
 "metadata": {
  "kernelspec": {
   "display_name": "Python 3",
   "language": "python",
   "name": "python3"
  },
  "language_info": {
   "codemirror_mode": {
    "name": "ipython",
    "version": 3
   },
   "file_extension": ".py",
   "mimetype": "text/x-python",
   "name": "python",
   "nbconvert_exporter": "python",
   "pygments_lexer": "ipython3",
   "version": "3.9.0"
  },
  "orig_nbformat": 4,
  "vscode": {
   "interpreter": {
    "hash": "11938c6bc6919ae2720b4d5011047913343b08a43b18698fd82dedb0d4417594"
   }
  }
 },
 "nbformat": 4,
 "nbformat_minor": 2
}
