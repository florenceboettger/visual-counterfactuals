{
 "cells": [
  {
   "cell_type": "code",
   "execution_count": 1,
   "metadata": {},
   "outputs": [],
   "source": [
    "import csv\n",
    "import os\n",
    "import re"
   ]
  },
  {
   "cell_type": "code",
   "execution_count": 2,
   "metadata": {},
   "outputs": [],
   "source": [
    "def read_csv(results_path=\"//store-01.hpi.uni-potsdam.de/fg/doellner/florence.boettger/counterfactuals/output/new_results/edits/batch\"):\n",
    "    dirs = [os.path.join(results_path, d) for d in os.listdir(results_path)]\n",
    "    files = [os.path.join(d, \"edits.csv\") for d in dirs if \"edits.csv\" in os.listdir(d)]\n",
    "\n",
    "    dict = {}\n",
    "\n",
    "    for filename in files:\n",
    "        name = re.split(r\"\\\\\", filename)[1]\n",
    "        with open(filename, \"r\") as f:\n",
    "            reader = list(csv.DictReader(f))\n",
    "            for row in reader:\n",
    "                dict[row[\"query_index\"]] = (dict[row[\"query_index\"]] if row[\"query_index\"] in dict else {}) | {\n",
    "                    name: {\n",
    "                        \"query_edit\": row[\"query_edit\"],\n",
    "                        \"distractor_edit\": row[\"distractor_edit\"]\n",
    "                    }\n",
    "                }\n",
    "\n",
    "    return dict"
   ]
  },
  {
   "cell_type": "code",
   "execution_count": 3,
   "metadata": {},
   "outputs": [],
   "source": [
    "dict = read_csv()"
   ]
  },
  {
   "cell_type": "code",
   "execution_count": 4,
   "metadata": {},
   "outputs": [
    {
     "name": "stdout",
     "output_type": "stream",
     "text": [
      "query match: 0.7129902516436182\n",
      "distractor match: 0.5871684425300385\n",
      "identical match: 0.4676944003627295\n",
      "partial match: 0.8324642938109272\n"
     ]
    }
   ],
   "source": [
    "query_matches = 0\n",
    "distractor_matches = 0\n",
    "identical_matches = 0\n",
    "partial_matches = 0\n",
    "\n",
    "matches = {}\n",
    "\n",
    "for query_index, d in dict.items():\n",
    "    query_edits = [e[\"query_edit\"] for e in list(d.values())]\n",
    "    distractor_edits = [e[\"distractor_edit\"] for e in list(d.values())]\n",
    "    query_identical = query_edits.count(query_edits[0]) == len(query_edits)\n",
    "    distractor_identical = distractor_edits.count(distractor_edits[0]) == len(distractor_edits)\n",
    "    if query_identical:\n",
    "        query_matches += 1\n",
    "    if distractor_identical:\n",
    "        distractor_matches += 1\n",
    "    if query_identical and distractor_identical:\n",
    "        identical_matches += 1        \n",
    "        partial_matches += 1\n",
    "        matches[query_index] = \"identical\"\n",
    "    elif query_identical or distractor_identical:\n",
    "        partial_matches += 1\n",
    "        matches[query_index] = \"partial\"\n",
    "    else:\n",
    "        matches[query_index] = \"none\"\n",
    "\n",
    "print(f\"query match: {query_matches / len(dict)}\")\n",
    "print(f\"distractor match: {distractor_matches / len(dict)}\")\n",
    "print(f\"identical match: {identical_matches / len(dict)}\")\n",
    "print(f\"partial match: {partial_matches / len(dict)}\")"
   ]
  },
  {
   "cell_type": "code",
   "execution_count": 5,
   "metadata": {},
   "outputs": [],
   "source": [
    "path = \"//store-01.hpi.uni-potsdam.de/fg/doellner/florence.boettger/counterfactuals/output/new_results/edits/matches.csv\"\n",
    "with open(path, \"w\", newline='') as f:\n",
    "    writer = csv.DictWriter(f, fieldnames=[\"query_index\", \"match\"])\n",
    "    writer.writeheader()\n",
    "    for query_index, m in matches.items():\n",
    "        writer.writerow({\n",
    "            \"query_index\": query_index,\n",
    "            \"match\": m,\n",
    "        })"
   ]
  }
 ],
 "metadata": {
  "kernelspec": {
   "display_name": "Python 3",
   "language": "python",
   "name": "python3"
  },
  "language_info": {
   "codemirror_mode": {
    "name": "ipython",
    "version": 3
   },
   "file_extension": ".py",
   "mimetype": "text/x-python",
   "name": "python",
   "nbconvert_exporter": "python",
   "pygments_lexer": "ipython3",
   "version": "3.9.0"
  },
  "orig_nbformat": 4
 },
 "nbformat": 4,
 "nbformat_minor": 2
}
