{
 "cells": [
  {
   "cell_type": "code",
   "execution_count": 4,
   "metadata": {},
   "outputs": [],
   "source": [
    "import optuna\n",
    "from eval_help import *\n",
    "from combine_results import combine_results"
   ]
  },
  {
   "cell_type": "code",
   "execution_count": 5,
   "metadata": {},
   "outputs": [],
   "source": [
    "# study = optuna.create_study(\n",
    "#     storage=\"sqlite://///store-01.hpi.uni-potsdam.de/fg/doellner/florence.boettger/counterfactuals/optimize_counterfactuals_full.db\",\n",
    "#     study_name=\"optimize_counterfactuals_performance_vgg_final\",\n",
    "#     directions=[\"maximize\", \"minimize\"],\n",
    "# )"
   ]
  },
  {
   "cell_type": "code",
   "execution_count": 6,
   "metadata": {},
   "outputs": [
    {
     "ename": "OperationalError",
     "evalue": "(sqlite3.OperationalError) unable to open database file\n(Background on this error at: https://sqlalche.me/e/20/e3q8)",
     "output_type": "error",
     "traceback": [
      "\u001b[1;31m---------------------------------------------------------------------------\u001b[0m",
      "\u001b[1;31mOperationalError\u001b[0m                          Traceback (most recent call last)",
      "File \u001b[1;32m~\\AppData\\Local\\Packages\\PythonSoftwareFoundation.Python.3.9_qbz5n2kfra8p0\\LocalCache\\local-packages\\Python39\\site-packages\\sqlalchemy\\engine\\base.py:145\u001b[0m, in \u001b[0;36mConnection.__init__\u001b[1;34m(self, engine, connection, _has_events, _allow_revalidate, _allow_autobegin)\u001b[0m\n\u001b[0;32m    144\u001b[0m \u001b[39mtry\u001b[39;00m:\n\u001b[1;32m--> 145\u001b[0m     \u001b[39mself\u001b[39m\u001b[39m.\u001b[39m_dbapi_connection \u001b[39m=\u001b[39m engine\u001b[39m.\u001b[39;49mraw_connection()\n\u001b[0;32m    146\u001b[0m \u001b[39mexcept\u001b[39;00m dialect\u001b[39m.\u001b[39mloaded_dbapi\u001b[39m.\u001b[39mError \u001b[39mas\u001b[39;00m err:\n",
      "File \u001b[1;32m~\\AppData\\Local\\Packages\\PythonSoftwareFoundation.Python.3.9_qbz5n2kfra8p0\\LocalCache\\local-packages\\Python39\\site-packages\\sqlalchemy\\engine\\base.py:3269\u001b[0m, in \u001b[0;36mEngine.raw_connection\u001b[1;34m(self)\u001b[0m\n\u001b[0;32m   3248\u001b[0m \u001b[39m\u001b[39m\u001b[39m\"\"\"Return a \"raw\" DBAPI connection from the connection pool.\u001b[39;00m\n\u001b[0;32m   3249\u001b[0m \n\u001b[0;32m   3250\u001b[0m \u001b[39mThe returned object is a proxied version of the DBAPI\u001b[39;00m\n\u001b[1;32m   (...)\u001b[0m\n\u001b[0;32m   3267\u001b[0m \n\u001b[0;32m   3268\u001b[0m \u001b[39m\"\"\"\u001b[39;00m\n\u001b[1;32m-> 3269\u001b[0m \u001b[39mreturn\u001b[39;00m \u001b[39mself\u001b[39;49m\u001b[39m.\u001b[39;49mpool\u001b[39m.\u001b[39;49mconnect()\n",
      "File \u001b[1;32m~\\AppData\\Local\\Packages\\PythonSoftwareFoundation.Python.3.9_qbz5n2kfra8p0\\LocalCache\\local-packages\\Python39\\site-packages\\sqlalchemy\\pool\\base.py:452\u001b[0m, in \u001b[0;36mPool.connect\u001b[1;34m(self)\u001b[0m\n\u001b[0;32m    445\u001b[0m \u001b[39m\u001b[39m\u001b[39m\"\"\"Return a DBAPI connection from the pool.\u001b[39;00m\n\u001b[0;32m    446\u001b[0m \n\u001b[0;32m    447\u001b[0m \u001b[39mThe connection is instrumented such that when its\u001b[39;00m\n\u001b[1;32m   (...)\u001b[0m\n\u001b[0;32m    450\u001b[0m \n\u001b[0;32m    451\u001b[0m \u001b[39m\"\"\"\u001b[39;00m\n\u001b[1;32m--> 452\u001b[0m \u001b[39mreturn\u001b[39;00m _ConnectionFairy\u001b[39m.\u001b[39;49m_checkout(\u001b[39mself\u001b[39;49m)\n",
      "File \u001b[1;32m~\\AppData\\Local\\Packages\\PythonSoftwareFoundation.Python.3.9_qbz5n2kfra8p0\\LocalCache\\local-packages\\Python39\\site-packages\\sqlalchemy\\pool\\base.py:1255\u001b[0m, in \u001b[0;36m_ConnectionFairy._checkout\u001b[1;34m(cls, pool, threadconns, fairy)\u001b[0m\n\u001b[0;32m   1254\u001b[0m \u001b[39mif\u001b[39;00m \u001b[39mnot\u001b[39;00m fairy:\n\u001b[1;32m-> 1255\u001b[0m     fairy \u001b[39m=\u001b[39m _ConnectionRecord\u001b[39m.\u001b[39;49mcheckout(pool)\n\u001b[0;32m   1257\u001b[0m     \u001b[39mif\u001b[39;00m threadconns \u001b[39mis\u001b[39;00m \u001b[39mnot\u001b[39;00m \u001b[39mNone\u001b[39;00m:\n",
      "File \u001b[1;32m~\\AppData\\Local\\Packages\\PythonSoftwareFoundation.Python.3.9_qbz5n2kfra8p0\\LocalCache\\local-packages\\Python39\\site-packages\\sqlalchemy\\pool\\base.py:716\u001b[0m, in \u001b[0;36m_ConnectionRecord.checkout\u001b[1;34m(cls, pool)\u001b[0m\n\u001b[0;32m    715\u001b[0m \u001b[39melse\u001b[39;00m:\n\u001b[1;32m--> 716\u001b[0m     rec \u001b[39m=\u001b[39m pool\u001b[39m.\u001b[39;49m_do_get()\n\u001b[0;32m    718\u001b[0m \u001b[39mtry\u001b[39;00m:\n",
      "File \u001b[1;32m~\\AppData\\Local\\Packages\\PythonSoftwareFoundation.Python.3.9_qbz5n2kfra8p0\\LocalCache\\local-packages\\Python39\\site-packages\\sqlalchemy\\pool\\impl.py:169\u001b[0m, in \u001b[0;36mQueuePool._do_get\u001b[1;34m(self)\u001b[0m\n\u001b[0;32m    168\u001b[0m \u001b[39mwith\u001b[39;00m util\u001b[39m.\u001b[39msafe_reraise():\n\u001b[1;32m--> 169\u001b[0m     \u001b[39mself\u001b[39m\u001b[39m.\u001b[39m_dec_overflow()\n\u001b[0;32m    170\u001b[0m \u001b[39mraise\u001b[39;00m\n",
      "File \u001b[1;32m~\\AppData\\Local\\Packages\\PythonSoftwareFoundation.Python.3.9_qbz5n2kfra8p0\\LocalCache\\local-packages\\Python39\\site-packages\\sqlalchemy\\util\\langhelpers.py:147\u001b[0m, in \u001b[0;36msafe_reraise.__exit__\u001b[1;34m(self, type_, value, traceback)\u001b[0m\n\u001b[0;32m    146\u001b[0m     \u001b[39mself\u001b[39m\u001b[39m.\u001b[39m_exc_info \u001b[39m=\u001b[39m \u001b[39mNone\u001b[39;00m  \u001b[39m# remove potential circular references\u001b[39;00m\n\u001b[1;32m--> 147\u001b[0m     \u001b[39mraise\u001b[39;00m exc_value\u001b[39m.\u001b[39mwith_traceback(exc_tb)\n\u001b[0;32m    148\u001b[0m \u001b[39melse\u001b[39;00m:\n",
      "File \u001b[1;32m~\\AppData\\Local\\Packages\\PythonSoftwareFoundation.Python.3.9_qbz5n2kfra8p0\\LocalCache\\local-packages\\Python39\\site-packages\\sqlalchemy\\pool\\impl.py:166\u001b[0m, in \u001b[0;36mQueuePool._do_get\u001b[1;34m(self)\u001b[0m\n\u001b[0;32m    165\u001b[0m \u001b[39mtry\u001b[39;00m:\n\u001b[1;32m--> 166\u001b[0m     \u001b[39mreturn\u001b[39;00m \u001b[39mself\u001b[39;49m\u001b[39m.\u001b[39;49m_create_connection()\n\u001b[0;32m    167\u001b[0m \u001b[39mexcept\u001b[39;00m:\n",
      "File \u001b[1;32m~\\AppData\\Local\\Packages\\PythonSoftwareFoundation.Python.3.9_qbz5n2kfra8p0\\LocalCache\\local-packages\\Python39\\site-packages\\sqlalchemy\\pool\\base.py:393\u001b[0m, in \u001b[0;36mPool._create_connection\u001b[1;34m(self)\u001b[0m\n\u001b[0;32m    391\u001b[0m \u001b[39m\u001b[39m\u001b[39m\"\"\"Called by subclasses to create a new ConnectionRecord.\"\"\"\u001b[39;00m\n\u001b[1;32m--> 393\u001b[0m \u001b[39mreturn\u001b[39;00m _ConnectionRecord(\u001b[39mself\u001b[39;49m)\n",
      "File \u001b[1;32m~\\AppData\\Local\\Packages\\PythonSoftwareFoundation.Python.3.9_qbz5n2kfra8p0\\LocalCache\\local-packages\\Python39\\site-packages\\sqlalchemy\\pool\\base.py:678\u001b[0m, in \u001b[0;36m_ConnectionRecord.__init__\u001b[1;34m(self, pool, connect)\u001b[0m\n\u001b[0;32m    677\u001b[0m \u001b[39mif\u001b[39;00m connect:\n\u001b[1;32m--> 678\u001b[0m     \u001b[39mself\u001b[39;49m\u001b[39m.\u001b[39;49m__connect()\n\u001b[0;32m    679\u001b[0m \u001b[39mself\u001b[39m\u001b[39m.\u001b[39mfinalize_callback \u001b[39m=\u001b[39m deque()\n",
      "File \u001b[1;32m~\\AppData\\Local\\Packages\\PythonSoftwareFoundation.Python.3.9_qbz5n2kfra8p0\\LocalCache\\local-packages\\Python39\\site-packages\\sqlalchemy\\pool\\base.py:903\u001b[0m, in \u001b[0;36m_ConnectionRecord.__connect\u001b[1;34m(self)\u001b[0m\n\u001b[0;32m    902\u001b[0m     \u001b[39mwith\u001b[39;00m util\u001b[39m.\u001b[39msafe_reraise():\n\u001b[1;32m--> 903\u001b[0m         pool\u001b[39m.\u001b[39mlogger\u001b[39m.\u001b[39mdebug(\u001b[39m\"\u001b[39m\u001b[39mError on connect(): \u001b[39m\u001b[39m%s\u001b[39;00m\u001b[39m\"\u001b[39m, e)\n\u001b[0;32m    904\u001b[0m \u001b[39melse\u001b[39;00m:\n\u001b[0;32m    905\u001b[0m     \u001b[39m# in SQLAlchemy 1.4 the first_connect event is not used by\u001b[39;00m\n\u001b[0;32m    906\u001b[0m     \u001b[39m# the engine, so this will usually not be set\u001b[39;00m\n",
      "File \u001b[1;32m~\\AppData\\Local\\Packages\\PythonSoftwareFoundation.Python.3.9_qbz5n2kfra8p0\\LocalCache\\local-packages\\Python39\\site-packages\\sqlalchemy\\util\\langhelpers.py:147\u001b[0m, in \u001b[0;36msafe_reraise.__exit__\u001b[1;34m(self, type_, value, traceback)\u001b[0m\n\u001b[0;32m    146\u001b[0m     \u001b[39mself\u001b[39m\u001b[39m.\u001b[39m_exc_info \u001b[39m=\u001b[39m \u001b[39mNone\u001b[39;00m  \u001b[39m# remove potential circular references\u001b[39;00m\n\u001b[1;32m--> 147\u001b[0m     \u001b[39mraise\u001b[39;00m exc_value\u001b[39m.\u001b[39mwith_traceback(exc_tb)\n\u001b[0;32m    148\u001b[0m \u001b[39melse\u001b[39;00m:\n",
      "File \u001b[1;32m~\\AppData\\Local\\Packages\\PythonSoftwareFoundation.Python.3.9_qbz5n2kfra8p0\\LocalCache\\local-packages\\Python39\\site-packages\\sqlalchemy\\pool\\base.py:898\u001b[0m, in \u001b[0;36m_ConnectionRecord.__connect\u001b[1;34m(self)\u001b[0m\n\u001b[0;32m    897\u001b[0m \u001b[39mself\u001b[39m\u001b[39m.\u001b[39mstarttime \u001b[39m=\u001b[39m time\u001b[39m.\u001b[39mtime()\n\u001b[1;32m--> 898\u001b[0m \u001b[39mself\u001b[39m\u001b[39m.\u001b[39mdbapi_connection \u001b[39m=\u001b[39m connection \u001b[39m=\u001b[39m pool\u001b[39m.\u001b[39;49m_invoke_creator(\u001b[39mself\u001b[39;49m)\n\u001b[0;32m    899\u001b[0m pool\u001b[39m.\u001b[39mlogger\u001b[39m.\u001b[39mdebug(\u001b[39m\"\u001b[39m\u001b[39mCreated new connection \u001b[39m\u001b[39m%r\u001b[39;00m\u001b[39m\"\u001b[39m, connection)\n",
      "File \u001b[1;32m~\\AppData\\Local\\Packages\\PythonSoftwareFoundation.Python.3.9_qbz5n2kfra8p0\\LocalCache\\local-packages\\Python39\\site-packages\\sqlalchemy\\engine\\create.py:640\u001b[0m, in \u001b[0;36mcreate_engine.<locals>.connect\u001b[1;34m(connection_record)\u001b[0m\n\u001b[0;32m    639\u001b[0m             \u001b[39mreturn\u001b[39;00m connection\n\u001b[1;32m--> 640\u001b[0m \u001b[39mreturn\u001b[39;00m dialect\u001b[39m.\u001b[39mconnect(\u001b[39m*\u001b[39mcargs, \u001b[39m*\u001b[39m\u001b[39m*\u001b[39mcparams)\n",
      "File \u001b[1;32m~\\AppData\\Local\\Packages\\PythonSoftwareFoundation.Python.3.9_qbz5n2kfra8p0\\LocalCache\\local-packages\\Python39\\site-packages\\sqlalchemy\\engine\\default.py:580\u001b[0m, in \u001b[0;36mDefaultDialect.connect\u001b[1;34m(self, *cargs, **cparams)\u001b[0m\n\u001b[0;32m    578\u001b[0m \u001b[39mdef\u001b[39;00m \u001b[39mconnect\u001b[39m(\u001b[39mself\u001b[39m, \u001b[39m*\u001b[39mcargs, \u001b[39m*\u001b[39m\u001b[39m*\u001b[39mcparams):\n\u001b[0;32m    579\u001b[0m     \u001b[39m# inherits the docstring from interfaces.Dialect.connect\u001b[39;00m\n\u001b[1;32m--> 580\u001b[0m     \u001b[39mreturn\u001b[39;00m \u001b[39mself\u001b[39m\u001b[39m.\u001b[39mloaded_dbapi\u001b[39m.\u001b[39mconnect(\u001b[39m*\u001b[39mcargs, \u001b[39m*\u001b[39m\u001b[39m*\u001b[39mcparams)\n",
      "\u001b[1;31mOperationalError\u001b[0m: unable to open database file",
      "\nThe above exception was the direct cause of the following exception:\n",
      "\u001b[1;31mOperationalError\u001b[0m                          Traceback (most recent call last)",
      "\u001b[1;32mc:\\Users\\flore\\Studium\\Counterfactuals\\visual-counterfactuals\\evaluate_performance_initial.ipynb Cell 3\u001b[0m line \u001b[0;36m1\n\u001b[1;32m----> <a href='vscode-notebook-cell:/c%3A/Users/flore/Studium/Counterfactuals/visual-counterfactuals/evaluate_performance_initial.ipynb#W2sZmlsZQ%3D%3D?line=0'>1</a>\u001b[0m study \u001b[39m=\u001b[39m optuna\u001b[39m.\u001b[39;49mload_study(storage\u001b[39m=\u001b[39;49m\u001b[39m\"\u001b[39;49m\u001b[39msqlite://///store-01.hpi.uni-potsdam.de/fg/doellner/florence.boettger/counterfactuals/optimize_counterfactuals_full.db\u001b[39;49m\u001b[39m\"\u001b[39;49m, study_name\u001b[39m=\u001b[39;49m\u001b[39m\"\u001b[39;49m\u001b[39moptimize_counterfactuals_performance_vgg_final\u001b[39;49m\u001b[39m\"\u001b[39;49m)\n",
      "File \u001b[1;32m~\\AppData\\Local\\Packages\\PythonSoftwareFoundation.Python.3.9_qbz5n2kfra8p0\\LocalCache\\local-packages\\Python39\\site-packages\\optuna\\_convert_positional_args.py:63\u001b[0m, in \u001b[0;36mconvert_positional_args.<locals>.converter_decorator.<locals>.converter_wrapper\u001b[1;34m(*args, **kwargs)\u001b[0m\n\u001b[0;32m     58\u001b[0m         \u001b[39mraise\u001b[39;00m \u001b[39mTypeError\u001b[39;00m(\n\u001b[0;32m     59\u001b[0m             \u001b[39mf\u001b[39m\u001b[39m\"\u001b[39m\u001b[39m{\u001b[39;00mfunc\u001b[39m.\u001b[39m\u001b[39m__name__\u001b[39m\u001b[39m}\u001b[39;00m\u001b[39m() got multiple values for argument \u001b[39m\u001b[39m'\u001b[39m\u001b[39m{\u001b[39;00marg_name\u001b[39m}\u001b[39;00m\u001b[39m'\u001b[39m\u001b[39m.\u001b[39m\u001b[39m\"\u001b[39m\n\u001b[0;32m     60\u001b[0m         )\n\u001b[0;32m     61\u001b[0m     kwargs[arg_name] \u001b[39m=\u001b[39m val\n\u001b[1;32m---> 63\u001b[0m \u001b[39mreturn\u001b[39;00m func(\u001b[39m*\u001b[39m\u001b[39m*\u001b[39mkwargs)\n",
      "File \u001b[1;32m~\\AppData\\Local\\Packages\\PythonSoftwareFoundation.Python.3.9_qbz5n2kfra8p0\\LocalCache\\local-packages\\Python39\\site-packages\\optuna\\study\\study.py:1260\u001b[0m, in \u001b[0;36mload_study\u001b[1;34m(study_name, storage, sampler, pruner)\u001b[0m\n\u001b[0;32m   1254\u001b[0m     study_name \u001b[39m=\u001b[39m study_summaries[\u001b[39m0\u001b[39m]\u001b[39m.\u001b[39mstudy_name\n\u001b[0;32m   1255\u001b[0m     _logger\u001b[39m.\u001b[39minfo(\n\u001b[0;32m   1256\u001b[0m         \u001b[39mf\u001b[39m\u001b[39m\"\u001b[39m\u001b[39mStudy name was omitted but trying to load \u001b[39m\u001b[39m'\u001b[39m\u001b[39m{\u001b[39;00mstudy_name\u001b[39m}\u001b[39;00m\u001b[39m'\u001b[39m\u001b[39m because that was the only \u001b[39m\u001b[39m\"\u001b[39m\n\u001b[0;32m   1257\u001b[0m         \u001b[39m\"\u001b[39m\u001b[39mstudy found in the storage.\u001b[39m\u001b[39m\"\u001b[39m\n\u001b[0;32m   1258\u001b[0m     )\n\u001b[1;32m-> 1260\u001b[0m \u001b[39mreturn\u001b[39;00m Study(study_name\u001b[39m=\u001b[39;49mstudy_name, storage\u001b[39m=\u001b[39;49mstorage, sampler\u001b[39m=\u001b[39;49msampler, pruner\u001b[39m=\u001b[39;49mpruner)\n",
      "File \u001b[1;32m~\\AppData\\Local\\Packages\\PythonSoftwareFoundation.Python.3.9_qbz5n2kfra8p0\\LocalCache\\local-packages\\Python39\\site-packages\\optuna\\study\\study.py:81\u001b[0m, in \u001b[0;36mStudy.__init__\u001b[1;34m(self, study_name, storage, sampler, pruner)\u001b[0m\n\u001b[0;32m     72\u001b[0m \u001b[39mdef\u001b[39;00m \u001b[39m__init__\u001b[39m(\n\u001b[0;32m     73\u001b[0m     \u001b[39mself\u001b[39m,\n\u001b[0;32m     74\u001b[0m     study_name: \u001b[39mstr\u001b[39m,\n\u001b[1;32m   (...)\u001b[0m\n\u001b[0;32m     77\u001b[0m     pruner: Optional[pruners\u001b[39m.\u001b[39mBasePruner] \u001b[39m=\u001b[39m \u001b[39mNone\u001b[39;00m,\n\u001b[0;32m     78\u001b[0m ) \u001b[39m-\u001b[39m\u001b[39m>\u001b[39m \u001b[39mNone\u001b[39;00m:\n\u001b[0;32m     80\u001b[0m     \u001b[39mself\u001b[39m\u001b[39m.\u001b[39mstudy_name \u001b[39m=\u001b[39m study_name\n\u001b[1;32m---> 81\u001b[0m     storage \u001b[39m=\u001b[39m storages\u001b[39m.\u001b[39;49mget_storage(storage)\n\u001b[0;32m     82\u001b[0m     study_id \u001b[39m=\u001b[39m storage\u001b[39m.\u001b[39mget_study_id_from_name(study_name)\n\u001b[0;32m     83\u001b[0m     \u001b[39mself\u001b[39m\u001b[39m.\u001b[39m_study_id \u001b[39m=\u001b[39m study_id\n",
      "File \u001b[1;32m~\\AppData\\Local\\Packages\\PythonSoftwareFoundation.Python.3.9_qbz5n2kfra8p0\\LocalCache\\local-packages\\Python39\\site-packages\\optuna\\storages\\__init__.py:43\u001b[0m, in \u001b[0;36mget_storage\u001b[1;34m(storage)\u001b[0m\n\u001b[0;32m     39\u001b[0m     \u001b[39mif\u001b[39;00m storage\u001b[39m.\u001b[39mstartswith(\u001b[39m\"\u001b[39m\u001b[39mredis\u001b[39m\u001b[39m\"\u001b[39m):\n\u001b[0;32m     40\u001b[0m         \u001b[39mraise\u001b[39;00m \u001b[39mValueError\u001b[39;00m(\n\u001b[0;32m     41\u001b[0m             \u001b[39m\"\u001b[39m\u001b[39mRedisStorage is removed at Optuna v3.1.0. Please use JournalRedisStorage instead.\u001b[39m\u001b[39m\"\u001b[39m\n\u001b[0;32m     42\u001b[0m         )\n\u001b[1;32m---> 43\u001b[0m     \u001b[39mreturn\u001b[39;00m _CachedStorage(RDBStorage(storage))\n\u001b[0;32m     44\u001b[0m \u001b[39melif\u001b[39;00m \u001b[39misinstance\u001b[39m(storage, RDBStorage):\n\u001b[0;32m     45\u001b[0m     \u001b[39mreturn\u001b[39;00m _CachedStorage(storage)\n",
      "File \u001b[1;32m~\\AppData\\Local\\Packages\\PythonSoftwareFoundation.Python.3.9_qbz5n2kfra8p0\\LocalCache\\local-packages\\Python39\\site-packages\\optuna\\storages\\_rdb\\storage.py:227\u001b[0m, in \u001b[0;36mRDBStorage.__init__\u001b[1;34m(self, url, engine_kwargs, skip_compatibility_check, heartbeat_interval, grace_period, failed_trial_callback, skip_table_creation)\u001b[0m\n\u001b[0;32m    223\u001b[0m \u001b[39mself\u001b[39m\u001b[39m.\u001b[39mscoped_session \u001b[39m=\u001b[39m sqlalchemy_orm\u001b[39m.\u001b[39mscoped_session(\n\u001b[0;32m    224\u001b[0m     sqlalchemy_orm\u001b[39m.\u001b[39msessionmaker(bind\u001b[39m=\u001b[39m\u001b[39mself\u001b[39m\u001b[39m.\u001b[39mengine)\n\u001b[0;32m    225\u001b[0m )\n\u001b[0;32m    226\u001b[0m \u001b[39mif\u001b[39;00m \u001b[39mnot\u001b[39;00m skip_table_creation:\n\u001b[1;32m--> 227\u001b[0m     models\u001b[39m.\u001b[39;49mBaseModel\u001b[39m.\u001b[39;49mmetadata\u001b[39m.\u001b[39;49mcreate_all(\u001b[39mself\u001b[39;49m\u001b[39m.\u001b[39;49mengine)\n\u001b[0;32m    229\u001b[0m \u001b[39mself\u001b[39m\u001b[39m.\u001b[39m_version_manager \u001b[39m=\u001b[39m _VersionManager(\u001b[39mself\u001b[39m\u001b[39m.\u001b[39murl, \u001b[39mself\u001b[39m\u001b[39m.\u001b[39mengine, \u001b[39mself\u001b[39m\u001b[39m.\u001b[39mscoped_session)\n\u001b[0;32m    230\u001b[0m \u001b[39mif\u001b[39;00m \u001b[39mnot\u001b[39;00m skip_compatibility_check:\n",
      "File \u001b[1;32m~\\AppData\\Local\\Packages\\PythonSoftwareFoundation.Python.3.9_qbz5n2kfra8p0\\LocalCache\\local-packages\\Python39\\site-packages\\sqlalchemy\\sql\\schema.py:5558\u001b[0m, in \u001b[0;36mMetaData.create_all\u001b[1;34m(self, bind, tables, checkfirst)\u001b[0m\n\u001b[0;32m   5534\u001b[0m \u001b[39mdef\u001b[39;00m \u001b[39mcreate_all\u001b[39m(\n\u001b[0;32m   5535\u001b[0m     \u001b[39mself\u001b[39m,\n\u001b[0;32m   5536\u001b[0m     bind: _CreateDropBind,\n\u001b[0;32m   5537\u001b[0m     tables: Optional[_typing_Sequence[Table]] \u001b[39m=\u001b[39m \u001b[39mNone\u001b[39;00m,\n\u001b[0;32m   5538\u001b[0m     checkfirst: \u001b[39mbool\u001b[39m \u001b[39m=\u001b[39m \u001b[39mTrue\u001b[39;00m,\n\u001b[0;32m   5539\u001b[0m ) \u001b[39m-\u001b[39m\u001b[39m>\u001b[39m \u001b[39mNone\u001b[39;00m:\n\u001b[0;32m   5540\u001b[0m \u001b[39m    \u001b[39m\u001b[39m\"\"\"Create all tables stored in this metadata.\u001b[39;00m\n\u001b[0;32m   5541\u001b[0m \n\u001b[0;32m   5542\u001b[0m \u001b[39m    Conditional by default, will not attempt to recreate tables already\u001b[39;00m\n\u001b[1;32m   (...)\u001b[0m\n\u001b[0;32m   5556\u001b[0m \n\u001b[0;32m   5557\u001b[0m \u001b[39m    \"\"\"\u001b[39;00m\n\u001b[1;32m-> 5558\u001b[0m     bind\u001b[39m.\u001b[39;49m_run_ddl_visitor(\n\u001b[0;32m   5559\u001b[0m         ddl\u001b[39m.\u001b[39;49mSchemaGenerator, \u001b[39mself\u001b[39;49m, checkfirst\u001b[39m=\u001b[39;49mcheckfirst, tables\u001b[39m=\u001b[39;49mtables\n\u001b[0;32m   5560\u001b[0m     )\n",
      "File \u001b[1;32m~\\AppData\\Local\\Packages\\PythonSoftwareFoundation.Python.3.9_qbz5n2kfra8p0\\LocalCache\\local-packages\\Python39\\site-packages\\sqlalchemy\\engine\\base.py:3219\u001b[0m, in \u001b[0;36mEngine._run_ddl_visitor\u001b[1;34m(self, visitorcallable, element, **kwargs)\u001b[0m\n\u001b[0;32m   3213\u001b[0m \u001b[39mdef\u001b[39;00m \u001b[39m_run_ddl_visitor\u001b[39m(\n\u001b[0;32m   3214\u001b[0m     \u001b[39mself\u001b[39m,\n\u001b[0;32m   3215\u001b[0m     visitorcallable: Type[Union[SchemaGenerator, SchemaDropper]],\n\u001b[0;32m   3216\u001b[0m     element: SchemaItem,\n\u001b[0;32m   3217\u001b[0m     \u001b[39m*\u001b[39m\u001b[39m*\u001b[39mkwargs: Any,\n\u001b[0;32m   3218\u001b[0m ) \u001b[39m-\u001b[39m\u001b[39m>\u001b[39m \u001b[39mNone\u001b[39;00m:\n\u001b[1;32m-> 3219\u001b[0m     \u001b[39mwith\u001b[39;00m \u001b[39mself\u001b[39m\u001b[39m.\u001b[39mbegin() \u001b[39mas\u001b[39;00m conn:\n\u001b[0;32m   3220\u001b[0m         conn\u001b[39m.\u001b[39m_run_ddl_visitor(visitorcallable, element, \u001b[39m*\u001b[39m\u001b[39m*\u001b[39mkwargs)\n",
      "File \u001b[1;32mC:\\Program Files\\WindowsApps\\PythonSoftwareFoundation.Python.3.9_3.9.3568.0_x64__qbz5n2kfra8p0\\lib\\contextlib.py:119\u001b[0m, in \u001b[0;36m_GeneratorContextManager.__enter__\u001b[1;34m(self)\u001b[0m\n\u001b[0;32m    117\u001b[0m \u001b[39mdel\u001b[39;00m \u001b[39mself\u001b[39m\u001b[39m.\u001b[39margs, \u001b[39mself\u001b[39m\u001b[39m.\u001b[39mkwds, \u001b[39mself\u001b[39m\u001b[39m.\u001b[39mfunc\n\u001b[0;32m    118\u001b[0m \u001b[39mtry\u001b[39;00m:\n\u001b[1;32m--> 119\u001b[0m     \u001b[39mreturn\u001b[39;00m \u001b[39mnext\u001b[39;49m(\u001b[39mself\u001b[39;49m\u001b[39m.\u001b[39;49mgen)\n\u001b[0;32m    120\u001b[0m \u001b[39mexcept\u001b[39;00m \u001b[39mStopIteration\u001b[39;00m:\n\u001b[0;32m    121\u001b[0m     \u001b[39mraise\u001b[39;00m \u001b[39mRuntimeError\u001b[39;00m(\u001b[39m\"\u001b[39m\u001b[39mgenerator didn\u001b[39m\u001b[39m'\u001b[39m\u001b[39mt yield\u001b[39m\u001b[39m\"\u001b[39m) \u001b[39mfrom\u001b[39;00m \u001b[39mNone\u001b[39m\n",
      "File \u001b[1;32m~\\AppData\\Local\\Packages\\PythonSoftwareFoundation.Python.3.9_qbz5n2kfra8p0\\LocalCache\\local-packages\\Python39\\site-packages\\sqlalchemy\\engine\\base.py:3209\u001b[0m, in \u001b[0;36mEngine.begin\u001b[1;34m(self)\u001b[0m\n\u001b[0;32m   3182\u001b[0m \u001b[39m@contextlib\u001b[39m\u001b[39m.\u001b[39mcontextmanager\n\u001b[0;32m   3183\u001b[0m \u001b[39mdef\u001b[39;00m \u001b[39mbegin\u001b[39m(\u001b[39mself\u001b[39m) \u001b[39m-\u001b[39m\u001b[39m>\u001b[39m Iterator[Connection]:\n\u001b[0;32m   3184\u001b[0m \u001b[39m    \u001b[39m\u001b[39m\"\"\"Return a context manager delivering a :class:`_engine.Connection`\u001b[39;00m\n\u001b[0;32m   3185\u001b[0m \u001b[39m    with a :class:`.Transaction` established.\u001b[39;00m\n\u001b[0;32m   3186\u001b[0m \n\u001b[1;32m   (...)\u001b[0m\n\u001b[0;32m   3207\u001b[0m \n\u001b[0;32m   3208\u001b[0m \u001b[39m    \"\"\"\u001b[39;00m\n\u001b[1;32m-> 3209\u001b[0m     \u001b[39mwith\u001b[39;00m \u001b[39mself\u001b[39;49m\u001b[39m.\u001b[39;49mconnect() \u001b[39mas\u001b[39;00m conn:\n\u001b[0;32m   3210\u001b[0m         \u001b[39mwith\u001b[39;00m conn\u001b[39m.\u001b[39mbegin():\n\u001b[0;32m   3211\u001b[0m             \u001b[39myield\u001b[39;00m conn\n",
      "File \u001b[1;32m~\\AppData\\Local\\Packages\\PythonSoftwareFoundation.Python.3.9_qbz5n2kfra8p0\\LocalCache\\local-packages\\Python39\\site-packages\\sqlalchemy\\engine\\base.py:3245\u001b[0m, in \u001b[0;36mEngine.connect\u001b[1;34m(self)\u001b[0m\n\u001b[0;32m   3222\u001b[0m \u001b[39mdef\u001b[39;00m \u001b[39mconnect\u001b[39m(\u001b[39mself\u001b[39m) \u001b[39m-\u001b[39m\u001b[39m>\u001b[39m Connection:\n\u001b[0;32m   3223\u001b[0m \u001b[39m    \u001b[39m\u001b[39m\"\"\"Return a new :class:`_engine.Connection` object.\u001b[39;00m\n\u001b[0;32m   3224\u001b[0m \n\u001b[0;32m   3225\u001b[0m \u001b[39m    The :class:`_engine.Connection` acts as a Python context manager, so\u001b[39;00m\n\u001b[1;32m   (...)\u001b[0m\n\u001b[0;32m   3242\u001b[0m \n\u001b[0;32m   3243\u001b[0m \u001b[39m    \"\"\"\u001b[39;00m\n\u001b[1;32m-> 3245\u001b[0m     \u001b[39mreturn\u001b[39;00m \u001b[39mself\u001b[39;49m\u001b[39m.\u001b[39;49m_connection_cls(\u001b[39mself\u001b[39;49m)\n",
      "File \u001b[1;32m~\\AppData\\Local\\Packages\\PythonSoftwareFoundation.Python.3.9_qbz5n2kfra8p0\\LocalCache\\local-packages\\Python39\\site-packages\\sqlalchemy\\engine\\base.py:147\u001b[0m, in \u001b[0;36mConnection.__init__\u001b[1;34m(self, engine, connection, _has_events, _allow_revalidate, _allow_autobegin)\u001b[0m\n\u001b[0;32m    145\u001b[0m         \u001b[39mself\u001b[39m\u001b[39m.\u001b[39m_dbapi_connection \u001b[39m=\u001b[39m engine\u001b[39m.\u001b[39mraw_connection()\n\u001b[0;32m    146\u001b[0m     \u001b[39mexcept\u001b[39;00m dialect\u001b[39m.\u001b[39mloaded_dbapi\u001b[39m.\u001b[39mError \u001b[39mas\u001b[39;00m err:\n\u001b[1;32m--> 147\u001b[0m         Connection\u001b[39m.\u001b[39;49m_handle_dbapi_exception_noconnection(\n\u001b[0;32m    148\u001b[0m             err, dialect, engine\n\u001b[0;32m    149\u001b[0m         )\n\u001b[0;32m    150\u001b[0m         \u001b[39mraise\u001b[39;00m\n\u001b[0;32m    151\u001b[0m \u001b[39melse\u001b[39;00m:\n",
      "File \u001b[1;32m~\\AppData\\Local\\Packages\\PythonSoftwareFoundation.Python.3.9_qbz5n2kfra8p0\\LocalCache\\local-packages\\Python39\\site-packages\\sqlalchemy\\engine\\base.py:2410\u001b[0m, in \u001b[0;36mConnection._handle_dbapi_exception_noconnection\u001b[1;34m(cls, e, dialect, engine, is_disconnect, invalidate_pool_on_disconnect)\u001b[0m\n\u001b[0;32m   2408\u001b[0m \u001b[39melif\u001b[39;00m should_wrap:\n\u001b[0;32m   2409\u001b[0m     \u001b[39massert\u001b[39;00m sqlalchemy_exception \u001b[39mis\u001b[39;00m \u001b[39mnot\u001b[39;00m \u001b[39mNone\u001b[39;00m\n\u001b[1;32m-> 2410\u001b[0m     \u001b[39mraise\u001b[39;00m sqlalchemy_exception\u001b[39m.\u001b[39mwith_traceback(exc_info[\u001b[39m2\u001b[39m]) \u001b[39mfrom\u001b[39;00m \u001b[39me\u001b[39;00m\n\u001b[0;32m   2411\u001b[0m \u001b[39melse\u001b[39;00m:\n\u001b[0;32m   2412\u001b[0m     \u001b[39massert\u001b[39;00m exc_info[\u001b[39m1\u001b[39m] \u001b[39mis\u001b[39;00m \u001b[39mnot\u001b[39;00m \u001b[39mNone\u001b[39;00m\n",
      "File \u001b[1;32m~\\AppData\\Local\\Packages\\PythonSoftwareFoundation.Python.3.9_qbz5n2kfra8p0\\LocalCache\\local-packages\\Python39\\site-packages\\sqlalchemy\\engine\\base.py:145\u001b[0m, in \u001b[0;36mConnection.__init__\u001b[1;34m(self, engine, connection, _has_events, _allow_revalidate, _allow_autobegin)\u001b[0m\n\u001b[0;32m    143\u001b[0m \u001b[39mif\u001b[39;00m connection \u001b[39mis\u001b[39;00m \u001b[39mNone\u001b[39;00m:\n\u001b[0;32m    144\u001b[0m     \u001b[39mtry\u001b[39;00m:\n\u001b[1;32m--> 145\u001b[0m         \u001b[39mself\u001b[39m\u001b[39m.\u001b[39m_dbapi_connection \u001b[39m=\u001b[39m engine\u001b[39m.\u001b[39;49mraw_connection()\n\u001b[0;32m    146\u001b[0m     \u001b[39mexcept\u001b[39;00m dialect\u001b[39m.\u001b[39mloaded_dbapi\u001b[39m.\u001b[39mError \u001b[39mas\u001b[39;00m err:\n\u001b[0;32m    147\u001b[0m         Connection\u001b[39m.\u001b[39m_handle_dbapi_exception_noconnection(\n\u001b[0;32m    148\u001b[0m             err, dialect, engine\n\u001b[0;32m    149\u001b[0m         )\n",
      "File \u001b[1;32m~\\AppData\\Local\\Packages\\PythonSoftwareFoundation.Python.3.9_qbz5n2kfra8p0\\LocalCache\\local-packages\\Python39\\site-packages\\sqlalchemy\\engine\\base.py:3269\u001b[0m, in \u001b[0;36mEngine.raw_connection\u001b[1;34m(self)\u001b[0m\n\u001b[0;32m   3247\u001b[0m \u001b[39mdef\u001b[39;00m \u001b[39mraw_connection\u001b[39m(\u001b[39mself\u001b[39m) \u001b[39m-\u001b[39m\u001b[39m>\u001b[39m PoolProxiedConnection:\n\u001b[0;32m   3248\u001b[0m \u001b[39m    \u001b[39m\u001b[39m\"\"\"Return a \"raw\" DBAPI connection from the connection pool.\u001b[39;00m\n\u001b[0;32m   3249\u001b[0m \n\u001b[0;32m   3250\u001b[0m \u001b[39m    The returned object is a proxied version of the DBAPI\u001b[39;00m\n\u001b[1;32m   (...)\u001b[0m\n\u001b[0;32m   3267\u001b[0m \n\u001b[0;32m   3268\u001b[0m \u001b[39m    \"\"\"\u001b[39;00m\n\u001b[1;32m-> 3269\u001b[0m     \u001b[39mreturn\u001b[39;00m \u001b[39mself\u001b[39;49m\u001b[39m.\u001b[39;49mpool\u001b[39m.\u001b[39;49mconnect()\n",
      "File \u001b[1;32m~\\AppData\\Local\\Packages\\PythonSoftwareFoundation.Python.3.9_qbz5n2kfra8p0\\LocalCache\\local-packages\\Python39\\site-packages\\sqlalchemy\\pool\\base.py:452\u001b[0m, in \u001b[0;36mPool.connect\u001b[1;34m(self)\u001b[0m\n\u001b[0;32m    444\u001b[0m \u001b[39mdef\u001b[39;00m \u001b[39mconnect\u001b[39m(\u001b[39mself\u001b[39m) \u001b[39m-\u001b[39m\u001b[39m>\u001b[39m PoolProxiedConnection:\n\u001b[0;32m    445\u001b[0m \u001b[39m    \u001b[39m\u001b[39m\"\"\"Return a DBAPI connection from the pool.\u001b[39;00m\n\u001b[0;32m    446\u001b[0m \n\u001b[0;32m    447\u001b[0m \u001b[39m    The connection is instrumented such that when its\u001b[39;00m\n\u001b[1;32m   (...)\u001b[0m\n\u001b[0;32m    450\u001b[0m \n\u001b[0;32m    451\u001b[0m \u001b[39m    \"\"\"\u001b[39;00m\n\u001b[1;32m--> 452\u001b[0m     \u001b[39mreturn\u001b[39;00m _ConnectionFairy\u001b[39m.\u001b[39;49m_checkout(\u001b[39mself\u001b[39;49m)\n",
      "File \u001b[1;32m~\\AppData\\Local\\Packages\\PythonSoftwareFoundation.Python.3.9_qbz5n2kfra8p0\\LocalCache\\local-packages\\Python39\\site-packages\\sqlalchemy\\pool\\base.py:1255\u001b[0m, in \u001b[0;36m_ConnectionFairy._checkout\u001b[1;34m(cls, pool, threadconns, fairy)\u001b[0m\n\u001b[0;32m   1247\u001b[0m \u001b[39m@classmethod\u001b[39m\n\u001b[0;32m   1248\u001b[0m \u001b[39mdef\u001b[39;00m \u001b[39m_checkout\u001b[39m(\n\u001b[0;32m   1249\u001b[0m     \u001b[39mcls\u001b[39m,\n\u001b[1;32m   (...)\u001b[0m\n\u001b[0;32m   1252\u001b[0m     fairy: Optional[_ConnectionFairy] \u001b[39m=\u001b[39m \u001b[39mNone\u001b[39;00m,\n\u001b[0;32m   1253\u001b[0m ) \u001b[39m-\u001b[39m\u001b[39m>\u001b[39m _ConnectionFairy:\n\u001b[0;32m   1254\u001b[0m     \u001b[39mif\u001b[39;00m \u001b[39mnot\u001b[39;00m fairy:\n\u001b[1;32m-> 1255\u001b[0m         fairy \u001b[39m=\u001b[39m _ConnectionRecord\u001b[39m.\u001b[39;49mcheckout(pool)\n\u001b[0;32m   1257\u001b[0m         \u001b[39mif\u001b[39;00m threadconns \u001b[39mis\u001b[39;00m \u001b[39mnot\u001b[39;00m \u001b[39mNone\u001b[39;00m:\n\u001b[0;32m   1258\u001b[0m             threadconns\u001b[39m.\u001b[39mcurrent \u001b[39m=\u001b[39m weakref\u001b[39m.\u001b[39mref(fairy)\n",
      "File \u001b[1;32m~\\AppData\\Local\\Packages\\PythonSoftwareFoundation.Python.3.9_qbz5n2kfra8p0\\LocalCache\\local-packages\\Python39\\site-packages\\sqlalchemy\\pool\\base.py:716\u001b[0m, in \u001b[0;36m_ConnectionRecord.checkout\u001b[1;34m(cls, pool)\u001b[0m\n\u001b[0;32m    714\u001b[0m     rec \u001b[39m=\u001b[39m cast(_ConnectionRecord, pool\u001b[39m.\u001b[39m_do_get())\n\u001b[0;32m    715\u001b[0m \u001b[39melse\u001b[39;00m:\n\u001b[1;32m--> 716\u001b[0m     rec \u001b[39m=\u001b[39m pool\u001b[39m.\u001b[39;49m_do_get()\n\u001b[0;32m    718\u001b[0m \u001b[39mtry\u001b[39;00m:\n\u001b[0;32m    719\u001b[0m     dbapi_connection \u001b[39m=\u001b[39m rec\u001b[39m.\u001b[39mget_connection()\n",
      "File \u001b[1;32m~\\AppData\\Local\\Packages\\PythonSoftwareFoundation.Python.3.9_qbz5n2kfra8p0\\LocalCache\\local-packages\\Python39\\site-packages\\sqlalchemy\\pool\\impl.py:169\u001b[0m, in \u001b[0;36mQueuePool._do_get\u001b[1;34m(self)\u001b[0m\n\u001b[0;32m    167\u001b[0m     \u001b[39mexcept\u001b[39;00m:\n\u001b[0;32m    168\u001b[0m         \u001b[39mwith\u001b[39;00m util\u001b[39m.\u001b[39msafe_reraise():\n\u001b[1;32m--> 169\u001b[0m             \u001b[39mself\u001b[39m\u001b[39m.\u001b[39m_dec_overflow()\n\u001b[0;32m    170\u001b[0m         \u001b[39mraise\u001b[39;00m\n\u001b[0;32m    171\u001b[0m \u001b[39melse\u001b[39;00m:\n",
      "File \u001b[1;32m~\\AppData\\Local\\Packages\\PythonSoftwareFoundation.Python.3.9_qbz5n2kfra8p0\\LocalCache\\local-packages\\Python39\\site-packages\\sqlalchemy\\util\\langhelpers.py:147\u001b[0m, in \u001b[0;36msafe_reraise.__exit__\u001b[1;34m(self, type_, value, traceback)\u001b[0m\n\u001b[0;32m    145\u001b[0m     \u001b[39massert\u001b[39;00m exc_value \u001b[39mis\u001b[39;00m \u001b[39mnot\u001b[39;00m \u001b[39mNone\u001b[39;00m\n\u001b[0;32m    146\u001b[0m     \u001b[39mself\u001b[39m\u001b[39m.\u001b[39m_exc_info \u001b[39m=\u001b[39m \u001b[39mNone\u001b[39;00m  \u001b[39m# remove potential circular references\u001b[39;00m\n\u001b[1;32m--> 147\u001b[0m     \u001b[39mraise\u001b[39;00m exc_value\u001b[39m.\u001b[39mwith_traceback(exc_tb)\n\u001b[0;32m    148\u001b[0m \u001b[39melse\u001b[39;00m:\n\u001b[0;32m    149\u001b[0m     \u001b[39mself\u001b[39m\u001b[39m.\u001b[39m_exc_info \u001b[39m=\u001b[39m \u001b[39mNone\u001b[39;00m  \u001b[39m# remove potential circular references\u001b[39;00m\n",
      "File \u001b[1;32m~\\AppData\\Local\\Packages\\PythonSoftwareFoundation.Python.3.9_qbz5n2kfra8p0\\LocalCache\\local-packages\\Python39\\site-packages\\sqlalchemy\\pool\\impl.py:166\u001b[0m, in \u001b[0;36mQueuePool._do_get\u001b[1;34m(self)\u001b[0m\n\u001b[0;32m    164\u001b[0m \u001b[39mif\u001b[39;00m \u001b[39mself\u001b[39m\u001b[39m.\u001b[39m_inc_overflow():\n\u001b[0;32m    165\u001b[0m     \u001b[39mtry\u001b[39;00m:\n\u001b[1;32m--> 166\u001b[0m         \u001b[39mreturn\u001b[39;00m \u001b[39mself\u001b[39;49m\u001b[39m.\u001b[39;49m_create_connection()\n\u001b[0;32m    167\u001b[0m     \u001b[39mexcept\u001b[39;00m:\n\u001b[0;32m    168\u001b[0m         \u001b[39mwith\u001b[39;00m util\u001b[39m.\u001b[39msafe_reraise():\n",
      "File \u001b[1;32m~\\AppData\\Local\\Packages\\PythonSoftwareFoundation.Python.3.9_qbz5n2kfra8p0\\LocalCache\\local-packages\\Python39\\site-packages\\sqlalchemy\\pool\\base.py:393\u001b[0m, in \u001b[0;36mPool._create_connection\u001b[1;34m(self)\u001b[0m\n\u001b[0;32m    390\u001b[0m \u001b[39mdef\u001b[39;00m \u001b[39m_create_connection\u001b[39m(\u001b[39mself\u001b[39m) \u001b[39m-\u001b[39m\u001b[39m>\u001b[39m ConnectionPoolEntry:\n\u001b[0;32m    391\u001b[0m \u001b[39m    \u001b[39m\u001b[39m\"\"\"Called by subclasses to create a new ConnectionRecord.\"\"\"\u001b[39;00m\n\u001b[1;32m--> 393\u001b[0m     \u001b[39mreturn\u001b[39;00m _ConnectionRecord(\u001b[39mself\u001b[39;49m)\n",
      "File \u001b[1;32m~\\AppData\\Local\\Packages\\PythonSoftwareFoundation.Python.3.9_qbz5n2kfra8p0\\LocalCache\\local-packages\\Python39\\site-packages\\sqlalchemy\\pool\\base.py:678\u001b[0m, in \u001b[0;36m_ConnectionRecord.__init__\u001b[1;34m(self, pool, connect)\u001b[0m\n\u001b[0;32m    676\u001b[0m \u001b[39mself\u001b[39m\u001b[39m.\u001b[39m__pool \u001b[39m=\u001b[39m pool\n\u001b[0;32m    677\u001b[0m \u001b[39mif\u001b[39;00m connect:\n\u001b[1;32m--> 678\u001b[0m     \u001b[39mself\u001b[39;49m\u001b[39m.\u001b[39;49m__connect()\n\u001b[0;32m    679\u001b[0m \u001b[39mself\u001b[39m\u001b[39m.\u001b[39mfinalize_callback \u001b[39m=\u001b[39m deque()\n",
      "File \u001b[1;32m~\\AppData\\Local\\Packages\\PythonSoftwareFoundation.Python.3.9_qbz5n2kfra8p0\\LocalCache\\local-packages\\Python39\\site-packages\\sqlalchemy\\pool\\base.py:903\u001b[0m, in \u001b[0;36m_ConnectionRecord.__connect\u001b[1;34m(self)\u001b[0m\n\u001b[0;32m    901\u001b[0m \u001b[39mexcept\u001b[39;00m \u001b[39mBaseException\u001b[39;00m \u001b[39mas\u001b[39;00m e:\n\u001b[0;32m    902\u001b[0m     \u001b[39mwith\u001b[39;00m util\u001b[39m.\u001b[39msafe_reraise():\n\u001b[1;32m--> 903\u001b[0m         pool\u001b[39m.\u001b[39mlogger\u001b[39m.\u001b[39mdebug(\u001b[39m\"\u001b[39m\u001b[39mError on connect(): \u001b[39m\u001b[39m%s\u001b[39;00m\u001b[39m\"\u001b[39m, e)\n\u001b[0;32m    904\u001b[0m \u001b[39melse\u001b[39;00m:\n\u001b[0;32m    905\u001b[0m     \u001b[39m# in SQLAlchemy 1.4 the first_connect event is not used by\u001b[39;00m\n\u001b[0;32m    906\u001b[0m     \u001b[39m# the engine, so this will usually not be set\u001b[39;00m\n\u001b[0;32m    907\u001b[0m     \u001b[39mif\u001b[39;00m pool\u001b[39m.\u001b[39mdispatch\u001b[39m.\u001b[39mfirst_connect:\n",
      "File \u001b[1;32m~\\AppData\\Local\\Packages\\PythonSoftwareFoundation.Python.3.9_qbz5n2kfra8p0\\LocalCache\\local-packages\\Python39\\site-packages\\sqlalchemy\\util\\langhelpers.py:147\u001b[0m, in \u001b[0;36msafe_reraise.__exit__\u001b[1;34m(self, type_, value, traceback)\u001b[0m\n\u001b[0;32m    145\u001b[0m     \u001b[39massert\u001b[39;00m exc_value \u001b[39mis\u001b[39;00m \u001b[39mnot\u001b[39;00m \u001b[39mNone\u001b[39;00m\n\u001b[0;32m    146\u001b[0m     \u001b[39mself\u001b[39m\u001b[39m.\u001b[39m_exc_info \u001b[39m=\u001b[39m \u001b[39mNone\u001b[39;00m  \u001b[39m# remove potential circular references\u001b[39;00m\n\u001b[1;32m--> 147\u001b[0m     \u001b[39mraise\u001b[39;00m exc_value\u001b[39m.\u001b[39mwith_traceback(exc_tb)\n\u001b[0;32m    148\u001b[0m \u001b[39melse\u001b[39;00m:\n\u001b[0;32m    149\u001b[0m     \u001b[39mself\u001b[39m\u001b[39m.\u001b[39m_exc_info \u001b[39m=\u001b[39m \u001b[39mNone\u001b[39;00m  \u001b[39m# remove potential circular references\u001b[39;00m\n",
      "File \u001b[1;32m~\\AppData\\Local\\Packages\\PythonSoftwareFoundation.Python.3.9_qbz5n2kfra8p0\\LocalCache\\local-packages\\Python39\\site-packages\\sqlalchemy\\pool\\base.py:898\u001b[0m, in \u001b[0;36m_ConnectionRecord.__connect\u001b[1;34m(self)\u001b[0m\n\u001b[0;32m    896\u001b[0m \u001b[39mtry\u001b[39;00m:\n\u001b[0;32m    897\u001b[0m     \u001b[39mself\u001b[39m\u001b[39m.\u001b[39mstarttime \u001b[39m=\u001b[39m time\u001b[39m.\u001b[39mtime()\n\u001b[1;32m--> 898\u001b[0m     \u001b[39mself\u001b[39m\u001b[39m.\u001b[39mdbapi_connection \u001b[39m=\u001b[39m connection \u001b[39m=\u001b[39m pool\u001b[39m.\u001b[39;49m_invoke_creator(\u001b[39mself\u001b[39;49m)\n\u001b[0;32m    899\u001b[0m     pool\u001b[39m.\u001b[39mlogger\u001b[39m.\u001b[39mdebug(\u001b[39m\"\u001b[39m\u001b[39mCreated new connection \u001b[39m\u001b[39m%r\u001b[39;00m\u001b[39m\"\u001b[39m, connection)\n\u001b[0;32m    900\u001b[0m     \u001b[39mself\u001b[39m\u001b[39m.\u001b[39mfresh \u001b[39m=\u001b[39m \u001b[39mTrue\u001b[39;00m\n",
      "File \u001b[1;32m~\\AppData\\Local\\Packages\\PythonSoftwareFoundation.Python.3.9_qbz5n2kfra8p0\\LocalCache\\local-packages\\Python39\\site-packages\\sqlalchemy\\engine\\create.py:640\u001b[0m, in \u001b[0;36mcreate_engine.<locals>.connect\u001b[1;34m(connection_record)\u001b[0m\n\u001b[0;32m    638\u001b[0m         \u001b[39mif\u001b[39;00m connection \u001b[39mis\u001b[39;00m \u001b[39mnot\u001b[39;00m \u001b[39mNone\u001b[39;00m:\n\u001b[0;32m    639\u001b[0m             \u001b[39mreturn\u001b[39;00m connection\n\u001b[1;32m--> 640\u001b[0m \u001b[39mreturn\u001b[39;00m dialect\u001b[39m.\u001b[39mconnect(\u001b[39m*\u001b[39mcargs, \u001b[39m*\u001b[39m\u001b[39m*\u001b[39mcparams)\n",
      "File \u001b[1;32m~\\AppData\\Local\\Packages\\PythonSoftwareFoundation.Python.3.9_qbz5n2kfra8p0\\LocalCache\\local-packages\\Python39\\site-packages\\sqlalchemy\\engine\\default.py:580\u001b[0m, in \u001b[0;36mDefaultDialect.connect\u001b[1;34m(self, *cargs, **cparams)\u001b[0m\n\u001b[0;32m    578\u001b[0m \u001b[39mdef\u001b[39;00m \u001b[39mconnect\u001b[39m(\u001b[39mself\u001b[39m, \u001b[39m*\u001b[39mcargs, \u001b[39m*\u001b[39m\u001b[39m*\u001b[39mcparams):\n\u001b[0;32m    579\u001b[0m     \u001b[39m# inherits the docstring from interfaces.Dialect.connect\u001b[39;00m\n\u001b[1;32m--> 580\u001b[0m     \u001b[39mreturn\u001b[39;00m \u001b[39mself\u001b[39m\u001b[39m.\u001b[39mloaded_dbapi\u001b[39m.\u001b[39mconnect(\u001b[39m*\u001b[39mcargs, \u001b[39m*\u001b[39m\u001b[39m*\u001b[39mcparams)\n",
      "\u001b[1;31mOperationalError\u001b[0m: (sqlite3.OperationalError) unable to open database file\n(Background on this error at: https://sqlalche.me/e/20/e3q8)"
     ]
    }
   ],
   "source": [
    "study = optuna.load_study(storage=\"sqlite://///store-01.hpi.uni-potsdam.de/fg/doellner/florence.boettger/counterfactuals/optimize_counterfactuals_full.db\", study_name=\"optimize_counterfactuals_performance_vgg_final\")"
   ]
  },
  {
   "cell_type": "code",
   "execution_count": null,
   "metadata": {},
   "outputs": [
    {
     "data": {
      "application/vnd.plotly.v1+json": {
       "config": {
        "plotlyServerURL": "https://plot.ly"
       },
       "data": [
        {
         "hovertemplate": "%{text}<extra>Trial</extra>",
         "marker": {
          "color": [
           0,
           1,
           2,
           3,
           4,
           5,
           6,
           7,
           8,
           9,
           10,
           11,
           12,
           13,
           14,
           15,
           16,
           17,
           19,
           20,
           21,
           22,
           23,
           24,
           25,
           26,
           28,
           29,
           30,
           31,
           32,
           33,
           34,
           35,
           36,
           37,
           38,
           39,
           40,
           41,
           42,
           43,
           44,
           45,
           46,
           47,
           48,
           49,
           50,
           51,
           52,
           53,
           54,
           55,
           56,
           57,
           58,
           59,
           60,
           61,
           62,
           63,
           64,
           65,
           66,
           67,
           68,
           69,
           70,
           71,
           72,
           73,
           74,
           75,
           76,
           77,
           78,
           79,
           80,
           81,
           82,
           83,
           84,
           85,
           86,
           87,
           88,
           89,
           90,
           91,
           92,
           93,
           94,
           95,
           96,
           97,
           98,
           99,
           100,
           101,
           102,
           103,
           104,
           106,
           107,
           108,
           109,
           110,
           111,
           112,
           113,
           114,
           115,
           116,
           117,
           118,
           119,
           120,
           121,
           122,
           123,
           124,
           125,
           126,
           127,
           128,
           129,
           130,
           131,
           132,
           133,
           134,
           135,
           136,
           137,
           138,
           139,
           140,
           141,
           142,
           143,
           144,
           145,
           146,
           147,
           148,
           149,
           150,
           151,
           152,
           153,
           154,
           155,
           156,
           157,
           158,
           159,
           160,
           161,
           162,
           163,
           164,
           165,
           166,
           167,
           168,
           170,
           171,
           173,
           176,
           177,
           178,
           179,
           180,
           181,
           182,
           183,
           184,
           186,
           187,
           188,
           189,
           190,
           191,
           192,
           194,
           195,
           196,
           198,
           199,
           200,
           201,
           202,
           203,
           204,
           205,
           206,
           207,
           208,
           209,
           210,
           211,
           212,
           213,
           214,
           215,
           216,
           217,
           218,
           219,
           220,
           221,
           222,
           223,
           224,
           225,
           226,
           227,
           229,
           230,
           231,
           232,
           233,
           235,
           237,
           238,
           239,
           240,
           241,
           242,
           243,
           244,
           245,
           246,
           247,
           248,
           250,
           251,
           252,
           253,
           254,
           255,
           256,
           257,
           258,
           259,
           260,
           261,
           262,
           263,
           264,
           265,
           266,
           267,
           268,
           269,
           271,
           273,
           274,
           275,
           276,
           277,
           279,
           280,
           281,
           283,
           284,
           285,
           286,
           287,
           289,
           290,
           291,
           292,
           293,
           294,
           295,
           297,
           298,
           299,
           300,
           301,
           302,
           303,
           304,
           305,
           306,
           307,
           308,
           309,
           310,
           311,
           312,
           314,
           315,
           316,
           317,
           318,
           320,
           321,
           322,
           324,
           326,
           327,
           329,
           330,
           331,
           332,
           334,
           336,
           337,
           338,
           339,
           340,
           341,
           342,
           343,
           345,
           346,
           347,
           348,
           349,
           350,
           351,
           352,
           353,
           355,
           356,
           358,
           360,
           361,
           362,
           363,
           364,
           365,
           366,
           367,
           368,
           370,
           371,
           372,
           374,
           375,
           378,
           379,
           380,
           381,
           383,
           384,
           385,
           386,
           387,
           388,
           392,
           393,
           395,
           397,
           398,
           399,
           400,
           402,
           404
          ],
          "colorbar": {
           "title": {
            "text": "Trial"
           }
          },
          "colorscale": [
           [
            0,
            "rgb(247,251,255)"
           ],
           [
            0.125,
            "rgb(222,235,247)"
           ],
           [
            0.25,
            "rgb(198,219,239)"
           ],
           [
            0.375,
            "rgb(158,202,225)"
           ],
           [
            0.5,
            "rgb(107,174,214)"
           ],
           [
            0.625,
            "rgb(66,146,198)"
           ],
           [
            0.75,
            "rgb(33,113,181)"
           ],
           [
            0.875,
            "rgb(8,81,156)"
           ],
           [
            1,
            "rgb(8,48,107)"
           ]
          ],
          "line": {
           "color": "Grey",
           "width": 0.5
          }
         },
         "mode": "markers",
         "showlegend": false,
         "text": [
          "{<br>  \"number\": 0,<br>  \"values\": [<br>    0.48088474025974026,<br>    5.586034912718205<br>  ],<br>  \"params\": {<br>    \"lambd\": 1.8001787197688977,<br>    \"lambd2\": 1.8681403675211727,<br>    \"max_dist\": 1.3587263118584252<br>  }<br>}",
          "{<br>  \"number\": 1,<br>  \"values\": [<br>    0.6546082674820315,<br>    5.7091362502833825<br>  ],<br>  \"params\": {<br>    \"lambd\": 1.7998753685152207,<br>    \"lambd2\": 3.0741259196515758,<br>    \"max_dist\": 0.4713062474189832<br>  }<br>}",
          "{<br>  \"number\": 2,<br>  \"values\": [<br>    0.8130084624504313,<br>    5.545454545454546<br>  ],<br>  \"params\": {<br>    \"lambd\": 1.3740568678154383,<br>    \"lambd2\": 7.375156122685929,<br>    \"max_dist\": 0.387437664171395<br>  }<br>}",
          "{<br>  \"number\": 3,<br>  \"values\": [<br>    0.7811731647348086,<br>    5.808886873724779<br>  ],<br>  \"params\": {<br>    \"lambd\": 1.7657492699963715,<br>    \"lambd2\": 8.177666937603124,<br>    \"max_dist\": 0.47713016492359206<br>  }<br>}",
          "{<br>  \"number\": 4,<br>  \"values\": [<br>    0.6834572284477977,<br>    4.086601677624121<br>  ],<br>  \"params\": {<br>    \"lambd\": 0.32531925631233594,<br>    \"lambd2\": 6.11518702394387,<br>    \"max_dist\": 1.8739539250579096<br>  }<br>}",
          "{<br>  \"number\": 5,<br>  \"values\": [<br>    0.6672475424486148,<br>    5.073679437769213<br>  ],<br>  \"params\": {<br>    \"lambd\": 1.141933572634529,<br>    \"lambd2\": 6.956534896181179,<br>    \"max_dist\": 1.576000627553724<br>  }<br>}",
          "{<br>  \"number\": 6,<br>  \"values\": [<br>    0.7877918480411555,<br>    4.583087735207436<br>  ],<br>  \"params\": {<br>    \"lambd\": 0.5936049810611856,<br>    \"lambd2\": 9.3193694778666,<br>    \"max_dist\": 1.1234598225715513<br>  }<br>}",
          "{<br>  \"number\": 7,<br>  \"values\": [<br>    0.450367269892076,<br>    5.524597596916799<br>  ],<br>  \"params\": {<br>    \"lambd\": 1.6704132650980374,<br>    \"lambd2\": 1.1870241205676346,<br>    \"max_dist\": 1.3375226081220926<br>  }<br>}",
          "{<br>  \"number\": 8,<br>  \"values\": [<br>    0.6755596939395166,<br>    5.59986397642258<br>  ],<br>  \"params\": {<br>    \"lambd\": 1.6655768329058773,<br>    \"lambd2\": 4.220489147045694,<br>    \"max_dist\": 0.6392722359876684<br>  }<br>}",
          "{<br>  \"number\": 9,<br>  \"values\": [<br>    0.7246972225788505,<br>    5.297438222625255<br>  ],<br>  \"params\": {<br>    \"lambd\": 1.2933669810244848,<br>    \"lambd2\": 1.6153457999881682,<br>    \"max_dist\": 0.11693366521769766<br>  }<br>}",
          "{<br>  \"number\": 10,<br>  \"values\": [<br>    0.4691765495636608,<br>    4.0525957832691<br>  ],<br>  \"params\": {<br>    \"lambd\": 0.5091561003749487,<br>    \"lambd2\": 1.4632526682243951,<br>    \"max_dist\": 2.9676782972403744<br>  }<br>}",
          "{<br>  \"number\": 11,<br>  \"values\": [<br>    0.48714039240861856,<br>    5.650192700068012<br>  ],<br>  \"params\": {<br>    \"lambd\": 1.9227673715522853,<br>    \"lambd2\": 2.813608172359335,<br>    \"max_dist\": 1.9203074929367756<br>  }<br>}",
          "{<br>  \"number\": 12,<br>  \"values\": [<br>    0.5028526632115325,<br>    5.20539560190433<br>  ],<br>  \"params\": {<br>    \"lambd\": 1.4469965003162806,<br>    \"lambd2\": 3.190509255722711,<br>    \"max_dist\": 2.5841325550245084<br>  }<br>}",
          "{<br>  \"number\": 13,<br>  \"values\": [<br>    0.5795419029334286,<br>    5.077533439129449<br>  ],<br>  \"params\": {<br>    \"lambd\": 1.2581989226220343,<br>    \"lambd2\": 4.818850777597322,<br>    \"max_dist\": 2.0843705245049957<br>  }<br>}",
          "{<br>  \"number\": 14,<br>  \"values\": [<br>    0.9250703186240605,<br>    4.916572205849014<br>  ],<br>  \"params\": {<br>    \"lambd\": 0.6302450306969036,<br>    \"lambd2\": 7.04824837009296,<br>    \"max_dist\": 0.08017004399383121<br>  }<br>}",
          "{<br>  \"number\": 15,<br>  \"values\": [<br>    0.9178684393931271,<br>    4.228746316028111<br>  ],<br>  \"params\": {<br>    \"lambd\": 0.007431264990963804,<br>    \"lambd2\": 4.463623893529725,<br>    \"max_dist\": 0.11933071741688894<br>  }<br>}",
          "{<br>  \"number\": 16,<br>  \"values\": [<br>    0.500801183286084,<br>    5.517796418045795<br>  ],<br>  \"params\": {<br>    \"lambd\": 1.759771465132334,<br>    \"lambd2\": 2.4236693846447066,<br>    \"max_dist\": 1.5398850095305776<br>  }<br>}",
          "{<br>  \"number\": 17,<br>  \"values\": [<br>    0.47142800175459587,<br>    5.6851054182725<br>  ],<br>  \"params\": {<br>    \"lambd\": 1.9768574461007828,<br>    \"lambd2\": 3.6207035441179602,<br>    \"max_dist\": 2.9943049925860437<br>  }<br>}",
          "{<br>  \"number\": 19,<br>  \"values\": [<br>    0.7675831485587583,<br>    5.112219451371571<br>  ],<br>  \"params\": {<br>    \"lambd\": 1.0356510126207417,<br>    \"lambd2\": 5.547834336140168,<br>    \"max_dist\": 0.5884373416902274<br>  }<br>}",
          "{<br>  \"number\": 20,<br>  \"values\": [<br>    0.6677455400146418,<br>    5.883699841305826<br>  ],<br>  \"params\": {<br>    \"lambd\": 1.9794040808869187,<br>    \"lambd2\": 2.773566967953185,<br>    \"max_dist\": 0.2992478028477642<br>  }<br>}",
          "{<br>  \"number\": 21,<br>  \"values\": [<br>    0.5231563575675394,<br>    4.346860122421219<br>  ],<br>  \"params\": {<br>    \"lambd\": 0.702834639229585,<br>    \"lambd2\": 1.8914328338209152,<br>    \"max_dist\": 1.9890875858982582<br>  }<br>}",
          "{<br>  \"number\": 22,<br>  \"values\": [<br>    0.7808071397048006,<br>    4.623214690546361<br>  ],<br>  \"params\": {<br>    \"lambd\": 0.6345949541686815,<br>    \"lambd2\": 6.01751198748686,<br>    \"max_dist\": 0.7541516144183399<br>  }<br>}",
          "{<br>  \"number\": 23,<br>  \"values\": [<br>    0.6357685367798246,<br>    5.402629789163455<br>  ],<br>  \"params\": {<br>    \"lambd\": 1.4989526604204015,<br>    \"lambd2\": 5.916131907910747,<br>    \"max_dist\": 1.365600633243115<br>  }<br>}",
          "{<br>  \"number\": 24,<br>  \"values\": [<br>    0.6,<br>    4.585128088868737<br>  ],<br>  \"params\": {<br>    \"lambd\": 0.8031019302573084,<br>    \"lambd2\": 6.09690858709985,<br>    \"max_dist\": 2.9654846634561434<br>  }<br>}",
          "{<br>  \"number\": 25,<br>  \"values\": [<br>    0.7002242152466368,<br>    4.044434368623895<br>  ],<br>  \"params\": {<br>    \"lambd\": 0.25916619258615214,<br>    \"lambd2\": 8.523401578061527,<br>    \"max_dist\": 2.342296663380519<br>  }<br>}",
          "{<br>  \"number\": 26,<br>  \"values\": [<br>    0.6818265682656827,<br>    4.914985264112446<br>  ],<br>  \"params\": {<br>    \"lambd\": 0.9977998993674613,<br>    \"lambd2\": 3.2016954507378115,<br>    \"max_dist\": 0.7176975174618002<br>  }<br>}",
          "{<br>  \"number\": 28,<br>  \"values\": [<br>    0.7276766595289079,<br>    4.234867377012016<br>  ],<br>  \"params\": {<br>    \"lambd\": 0.3923076811682762,<br>    \"lambd2\": 9.29527773411542,<br>    \"max_dist\": 2.0193642851078164<br>  }<br>}",
          "{<br>  \"number\": 29,<br>  \"values\": [<br>    0.5681610247026533,<br>    4.212423486737701<br>  ],<br>  \"params\": {<br>    \"lambd\": 0.5431827649134913,<br>    \"lambd2\": 3.7355548498715754,<br>    \"max_dist\": 2.651255519092924<br>  }<br>}",
          "{<br>  \"number\": 30,<br>  \"values\": [<br>    0.8039607558139535,<br>    4.991158467467694<br>  ],<br>  \"params\": {<br>    \"lambd\": 0.9344720478841801,<br>    \"lambd2\": 2.183129491719309,<br>    \"max_dist\": 0.15389572279639407<br>  }<br>}",
          "{<br>  \"number\": 31,<br>  \"values\": [<br>    0.7731283803017364,<br>    5.574926320562231<br>  ],<br>  \"params\": {<br>    \"lambd\": 1.4853160161445067,<br>    \"lambd2\": 9.02591842961126,<br>    \"max_dist\": 0.6708717436073001<br>  }<br>}",
          "{<br>  \"number\": 32,<br>  \"values\": [<br>    0.6595573224454712,<br>    4.219904783495806<br>  ],<br>  \"params\": {<br>    \"lambd\": 0.4580998583616467,<br>    \"lambd2\": 6.324744019938064,<br>    \"max_dist\": 2.190781330182258<br>  }<br>}",
          "{<br>  \"number\": 33,<br>  \"values\": [<br>    0.8769309989701339,<br>    4.842892768079801<br>  ],<br>  \"params\": {<br>    \"lambd\": 0.6567404637720475,<br>    \"lambd2\": 6.639608860402278,<br>    \"max_dist\": 0.26837817347515125<br>  }<br>}",
          "{<br>  \"number\": 34,<br>  \"values\": [<br>    0.4825599432699552,<br>    5.115166628882339<br>  ],<br>  \"params\": {<br>    \"lambd\": 1.3479271719691375,<br>    \"lambd2\": 1.584016014219376,<br>    \"max_dist\": 1.6699697588399882<br>  }<br>}",
          "{<br>  \"number\": 35,<br>  \"values\": [<br>    0.4540003970617431,<br>    5.709589662208116<br>  ],<br>  \"params\": {<br>    \"lambd\": 1.9722497324552355,<br>    \"lambd2\": 2.7836568261433725,<br>    \"max_dist\": 2.8446600342988195<br>  }<br>}",
          "{<br>  \"number\": 36,<br>  \"values\": [<br>    0.5896526680052976,<br>    5.306506461119928<br>  ],<br>  \"params\": {<br>    \"lambd\": 1.465102664956915,<br>    \"lambd2\": 5.482737995676516,<br>    \"max_dist\": 1.8798437563511143<br>  }<br>}",
          "{<br>  \"number\": 37,<br>  \"values\": [<br>    0.6937354988399071,<br>    3.9084107912038086<br>  ],<br>  \"params\": {<br>    \"lambd\": 0.08797211348064171,<br>    \"lambd2\": 6.706482983539743,<br>    \"max_dist\": 1.899306961670905<br>  }<br>}",
          "{<br>  \"number\": 38,<br>  \"values\": [<br>    0.6872958469435371,<br>    3.886647018816595<br>  ],<br>  \"params\": {<br>    \"lambd\": 0.05314421121345414,<br>    \"lambd2\": 6.579122307153963,<br>    \"max_dist\": 1.9299494388983782<br>  }<br>}",
          "{<br>  \"number\": 39,<br>  \"values\": [<br>    0.8363225598229517,<br>    4.9170256177737475<br>  ],<br>  \"params\": {<br>    \"lambd\": 0.7775724260919605,<br>    \"lambd2\": 6.301190164133978,<br>    \"max_dist\": 0.4104070176284035<br>  }<br>}",
          "{<br>  \"number\": 40,<br>  \"values\": [<br>    0.6482461404178713,<br>    4.155746996145998<br>  ],<br>  \"params\": {<br>    \"lambd\": 0.41685022439213526,<br>    \"lambd2\": 3.508328517715608,<br>    \"max_dist\": 1.332463215705947<br>  }<br>}",
          "{<br>  \"number\": 41,<br>  \"values\": [<br>    0.621690374831274,<br>    4.366810247109499<br>  ],<br>  \"params\": {<br>    \"lambd\": 0.6251223946561566,<br>    \"lambd2\": 3.7158030210019657,<br>    \"max_dist\": 1.654797573795432<br>  }<br>}",
          "{<br>  \"number\": 42,<br>  \"values\": [<br>    0.5320691024622717,<br>    4.566764905917026<br>  ],<br>  \"params\": {<br>    \"lambd\": 0.8577709901622765,<br>    \"lambd2\": 1.9171567738496598,<br>    \"max_dist\": 1.6561271683069896<br>  }<br>}",
          "{<br>  \"number\": 43,<br>  \"values\": [<br>    0.6759362107267534,<br>    5.714803899342552<br>  ],<br>  \"params\": {<br>    \"lambd\": 1.8199459174401016,<br>    \"lambd2\": 8.32073757992833,<br>    \"max_dist\": 1.1645372900530364<br>  }<br>}",
          "{<br>  \"number\": 44,<br>  \"values\": [<br>    0.5407495783107746,<br>    5.510541827250057<br>  ],<br>  \"params\": {<br>    \"lambd\": 1.753794234224289,<br>    \"lambd2\": 5.870138286954544,<br>    \"max_dist\": 2.610360884867364<br>  }<br>}",
          "{<br>  \"number\": 45,<br>  \"values\": [<br>    0.7299526820484904,<br>    5.413965087281795<br>  ],<br>  \"params\": {<br>    \"lambd\": 1.39681961333432,<br>    \"lambd2\": 2.693722484762644,<br>    \"max_dist\": 0.28193172980622205<br>  }<br>}",
          "{<br>  \"number\": 46,<br>  \"values\": [<br>    0.4828749454300115,<br>    5.712310133756517<br>  ],<br>  \"params\": {<br>    \"lambd\": 1.713322688467019,<br>    \"lambd2\": 0.858790520185595,<br>    \"max_dist\": 0.3760592569968406<br>  }<br>}",
          "{<br>  \"number\": 47,<br>  \"values\": [<br>    0.7756884740931451,<br>    4.931081387440489<br>  ],<br>  \"params\": {<br>    \"lambd\": 0.8792714491145002,<br>    \"lambd2\": 5.550883595478229,<br>    \"max_dist\": 0.6113844898230288<br>  }<br>}",
          "{<br>  \"number\": 48,<br>  \"values\": [<br>    0.6474093525906474,<br>    4.489231466787577<br>  ],<br>  \"params\": {<br>    \"lambd\": 0.6921079512746211,<br>    \"lambd2\": 8.08805408315089,<br>    \"max_dist\": 2.8363182821862667<br>  }<br>}",
          "{<br>  \"number\": 49,<br>  \"values\": [<br>    0.7199380864854407,<br>    4.686919065971435<br>  ],<br>  \"params\": {<br>    \"lambd\": 0.7605237400463629,<br>    \"lambd2\": 4.323481930091856,<br>    \"max_dist\": 0.8352320501807426<br>  }<br>}",
          "{<br>  \"number\": 50,<br>  \"values\": [<br>    0.7145100091587073,<br>    5.198141011108592<br>  ],<br>  \"params\": {<br>    \"lambd\": 1.2047405842543002,<br>    \"lambd2\": 9.192210404368385,<br>    \"max_dist\": 1.3574345764817513<br>  }<br>}",
          "{<br>  \"number\": 51,<br>  \"values\": [<br>    0.5609778387023076,<br>    4.961459986397642<br>  ],<br>  \"params\": {<br>    \"lambd\": 1.1659265326644412,<br>    \"lambd2\": 4.07785399769663,<br>    \"max_dist\": 2.1960526631440183<br>  }<br>}",
          "{<br>  \"number\": 52,<br>  \"values\": [<br>    0.8591564745242143,<br>    4.133529811834051<br>  ],<br>  \"params\": {<br>    \"lambd\": 0.007431264990963804,<br>    \"lambd2\": 4.463623893529725,<br>    \"max_dist\": 0.3079597801305235<br>  }<br>}",
          "{<br>  \"number\": 53,<br>  \"values\": [<br>    0.7108590927338418,<br>    4.517796418045795<br>  ],<br>  \"params\": {<br>    \"lambd\": 0.6345949541686815,<br>    \"lambd2\": 9.3193694778666,<br>    \"max_dist\": 2.0966281861980947<br>  }<br>}",
          "{<br>  \"number\": 54,<br>  \"values\": [<br>    0.7865719600879418,<br>    4.021537066424847<br>  ],<br>  \"params\": {<br>    \"lambd\": 0.01706522290533341,<br>    \"lambd2\": 4.485435394334839,<br>    \"max_dist\": 0.6113844898230288<br>  }<br>}",
          "{<br>  \"number\": 55,<br>  \"values\": [<br>    0.6107155848880113,<br>    4.3625028338245295<br>  ],<br>  \"params\": {<br>    \"lambd\": 0.6302450306969036,<br>    \"lambd2\": 6.09690858709985,<br>    \"max_dist\": 2.9654846634561434<br>  }<br>}",
          "{<br>  \"number\": 56,<br>  \"values\": [<br>    0.5734620024125452,<br>    3.758784856041714<br>  ],<br>  \"params\": {<br>    \"lambd\": 0.018796869203219213,<br>    \"lambd2\": 3.429857075097462,<br>    \"max_dist\": 1.899306961670905<br>  }<br>}",
          "{<br>  \"number\": 57,<br>  \"values\": [<br>    0.5475622790429993,<br>    5.5148492405350265<br>  ],<br>  \"params\": {<br>    \"lambd\": 1.753794234224289,<br>    \"lambd2\": 6.231667476367634,<br>    \"max_dist\": 2.610360884867364<br>  }<br>}",
          "{<br>  \"number\": 58,<br>  \"values\": [<br>    0.648436397836821,<br>    4.82090228973022<br>  ],<br>  \"params\": {<br>    \"lambd\": 0.9617302838953801,<br>    \"lambd2\": 3.7355548498715754,<br>    \"max_dist\": 1.1277085740412334<br>  }<br>}",
          "{<br>  \"number\": 59,<br>  \"values\": [<br>    0.621690374831274,<br>    4.366810247109499<br>  ],<br>  \"params\": {<br>    \"lambd\": 0.6251223946561566,<br>    \"lambd2\": 3.7158030210019657,<br>    \"max_dist\": 1.654797573795432<br>  }<br>}",
          "{<br>  \"number\": 60,<br>  \"values\": [<br>    0.7503353132784059,<br>    4.732713670369531<br>  ],<br>  \"params\": {<br>    \"lambd\": 0.7605237400463629,<br>    \"lambd2\": 4.220489147045694,<br>    \"max_dist\": 0.6392722359876684<br>  }<br>}",
          "{<br>  \"number\": 61,<br>  \"values\": [<br>    0.5452422650321074,<br>    3.8834731353434595<br>  ],<br>  \"params\": {<br>    \"lambd\": 0.2942412821671265,<br>    \"lambd2\": 1.9171567738496598,<br>    \"max_dist\": 1.6561271683069896<br>  }<br>}",
          "{<br>  \"number\": 62,<br>  \"values\": [<br>    0.707765311456951,<br>    5.6374971661754705<br>  ],<br>  \"params\": {<br>    \"lambd\": 1.6305644604814509,<br>    \"lambd2\": 2.693722484762644,<br>    \"max_dist\": 0.28193172980622205<br>  }<br>}",
          "{<br>  \"number\": 63,<br>  \"values\": [<br>    0.6592644978783593,<br>    4.808433461800045<br>  ],<br>  \"params\": {<br>    \"lambd\": 0.9267030599631705,<br>    \"lambd2\": 6.706482983539743,<br>    \"max_dist\": 1.899306961670905<br>  }<br>}",
          "{<br>  \"number\": 64,<br>  \"values\": [<br>    0.7914617006324666,<br>    5.161641351167535<br>  ],<br>  \"params\": {<br>    \"lambd\": 1.0356510126207417,<br>    \"lambd2\": 7.026465662478426,<br>    \"max_dist\": 0.5884373416902274<br>  }<br>}",
          "{<br>  \"number\": 65,<br>  \"values\": [<br>    0.7980616664522492,<br>    5.286556336431648<br>  ],<br>  \"params\": {<br>    \"lambd\": 1.1382274465581554,<br>    \"lambd2\": 7.04824837009296,<br>    \"max_dist\": 0.512114251793362<br>  }<br>}",
          "{<br>  \"number\": 66,<br>  \"values\": [<br>    0.49074156108797734,<br>    5.117660394468374<br>  ],<br>  \"params\": {<br>    \"lambd\": 1.3479271719691375,<br>    \"lambd2\": 1.584016014219376,<br>    \"max_dist\": 1.5124741630658705<br>  }<br>}",
          "{<br>  \"number\": 67,<br>  \"values\": [<br>    0.8597576919724571,<br>    5.201995012468828<br>  ],<br>  \"params\": {<br>    \"lambd\": 0.9977998993674613,<br>    \"lambd2\": 3.2016954507378115,<br>    \"max_dist\": 0.11693366521769766<br>  }<br>}",
          "{<br>  \"number\": 68,<br>  \"values\": [<br>    0.8113178294573643,<br>    4.386760371797778<br>  ],<br>  \"params\": {<br>    \"lambd\": 0.5091561003749487,<br>    \"lambd2\": 1.4632526682243951,<br>    \"max_dist\": 0.11693366521769766<br>  }<br>}",
          "{<br>  \"number\": 69,<br>  \"values\": [<br>    0.5723477008908485,<br>    5.038766719564725<br>  ],<br>  \"params\": {<br>    \"lambd\": 1.228303383103272,<br>    \"lambd2\": 4.07785399769663,<br>    \"max_dist\": 1.9147986173384375<br>  }<br>}",
          "{<br>  \"number\": 70,<br>  \"values\": [<br>    0.7525201042020614,<br>    4.003173883473135<br>  ],<br>  \"params\": {<br>    \"lambd\": 0.1645651378913413,<br>    \"lambd2\": 1.8914328338209152,<br>    \"max_dist\": 0.3551877664465073<br>  }<br>}",
          "{<br>  \"number\": 71,<br>  \"values\": [<br>    0.6123342659043912,<br>    5.591249149852641<br>  ],<br>  \"params\": {<br>    \"lambd\": 1.759771465132334,<br>    \"lambd2\": 3.877490182423352,<br>    \"max_dist\": 0.9268589642584847<br>  }<br>}",
          "{<br>  \"number\": 72,<br>  \"values\": [<br>    0.8575330649798735,<br>    4.730900022670596<br>  ],<br>  \"params\": {<br>    \"lambd\": 0.6161202301924069,<br>    \"lambd2\": 4.7646036415334,<br>    \"max_dist\": 0.26837817347515125<br>  }<br>}",
          "{<br>  \"number\": 73,<br>  \"values\": [<br>    0.7877918480411555,<br>    4.583087735207436<br>  ],<br>  \"params\": {<br>    \"lambd\": 0.5936049810611856,<br>    \"lambd2\": 9.3193694778666,<br>    \"max_dist\": 1.1234598225715513<br>  }<br>}",
          "{<br>  \"number\": 74,<br>  \"values\": [<br>    0.6709435066835789,<br>    4.647018816594876<br>  ],<br>  \"params\": {<br>    \"lambd\": 0.7775724260919605,<br>    \"lambd2\": 9.29527773411542,<br>    \"max_dist\": 2.6027678877588913<br>  }<br>}",
          "{<br>  \"number\": 75,<br>  \"values\": [<br>    0.5541893982574709,<br>    5.568351847653593<br>  ],<br>  \"params\": {<br>    \"lambd\": 1.799916861201338,<br>    \"lambd2\": 3.508328517715608,<br>    \"max_dist\": 1.332463215705947<br>  }<br>}",
          "{<br>  \"number\": 76,<br>  \"values\": [<br>    0.8753891186172932,<br>    4.879392428020857<br>  ],<br>  \"params\": {<br>    \"lambd\": 0.6921079512746211,<br>    \"lambd2\": 6.639608860402278,<br>    \"max_dist\": 0.26837817347515125<br>  }<br>}",
          "{<br>  \"number\": 77,<br>  \"values\": [<br>    0.8387882725574596,<br>    5.582861029245069<br>  ],<br>  \"params\": {<br>    \"lambd\": 1.3740568678154383,<br>    \"lambd2\": 7.375156122685929,<br>    \"max_dist\": 0.28193172980622205<br>  }<br>}",
          "{<br>  \"number\": 78,<br>  \"values\": [<br>    0.6628292153136031,<br>    4.174790296984811<br>  ],<br>  \"params\": {<br>    \"lambd\": 0.41685022439213526,<br>    \"lambd2\": 5.157759642485837,<br>    \"max_dist\": 1.7724895338633742<br>  }<br>}",
          "{<br>  \"number\": 79,<br>  \"values\": [<br>    0.6196041020748867,<br>    3.8023124008161413<br>  ],<br>  \"params\": {<br>    \"lambd\": 0.007431264990963804,<br>    \"lambd2\": 3.2032582192497028,<br>    \"max_dist\": 1.3574345764817513<br>  }<br>}",
          "{<br>  \"number\": 80,<br>  \"values\": [<br>    0.6854123792939687,<br>    5.728406257084561<br>  ],<br>  \"params\": {<br>    \"lambd\": 1.8199459174401016,<br>    \"lambd2\": 8.988868500880379,<br>    \"max_dist\": 1.1645372900530364<br>  }<br>}",
          "{<br>  \"number\": 81,<br>  \"values\": [<br>    0.7722585173586739,<br>    4.198821128995693<br>  ],<br>  \"params\": {<br>    \"lambd\": 0.307300303959789,<br>    \"lambd2\": 5.8567600364654755,<br>    \"max_dist\": 0.9281904961794878<br>  }<br>}",
          "{<br>  \"number\": 82,<br>  \"values\": [<br>    0.6404561175961954,<br>    4.194967127635457<br>  ],<br>  \"params\": {<br>    \"lambd\": 0.4580998583616467,<br>    \"lambd2\": 6.324744019938064,<br>    \"max_dist\": 2.5478097258124035<br>  }<br>}",
          "{<br>  \"number\": 83,<br>  \"values\": [<br>    0.6389197545775158,<br>    4.692586715030605<br>  ],<br>  \"params\": {<br>    \"lambd\": 0.8577709901622765,<br>    \"lambd2\": 4.753149961971818,<br>    \"max_dist\": 1.6561271683069896<br>  }<br>}",
          "{<br>  \"number\": 84,<br>  \"values\": [<br>    0.39267761394101874,<br>    5.411924733620494<br>  ],<br>  \"params\": {<br>    \"lambd\": 1.4469965003162806,<br>    \"lambd2\": 0.3323810391864923,<br>    \"max_dist\": 1.497044994532195<br>  }<br>}",
          "{<br>  \"number\": 85,<br>  \"values\": [<br>    0.7675831485587583,<br>    5.112219451371571<br>  ],<br>  \"params\": {<br>    \"lambd\": 1.0356510126207417,<br>    \"lambd2\": 5.547834336140168,<br>    \"max_dist\": 0.5884373416902274<br>  }<br>}",
          "{<br>  \"number\": 86,<br>  \"values\": [<br>    0.7151830729812381,<br>    5.4858308773520745<br>  ],<br>  \"params\": {<br>    \"lambd\": 1.4853160161445067,<br>    \"lambd2\": 6.01751198748686,<br>    \"max_dist\": 0.7541516144183399<br>  }<br>}",
          "{<br>  \"number\": 87,<br>  \"values\": [<br>    0.4452837650781096,<br>    5.732260258444797<br>  ],<br>  \"params\": {<br>    \"lambd\": 1.9173034669709805,<br>    \"lambd2\": 1.584016014219376,<br>    \"max_dist\": 1.6699697588399882<br>  }<br>}",
          "{<br>  \"number\": 88,<br>  \"values\": [<br>    0.7041452314998021,<br>    4.583087735207436<br>  ],<br>  \"params\": {<br>    \"lambd\": 0.6921079512746211,<br>    \"lambd2\": 8.08805408315089,<br>    \"max_dist\": 1.8526684026243077<br>  }<br>}",
          "{<br>  \"number\": 89,<br>  \"values\": [<br>    0.826320939334638,<br>    5.5606438449331215<br>  ],<br>  \"params\": {<br>    \"lambd\": 1.372450647449581,<br>    \"lambd2\": 6.639608860402278,<br>    \"max_dist\": 0.2992478028477642<br>  }<br>}",
          "{<br>  \"number\": 90,<br>  \"values\": [<br>    0.6321518580084723,<br>    4.227839492178644<br>  ],<br>  \"params\": {<br>    \"lambd\": 0.49740606615860994,<br>    \"lambd2\": 4.323481930091856,<br>    \"max_dist\": 1.8295878228572682<br>  }<br>}",
          "{<br>  \"number\": 91,<br>  \"values\": [<br>    0.48088474025974026,<br>    5.586034912718205<br>  ],<br>  \"params\": {<br>    \"lambd\": 1.8001787197688977,<br>    \"lambd2\": 1.8681403675211727,<br>    \"max_dist\": 1.3587263118584252<br>  }<br>}",
          "{<br>  \"number\": 92,<br>  \"values\": [<br>    0.5523959084928484,<br>    5.341419179324416<br>  ],<br>  \"params\": {<br>    \"lambd\": 1.5556168056224493,<br>    \"lambd2\": 3.7158030210019657,<br>    \"max_dist\": 1.654797573795432<br>  }<br>}",
          "{<br>  \"number\": 93,<br>  \"values\": [<br>    0.5416844025539678,<br>    3.7281795511221945<br>  ],<br>  \"params\": {<br>    \"lambd\": 0.05314421121345414,<br>    \"lambd2\": 1.8914328338209152,<br>    \"max_dist\": 1.3287910952098607<br>  }<br>}",
          "{<br>  \"number\": 94,<br>  \"values\": [<br>    0.7737445630684064,<br>    5.733393788256631<br>  ],<br>  \"params\": {<br>    \"lambd\": 1.6787082866381544,<br>    \"lambd2\": 6.301190164133978,<br>    \"max_dist\": 0.4104070176284035<br>  }<br>}",
          "{<br>  \"number\": 95,<br>  \"values\": [<br>    0.9178684393931271,<br>    4.228746316028111<br>  ],<br>  \"params\": {<br>    \"lambd\": 0.007431264990963804,<br>    \"lambd2\": 4.463623893529725,<br>    \"max_dist\": 0.11933071741688894<br>  }<br>}",
          "{<br>  \"number\": 96,<br>  \"values\": [<br>    0.46782015452901526,<br>    5.516209476309227<br>  ],<br>  \"params\": {<br>    \"lambd\": 1.759771465132334,<br>    \"lambd2\": 2.4236693846447066,<br>    \"max_dist\": 2.4008735603123363<br>  }<br>}",
          "{<br>  \"number\": 97,<br>  \"values\": [<br>    0.6676846457432813,<br>    4.825209703015189<br>  ],<br>  \"params\": {<br>    \"lambd\": 0.9344720478841801,<br>    \"lambd2\": 6.11518702394387,<br>    \"max_dist\": 1.5974750419677068<br>  }<br>}",
          "{<br>  \"number\": 98,<br>  \"values\": [<br>    0.5681610247026533,<br>    4.212423486737701<br>  ],<br>  \"params\": {<br>    \"lambd\": 0.5431827649134913,<br>    \"lambd2\": 3.7355548498715754,<br>    \"max_dist\": 2.651255519092924<br>  }<br>}",
          "{<br>  \"number\": 99,<br>  \"values\": [<br>    0.7926706438366777,<br>    5.85218771253684<br>  ],<br>  \"params\": {<br>    \"lambd\": 1.7998753685152207,<br>    \"lambd2\": 9.29527773411542,<br>    \"max_dist\": 0.4713062474189832<br>  }<br>}",
          "{<br>  \"number\": 100,<br>  \"values\": [<br>    0.6866981447035818,<br>    4.753343912944911<br>  ],<br>  \"params\": {<br>    \"lambd\": 0.8577709901622765,<br>    \"lambd2\": 7.04824837009296,<br>    \"max_dist\": 1.6561271683069896<br>  }<br>}",
          "{<br>  \"number\": 101,<br>  \"values\": [<br>    0.7612458717685913,<br>    3.9814101110859217<br>  ],<br>  \"params\": {<br>    \"lambd\": 0.020671769579967192,<br>    \"lambd2\": 8.028019417037571,<br>    \"max_dist\": 1.3587263118584252<br>  }<br>}",
          "{<br>  \"number\": 102,<br>  \"values\": [<br>    0.7475717439293599,<br>    4.107912038086602<br>  ],<br>  \"params\": {<br>    \"lambd\": 0.25916619258615214,<br>    \"lambd2\": 4.323481930091856,<br>    \"max_dist\": 0.8352320501807426<br>  }<br>}",
          "{<br>  \"number\": 103,<br>  \"values\": [<br>    0.687775435907262,<br>    4.732713670369531<br>  ],<br>  \"params\": {<br>    \"lambd\": 0.8372116446227682,<br>    \"lambd2\": 5.674618578877025,<br>    \"max_dist\": 1.3375226081220926<br>  }<br>}",
          "{<br>  \"number\": 104,<br>  \"values\": [<br>    0.8363225598229517,<br>    4.9170256177737475<br>  ],<br>  \"params\": {<br>    \"lambd\": 0.7775724260919605,<br>    \"lambd2\": 6.301190164133978,<br>    \"max_dist\": 0.4104070176284035<br>  }<br>}",
          "{<br>  \"number\": 106,<br>  \"values\": [<br>    0.7436180904522613,<br>    4.511448651099524<br>  ],<br>  \"params\": {<br>    \"lambd\": 0.5936049810611856,<br>    \"lambd2\": 9.3193694778666,<br>    \"max_dist\": 1.6430218151724767<br>  }<br>}",
          "{<br>  \"number\": 107,<br>  \"values\": [<br>    0.6696501220504475,<br>    4.457946043980956<br>  ],<br>  \"params\": {<br>    \"lambd\": 0.6345949541686815,<br>    \"lambd2\": 6.01751198748686,<br>    \"max_dist\": 1.8295878228572682<br>  }<br>}",
          "{<br>  \"number\": 108,<br>  \"values\": [<br>    0.5733140480925691,<br>    3.7617320335524824<br>  ],<br>  \"params\": {<br>    \"lambd\": 0.007431264990963804,<br>    \"lambd2\": 4.463623893529725,<br>    \"max_dist\": 2.4442131197759833<br>  }<br>}",
          "{<br>  \"number\": 109,<br>  \"values\": [<br>    0.8621102055279943,<br>    5.118113806393108<br>  ],<br>  \"params\": {<br>    \"lambd\": 0.9041491038352722,<br>    \"lambd2\": 4.485435394334839,<br>    \"max_dist\": 0.18310523591884598<br>  }<br>}",
          "{<br>  \"number\": 110,<br>  \"values\": [<br>    0.39056108431528175,<br>    3.7132169576059852<br>  ],<br>  \"params\": {<br>    \"lambd\": 0.25916619258615214,<br>    \"lambd2\": 0.5522862041954502,<br>    \"max_dist\": 2.790098605610671<br>  }<br>}",
          "{<br>  \"number\": 111,<br>  \"values\": [<br>    0.6938097428819711,<br>    4.435048741781909<br>  ],<br>  \"params\": {<br>    \"lambd\": 0.5936049810611856,<br>    \"lambd2\": 4.323481930091856,<br>    \"max_dist\": 1.1234598225715513<br>  }<br>}",
          "{<br>  \"number\": 112,<br>  \"values\": [<br>    0.6072854830005396,<br>    4.200861482656994<br>  ],<br>  \"params\": {<br>    \"lambd\": 0.49740606615860994,<br>    \"lambd2\": 4.323481930091856,<br>    \"max_dist\": 2.2159247695200865<br>  }<br>}",
          "{<br>  \"number\": 113,<br>  \"values\": [<br>    0.6664339244984406,<br>    4.870324189526184<br>  ],<br>  \"params\": {<br>    \"lambd\": 0.9750670613968055,<br>    \"lambd2\": 4.463623893529725,<br>    \"max_dist\": 1.151725371496271<br>  }<br>}",
          "{<br>  \"number\": 114,<br>  \"values\": [<br>    0.8628800143910775,<br>    5.041033779188393<br>  ],<br>  \"params\": {<br>    \"lambd\": 0.8315661977093058,<br>    \"lambd2\": 7.04824837009296,<br>    \"max_dist\": 0.3079597801305235<br>  }<br>}",
          "{<br>  \"number\": 115,<br>  \"values\": [<br>    0.6787012073613878,<br>    3.8680571299025166<br>  ],<br>  \"params\": {<br>    \"lambd\": 0.018796869203219213,<br>    \"lambd2\": 6.324744019938064,<br>    \"max_dist\": 1.899306961670905<br>  }<br>}",
          "{<br>  \"number\": 116,<br>  \"values\": [<br>    0.7289719626168224,<br>    4.317841759238268<br>  ],<br>  \"params\": {<br>    \"lambd\": 0.4580998583616467,<br>    \"lambd2\": 6.324744019938064,<br>    \"max_dist\": 1.332463215705947<br>  }<br>}",
          "{<br>  \"number\": 117,<br>  \"values\": [<br>    0.5910510841602352,<br>    4.934935388800725<br>  ],<br>  \"params\": {<br>    \"lambd\": 1.1027497135958404,<br>    \"lambd2\": 4.323481930091856,<br>    \"max_dist\": 1.8526684026243077<br>  }<br>}",
          "{<br>  \"number\": 118,<br>  \"values\": [<br>    0.8135373653955146,<br>    5.600090682384947<br>  ],<br>  \"params\": {<br>    \"lambd\": 1.4427568523052308,<br>    \"lambd2\": 3.429857075097462,<br>    \"max_dist\": 0.15183164711667319<br>  }<br>}",
          "{<br>  \"number\": 119,<br>  \"values\": [<br>    0.5698314700483897,<br>    4.075946497392882<br>  ],<br>  \"params\": {<br>    \"lambd\": 0.4336629286130713,<br>    \"lambd2\": 2.547292185310285,<br>    \"max_dist\": 1.7724895338633742<br>  }<br>}",
          "{<br>  \"number\": 120,<br>  \"values\": [<br>    0.5578936124759667,<br>    4.244842439356155<br>  ],<br>  \"params\": {<br>    \"lambd\": 0.5936049810611856,<br>    \"lambd2\": 1.6105845099490712,<br>    \"max_dist\": 1.2129645351794451<br>  }<br>}",
          "{<br>  \"number\": 121,<br>  \"values\": [<br>    0.6071469476577711,<br>    3.9587395148492406<br>  ],<br>  \"params\": {<br>    \"lambd\": 0.2942412821671265,<br>    \"lambd2\": 3.2032582192497028,<br>    \"max_dist\": 1.7140140823637737<br>  }<br>}",
          "{<br>  \"number\": 122,<br>  \"values\": [<br>    0.812565445026178,<br>    4.54658807526638<br>  ],<br>  \"params\": {<br>    \"lambd\": 0.5356314815152818,<br>    \"lambd2\": 5.157759642485837,<br>    \"max_dist\": 0.512114251793362<br>  }<br>}",
          "{<br>  \"number\": 123,<br>  \"values\": [<br>    0.8184130711280697,<br>    4.6343232827023355<br>  ],<br>  \"params\": {<br>    \"lambd\": 0.6020596354647545,<br>    \"lambd2\": 4.323481930091856,<br>    \"max_dist\": 0.387437664171395<br>  }<br>}",
          "{<br>  \"number\": 124,<br>  \"values\": [<br>    0.8026833342313702,<br>    4.207435955565631<br>  ],<br>  \"params\": {<br>    \"lambd\": 0.27209031585985355,<br>    \"lambd2\": 6.01751198748686,<br>    \"max_dist\": 0.7541516144183399<br>  }<br>}",
          "{<br>  \"number\": 125,<br>  \"values\": [<br>    0.7158601342550847,<br>    4.525504420766266<br>  ],<br>  \"params\": {<br>    \"lambd\": 0.6345949541686815,<br>    \"lambd2\": 9.3193694778666,<br>    \"max_dist\": 2.0193642851078164<br>  }<br>}",
          "{<br>  \"number\": 126,<br>  \"values\": [<br>    0.7199380864854407,<br>    4.686919065971435<br>  ],<br>  \"params\": {<br>    \"lambd\": 0.7605237400463629,<br>    \"lambd2\": 4.323481930091856,<br>    \"max_dist\": 0.8352320501807426<br>  }<br>}",
          "{<br>  \"number\": 127,<br>  \"values\": [<br>    0.6598173515981736,<br>    4.170482883699841<br>  ],<br>  \"params\": {<br>    \"lambd\": 0.41685022439213526,<br>    \"lambd2\": 8.08805408315089,<br>    \"max_dist\": 2.8363182821862667<br>  }<br>}",
          "{<br>  \"number\": 128,<br>  \"values\": [<br>    0.5389108501976517,<br>    3.842439356155067<br>  ],<br>  \"params\": {<br>    \"lambd\": 0.25916619258615214,<br>    \"lambd2\": 1.2626949386880704,<br>    \"max_dist\": 1.1234598225715513<br>  }<br>}",
          "{<br>  \"number\": 129,<br>  \"values\": [<br>    0.6224088634739099,<br>    3.8059396962140104<br>  ],<br>  \"params\": {<br>    \"lambd\": 0.020671769579967192,<br>    \"lambd2\": 3.2150316050176753,<br>    \"max_dist\": 1.3587263118584252<br>  }<br>}",
          "{<br>  \"number\": 130,<br>  \"values\": [<br>    0.8642440318302387,<br>    4.2734073906143735<br>  ],<br>  \"params\": {<br>    \"lambd\": 0.3035334617162351,<br>    \"lambd2\": 2.1267431600503994,<br>    \"max_dist\": 0.11693366521769766<br>  }<br>}",
          "{<br>  \"number\": 131,<br>  \"values\": [<br>    0.6644747934581015,<br>    4.033779188392654<br>  ],<br>  \"params\": {<br>    \"lambd\": 0.2942412821671265,<br>    \"lambd2\": 4.7646036415334,<br>    \"max_dist\": 1.675657003968752<br>  }<br>}",
          "{<br>  \"number\": 132,<br>  \"values\": [<br>    0.5919395465994962,<br>    3.780095216504194<br>  ],<br>  \"params\": {<br>    \"lambd\": 0.01706522290533341,<br>    \"lambd2\": 4.485435394334839,<br>    \"max_dist\": 2.2479195830285605<br>  }<br>}",
          "{<br>  \"number\": 133,<br>  \"values\": [<br>    0.6199614065180102,<br>    4.229426433915212<br>  ],<br>  \"params\": {<br>    \"lambd\": 0.5091561003749487,<br>    \"lambd2\": 3.429857075097462,<br>    \"max_dist\": 1.5858622616803266<br>  }<br>}",
          "{<br>  \"number\": 134,<br>  \"values\": [<br>    0.4944988146617227,<br>    3.7295397868963955<br>  ],<br>  \"params\": {<br>    \"lambd\": 0.1645651378913413,<br>    \"lambd2\": 1.8914328338209152,<br>    \"max_dist\": 2.24109415125681<br>  }<br>}",
          "{<br>  \"number\": 135,<br>  \"values\": [<br>    0.6950095537821738,<br>    4.034005894355022<br>  ],<br>  \"params\": {<br>    \"lambd\": 0.25626381678859467,<br>    \"lambd2\": 9.3193694778666,<br>    \"max_dist\": 2.6611467372214443<br>  }<br>}",
          "{<br>  \"number\": 136,<br>  \"values\": [<br>    0.6503655404070342,<br>    4.589435502153707<br>  ],<br>  \"params\": {<br>    \"lambd\": 0.7605237400463629,<br>    \"lambd2\": 4.323481930091856,<br>    \"max_dist\": 1.4471187447016125<br>  }<br>}",
          "{<br>  \"number\": 137,<br>  \"values\": [<br>    0.4024130589070263,<br>    5.749716617547041<br>  ],<br>  \"params\": {<br>    \"lambd\": 1.7556911307587386,<br>    \"lambd2\": 0.5522862041954502,<br>    \"max_dist\": 1.1234598225715513<br>  }<br>}",
          "{<br>  \"number\": 138,<br>  \"values\": [<br>    0.6016972055564564,<br>    4.194287009748356<br>  ],<br>  \"params\": {<br>    \"lambd\": 0.5091561003749487,<br>    \"lambd2\": 1.4632526682243951,<br>    \"max_dist\": 0.7731160023994703<br>  }<br>}",
          "{<br>  \"number\": 139,<br>  \"values\": [<br>    0.8938053097345132,<br>    4.201314894581728<br>  ],<br>  \"params\": {<br>    \"lambd\": 0.007431264990963804,<br>    \"lambd2\": 7.375156122685929,<br>    \"max_dist\": 0.3079597801305235<br>  }<br>}",
          "{<br>  \"number\": 140,<br>  \"values\": [<br>    0.4681188537591202,<br>    4.287916572205849<br>  ],<br>  \"params\": {<br>    \"lambd\": 0.6921079512746211,<br>    \"lambd2\": 0.5626945694392349,<br>    \"max_dist\": 1.1234598225715513<br>  }<br>}",
          "{<br>  \"number\": 141,<br>  \"values\": [<br>    0.7470629581283261,<br>    4.5155293584221265<br>  ],<br>  \"params\": {<br>    \"lambd\": 0.5936049810611856,<br>    \"lambd2\": 9.3193694778666,<br>    \"max_dist\": 1.5997411315243144<br>  }<br>}",
          "{<br>  \"number\": 142,<br>  \"values\": [<br>    0.7616442558413007,<br>    4.4341419179324415<br>  ],<br>  \"params\": {<br>    \"lambd\": 0.5091561003749487,<br>    \"lambd2\": 9.639288242756532,<br>    \"max_dist\": 1.5470923583914782<br>  }<br>}",
          "{<br>  \"number\": 143,<br>  \"values\": [<br>    0.6610378101614809,<br>    4.60485150759465<br>  ],<br>  \"params\": {<br>    \"lambd\": 0.7605237400463629,<br>    \"lambd2\": 4.323481930091856,<br>    \"max_dist\": 1.332463215705947<br>  }<br>}",
          "{<br>  \"number\": 144,<br>  \"values\": [<br>    0.6857356235997013,<br>    4.553389254137384<br>  ],<br>  \"params\": {<br>    \"lambd\": 0.6921079512746211,<br>    \"lambd2\": 7.04824837009296,<br>    \"max_dist\": 1.8526684026243077<br>  }<br>}",
          "{<br>  \"number\": 145,<br>  \"values\": [<br>    0.9369512324129906,<br>    4.286102924506914<br>  ],<br>  \"params\": {<br>    \"lambd\": 0.007431264990963804,<br>    \"lambd2\": 8.889666434568404,<br>    \"max_dist\": 0.11933071741688894<br>  }<br>}",
          "{<br>  \"number\": 146,<br>  \"values\": [<br>    0.6253937088395304,<br>    5.54228066198141<br>  ],<br>  \"params\": {<br>    \"lambd\": 1.5798225851048577,<br>    \"lambd2\": 1.8914328338209152,<br>    \"max_dist\": 0.3551877664465073<br>  }<br>}",
          "{<br>  \"number\": 147,<br>  \"values\": [<br>    0.84179136846671,<br>    4.181364769893448<br>  ],<br>  \"params\": {<br>    \"lambd\": 0.1645651378913413,<br>    \"lambd2\": 9.961045236144425,<br>    \"max_dist\": 0.8352320501807426<br>  }<br>}",
          "{<br>  \"number\": 148,<br>  \"values\": [<br>    0.7516118558374693,<br>    4.887553842666062<br>  ],<br>  \"params\": {<br>    \"lambd\": 0.8792714491145002,<br>    \"lambd2\": 4.463623893529725,<br>    \"max_dist\": 0.6113844898230288<br>  }<br>}",
          "{<br>  \"number\": 149,<br>  \"values\": [<br>    0.877659005879209,<br>    4.241668555883019<br>  ],<br>  \"params\": {<br>    \"lambd\": 0.1645651378913413,<br>    \"lambd2\": 6.579122307153963,<br>    \"max_dist\": 0.3551877664465073<br>  }<br>}",
          "{<br>  \"number\": 150,<br>  \"values\": [<br>    0.720141985195446,<br>    5.237134436635683<br>  ],<br>  \"params\": {<br>    \"lambd\": 1.248852041855234,<br>    \"lambd2\": 2.199998666651364,<br>    \"max_dist\": 0.26837817347515125<br>  }<br>}",
          "{<br>  \"number\": 151,<br>  \"values\": [<br>    0.7786013352947833,<br>    4.0068011788710045<br>  ],<br>  \"params\": {<br>    \"lambd\": 0.007431264990963804,<br>    \"lambd2\": 9.3193694778666,<br>    \"max_dist\": 1.3574345764817513<br>  }<br>}",
          "{<br>  \"number\": 152,<br>  \"values\": [<br>    0.6212173463229589,<br>    5.259124914985264<br>  ],<br>  \"params\": {<br>    \"lambd\": 1.3740568678154383,<br>    \"lambd2\": 4.242433690597917,<br>    \"max_dist\": 1.1780489810725947<br>  }<br>}",
          "{<br>  \"number\": 153,<br>  \"values\": [<br>    0.633802096650473,<br>    4.433235094082974<br>  ],<br>  \"params\": {<br>    \"lambd\": 0.6567404637720475,<br>    \"lambd2\": 6.060434089501578,<br>    \"max_dist\": 2.3922234681487025<br>  }<br>}",
          "{<br>  \"number\": 154,<br>  \"values\": [<br>    0.8763639769587411,<br>    4.8408524144184994<br>  ],<br>  \"params\": {<br>    \"lambd\": 0.6567404637720475,<br>    \"lambd2\": 6.579122307153963,<br>    \"max_dist\": 0.26837817347515125<br>  }<br>}",
          "{<br>  \"number\": 155,<br>  \"values\": [<br>    0.6670776094869085,<br>    3.861709362956246<br>  ],<br>  \"params\": {<br>    \"lambd\": 0.05314421121345414,<br>    \"lambd2\": 6.579122307153963,<br>    \"max_dist\": 2.190781330182258<br>  }<br>}",
          "{<br>  \"number\": 156,<br>  \"values\": [<br>    0.816422710135285,<br>    4.08886873724779<br>  ],<br>  \"params\": {<br>    \"lambd\": 0.08797211348064171,<br>    \"lambd2\": 6.706482983539743,<br>    \"max_dist\": 0.7289656628519521<br>  }<br>}",
          "{<br>  \"number\": 157,<br>  \"values\": [<br>    0.6958708750207285,<br>    4.101337565177964<br>  ],<br>  \"params\": {<br>    \"lambd\": 0.32531925631233594,<br>    \"lambd2\": 6.639608860402278,<br>    \"max_dist\": 1.8739539250579096<br>  }<br>}",
          "{<br>  \"number\": 158,<br>  \"values\": [<br>    0.6487905604719764,<br>    3.842666062117434<br>  ],<br>  \"params\": {<br>    \"lambd\": 0.25916619258615214,<br>    \"lambd2\": 0.5522862041954502,<br>    \"max_dist\": 0.11933071741688894<br>  }<br>}",
          "{<br>  \"number\": 159,<br>  \"values\": [<br>    0.6355743442883768,<br>    4.987304466107458<br>  ],<br>  \"params\": {<br>    \"lambd\": 1.0965430067597877,<br>    \"lambd2\": 4.463623893529725,<br>    \"max_dist\": 1.3574345764817513<br>  }<br>}",
          "{<br>  \"number\": 160,<br>  \"values\": [<br>    0.9322160946618836,<br>    4.234187259124915<br>  ],<br>  \"params\": {<br>    \"lambd\": 0.05314421121345414,<br>    \"lambd2\": 3.429857075097462,<br>    \"max_dist\": 0.05883488915558677<br>  }<br>}",
          "{<br>  \"number\": 161,<br>  \"values\": [<br>    0.6188425190265117,<br>    5.4214463840399<br>  ],<br>  \"params\": {<br>    \"lambd\": 1.5436344692998072,<br>    \"lambd2\": 5.14222432750837,<br>    \"max_dist\": 1.3287910952098607<br>  }<br>}",
          "{<br>  \"number\": 162,<br>  \"values\": [<br>    0.7942772570300938,<br>    5.054862842892768<br>  ],<br>  \"params\": {<br>    \"lambd\": 1.0069408352121962,<br>    \"lambd2\": 1.8914328338209152,<br>    \"max_dist\": 0.11693366521769766<br>  }<br>}",
          "{<br>  \"number\": 163,<br>  \"values\": [<br>    0.8865186789388197,<br>    4.187259124914985<br>  ],<br>  \"params\": {<br>    \"lambd\": 0.007431264990963804,<br>    \"lambd2\": 6.579122307153963,<br>    \"max_dist\": 0.3079597801305235<br>  }<br>}",
          "{<br>  \"number\": 164,<br>  \"values\": [<br>    0.5381602223907,<br>    5.3824529585128085<br>  ],<br>  \"params\": {<br>    \"lambd\": 1.6120059640867024,<br>    \"lambd2\": 5.8567600364654755,<br>    \"max_dist\": 2.9262920859139254<br>  }<br>}",
          "{<br>  \"number\": 165,<br>  \"values\": [<br>    0.716339723584485,<br>    4.068011788710043<br>  ],<br>  \"params\": {<br>    \"lambd\": 0.25916619258615214,<br>    \"lambd2\": 8.04300277210603,<br>    \"max_dist\": 1.9658251645594467<br>  }<br>}",
          "{<br>  \"number\": 166,<br>  \"values\": [<br>    0.9250703186240605,<br>    4.916572205849014<br>  ],<br>  \"params\": {<br>    \"lambd\": 0.6302450306969036,<br>    \"lambd2\": 7.04824837009296,<br>    \"max_dist\": 0.08017004399383121<br>  }<br>}",
          "{<br>  \"number\": 167,<br>  \"values\": [<br>    0.4501500656537235,<br>    4.834277941509861<br>  ],<br>  \"params\": {<br>    \"lambd\": 1.0946804510826147,<br>    \"lambd2\": 0.9052714290202402,<br>    \"max_dist\": 1.899306961670905<br>  }<br>}",
          "{<br>  \"number\": 168,<br>  \"values\": [<br>    0.816422710135285,<br>    4.08886873724779<br>  ],<br>  \"params\": {<br>    \"lambd\": 0.08797211348064171,<br>    \"lambd2\": 6.706482983539743,<br>    \"max_dist\": 0.7289656628519521<br>  }<br>}",
          "{<br>  \"number\": 170,<br>  \"values\": [<br>    0.8533314242077129,<br>    4.749943323509409<br>  ],<br>  \"params\": {<br>    \"lambd\": 0.6302450306969036,<br>    \"lambd2\": 8.889666434568404,<br>    \"max_dist\": 0.5198766217518437<br>  }<br>}",
          "{<br>  \"number\": 171,<br>  \"values\": [<br>    0.7666558159722222,<br>    4.178644298345047<br>  ],<br>  \"params\": {<br>    \"lambd\": 0.2942412821671265,<br>    \"lambd2\": 6.706482983539743,<br>    \"max_dist\": 1.1185789022202277<br>  }<br>}",
          "{<br>  \"number\": 173,<br>  \"values\": [<br>    0.5931377630351404,<br>    4.3740648379052365<br>  ],<br>  \"params\": {<br>    \"lambd\": 0.6567404637720475,<br>    \"lambd2\": 3.429857075097462,<br>    \"max_dist\": 1.8973236807622127<br>  }<br>}",
          "{<br>  \"number\": 176,<br>  \"values\": [<br>    0.6405760801502818,<br>    3.9825436408977555<br>  ],<br>  \"params\": {<br>    \"lambd\": 0.27209031585985355,<br>    \"lambd2\": 6.01751198748686,<br>    \"max_dist\": 2.5346096479029763<br>  }<br>}",
          "{<br>  \"number\": 177,<br>  \"values\": [<br>    0.5410928113122727,<br>    5.54726819315348<br>  ],<br>  \"params\": {<br>    \"lambd\": 1.7985356567706008,<br>    \"lambd2\": 4.566887419465822,<br>    \"max_dist\": 1.9661320386830727<br>  }<br>}",
          "{<br>  \"number\": 178,<br>  \"values\": [<br>    0.6209161333782418,<br>    5.384720018136477<br>  ],<br>  \"params\": {<br>    \"lambd\": 1.496040819814661,<br>    \"lambd2\": 5.195105925544588,<br>    \"max_dist\": 1.3574345764817513<br>  }<br>}",
          "{<br>  \"number\": 179,<br>  \"values\": [<br>    0.8168551427032849,<br>    4.209929721151666<br>  ],<br>  \"params\": {<br>    \"lambd\": 0.25626381678859467,<br>    \"lambd2\": 6.706482983539743,<br>    \"max_dist\": 0.7289656628519521<br>  }<br>}",
          "{<br>  \"number\": 180,<br>  \"values\": [<br>    0.6543759922159061,<br>    4.426887327136703<br>  ],<br>  \"params\": {<br>    \"lambd\": 0.6302450306969036,<br>    \"lambd2\": 3.986032390967895,<br>    \"max_dist\": 1.3587263118584252<br>  }<br>}",
          "{<br>  \"number\": 181,<br>  \"values\": [<br>    0.5416844025539678,<br>    3.7281795511221945<br>  ],<br>  \"params\": {<br>    \"lambd\": 0.05314421121345414,<br>    \"lambd2\": 1.8914328338209152,<br>    \"max_dist\": 1.3287910952098607<br>  }<br>}",
          "{<br>  \"number\": 182,<br>  \"values\": [<br>    0.584713312447163,<br>    4.558830197234188<br>  ],<br>  \"params\": {<br>    \"lambd\": 0.8030616992993294,<br>    \"lambd2\": 1.5351714893159074,<br>    \"max_dist\": 0.8262544994754475<br>  }<br>}",
          "{<br>  \"number\": 183,<br>  \"values\": [<br>    0.67331963604344,<br>    3.8619360689186126<br>  ],<br>  \"params\": {<br>    \"lambd\": 0.007431264990963804,<br>    \"lambd2\": 7.04824837009296,<br>    \"max_dist\": 2.178784872104296<br>  }<br>}",
          "{<br>  \"number\": 184,<br>  \"values\": [<br>    0.3827315541601256,<br>    3.6102924506914533<br>  ],<br>  \"params\": {<br>    \"lambd\": 0.10815628036817038,<br>    \"lambd2\": 0.8111463719023437,<br>    \"max_dist\": 2.58790063497885<br>  }<br>}",
          "{<br>  \"number\": 186,<br>  \"values\": [<br>    0.7605823068309071,<br>    4.048968487871231<br>  ],<br>  \"params\": {<br>    \"lambd\": 0.1645651378913413,<br>    \"lambd2\": 6.579122307153963,<br>    \"max_dist\": 1.1684142483955302<br>  }<br>}",
          "{<br>  \"number\": 187,<br>  \"values\": [<br>    0.8754635810710577,<br>    6.112899569258672<br>  ],<br>  \"params\": {<br>    \"lambd\": 1.9750835900177417,<br>    \"lambd2\": 8.889666434568404,<br>    \"max_dist\": 0.11933071741688894<br>  }<br>}",
          "{<br>  \"number\": 188,<br>  \"values\": [<br>    0.5901139371619288,<br>    3.9396962140104286<br>  ],<br>  \"params\": {<br>    \"lambd\": 0.2942412821671265,<br>    \"lambd2\": 4.463623893529725,<br>    \"max_dist\": 2.7256186551482195<br>  }<br>}",
          "{<br>  \"number\": 189,<br>  \"values\": [<br>    0.6232598313179555,<br>    4.46202675130356<br>  ],<br>  \"params\": {<br>    \"lambd\": 0.6921079512746211,<br>    \"lambd2\": 3.2032582192497028,<br>    \"max_dist\": 1.3574345764817513<br>  }<br>}",
          "{<br>  \"number\": 190,<br>  \"values\": [<br>    0.8698383746263363,<br>    4.474495579233734<br>  ],<br>  \"params\": {<br>    \"lambd\": 0.3923076811682762,<br>    \"lambd2\": 6.579122307153963,<br>    \"max_dist\": 0.3551877664465073<br>  }<br>}",
          "{<br>  \"number\": 191,<br>  \"values\": [<br>    0.7117768595041323,<br>    3.9501246882793017<br>  ],<br>  \"params\": {<br>    \"lambd\": 0.12187032148343646,<br>    \"lambd2\": 4.463623893529725,<br>    \"max_dist\": 1.1234598225715513<br>  }<br>}",
          "{<br>  \"number\": 192,<br>  \"values\": [<br>    0.43514897391444585,<br>    5.622987984583995<br>  ],<br>  \"params\": {<br>    \"lambd\": 1.8108758217596586,<br>    \"lambd2\": 1.8914328338209152,<br>    \"max_dist\": 2.790098605610671<br>  }<br>}",
          "{<br>  \"number\": 194,<br>  \"values\": [<br>    0.702140032565713,<br>    3.898435728859669<br>  ],<br>  \"params\": {<br>    \"lambd\": 0.007431264990963804,<br>    \"lambd2\": 7.375156122685929,<br>    \"max_dist\": 1.899306961670905<br>  }<br>}",
          "{<br>  \"number\": 195,<br>  \"values\": [<br>    0.9045375785141867,<br>    4.186805712990251<br>  ],<br>  \"params\": {<br>    \"lambd\": 0.018796869203219213,<br>    \"lambd2\": 3.429857075097462,<br>    \"max_dist\": 0.11933071741688894<br>  }<br>}",
          "{<br>  \"number\": 196,<br>  \"values\": [<br>    0.6644747934581015,<br>    4.033779188392654<br>  ],<br>  \"params\": {<br>    \"lambd\": 0.2942412821671265,<br>    \"lambd2\": 4.7646036415334,<br>    \"max_dist\": 1.675657003968752<br>  }<br>}",
          "{<br>  \"number\": 198,<br>  \"values\": [<br>    0.8354620168813861,<br>    4.082520970301519<br>  ],<br>  \"params\": {<br>    \"lambd\": 0.25916619258615214,<br>    \"lambd2\": 1.2626949386880704,<br>    \"max_dist\": 0.05883488915558677<br>  }<br>}",
          "{<br>  \"number\": 199,<br>  \"values\": [<br>    0.9362895544502063,<br>    4.28428927680798<br>  ],<br>  \"params\": {<br>    \"lambd\": 0.007431264990963804,<br>    \"lambd2\": 8.60292318113295,<br>    \"max_dist\": 0.11933071741688894<br>  }<br>}",
          "{<br>  \"number\": 200,<br>  \"values\": [<br>    0.9217210714095532,<br>    4.25731126728633<br>  ],<br>  \"params\": {<br>    \"lambd\": 0.007431264990963804,<br>    \"lambd2\": 9.29527773411542,<br>    \"max_dist\": 0.2122577312325018<br>  }<br>}",
          "{<br>  \"number\": 201,<br>  \"values\": [<br>    0.7877730642667407,<br>    5.7182044887780545<br>  ],<br>  \"params\": {<br>    \"lambd\": 1.6128707952152506,<br>    \"lambd2\": 3.2032582192497028,<br>    \"max_dist\": 0.15771604251686555<br>  }<br>}",
          "{<br>  \"number\": 202,<br>  \"values\": [<br>    0.6746485648618312,<br>    4.241441849920653<br>  ],<br>  \"params\": {<br>    \"lambd\": 0.4580998583616467,<br>    \"lambd2\": 6.027676487056462,<br>    \"max_dist\": 1.8739539250579096<br>  }<br>}",
          "{<br>  \"number\": 203,<br>  \"values\": [<br>    0.9488822652757078,<br>    4.56359102244389<br>  ],<br>  \"params\": {<br>    \"lambd\": 0.3521505689908888,<br>    \"lambd2\": 4.463623893529725,<br>    \"max_dist\": 0.021798504774539484<br>  }<br>}",
          "{<br>  \"number\": 204,<br>  \"values\": [<br>    0.9178684393931271,<br>    4.228746316028111<br>  ],<br>  \"params\": {<br>    \"lambd\": 0.007431264990963804,<br>    \"lambd2\": 4.463623893529725,<br>    \"max_dist\": 0.11933071741688894<br>  }<br>}",
          "{<br>  \"number\": 205,<br>  \"values\": [<br>    0.7408653846153846,<br>    4.243935615506688<br>  ],<br>  \"params\": {<br>    \"lambd\": 0.385438118096985,<br>    \"lambd2\": 6.706482983539743,<br>    \"max_dist\": 1.332463215705947<br>  }<br>}",
          "{<br>  \"number\": 206,<br>  \"values\": [<br>    0.7525201042020614,<br>    4.003173883473135<br>  ],<br>  \"params\": {<br>    \"lambd\": 0.1645651378913413,<br>    \"lambd2\": 1.8914328338209152,<br>    \"max_dist\": 0.3551877664465073<br>  }<br>}",
          "{<br>  \"number\": 207,<br>  \"values\": [<br>    0.746521049850273,<br>    5.148038993425527<br>  ],<br>  \"params\": {<br>    \"lambd\": 1.102990738871109,<br>    \"lambd2\": 9.29527773411542,<br>    \"max_dist\": 1.1234598225715513<br>  }<br>}",
          "{<br>  \"number\": 208,<br>  \"values\": [<br>    0.8814634146341463,<br>    6.041713897075493<br>  ],<br>  \"params\": {<br>    \"lambd\": 1.829299556489059,<br>    \"lambd2\": 6.497477290662681,<br>    \"max_dist\": 0.08017004399383121<br>  }<br>}",
          "{<br>  \"number\": 209,<br>  \"values\": [<br>    0.8341064722774464,<br>    4.1051915665382<br>  ],<br>  \"params\": {<br>    \"lambd\": 0.05314421121345414,<br>    \"lambd2\": 6.579122307153963,<br>    \"max_dist\": 0.6008775168535888<br>  }<br>}",
          "{<br>  \"number\": 210,<br>  \"values\": [<br>    0.9205601244721049,<br>    5.0997506234413965<br>  ],<br>  \"params\": {<br>    \"lambd\": 0.7753036021196638,<br>    \"lambd2\": 7.04824837009296,<br>    \"max_dist\": 0.08017004399383121<br>  }<br>}",
          "{<br>  \"number\": 211,<br>  \"values\": [<br>    0.877659005879209,<br>    4.241668555883019<br>  ],<br>  \"params\": {<br>    \"lambd\": 0.1645651378913413,<br>    \"lambd2\": 6.579122307153963,<br>    \"max_dist\": 0.3551877664465073<br>  }<br>}",
          "{<br>  \"number\": 212,<br>  \"values\": [<br>    0.7786013352947833,<br>    4.0068011788710045<br>  ],<br>  \"params\": {<br>    \"lambd\": 0.007431264990963804,<br>    \"lambd2\": 9.3193694778666,<br>    \"max_dist\": 1.3574345764817513<br>  }<br>}",
          "{<br>  \"number\": 213,<br>  \"values\": [<br>    0.6937640871525169,<br>    4.526184538653367<br>  ],<br>  \"params\": {<br>    \"lambd\": 0.6567404637720475,<br>    \"lambd2\": 6.579122307153963,<br>    \"max_dist\": 1.6561271683069896<br>  }<br>}",
          "{<br>  \"number\": 214,<br>  \"values\": [<br>    0.9178684393931271,<br>    4.228746316028111<br>  ],<br>  \"params\": {<br>    \"lambd\": 0.007431264990963804,<br>    \"lambd2\": 4.463623893529725,<br>    \"max_dist\": 0.11933071741688894<br>  }<br>}",
          "{<br>  \"number\": 215,<br>  \"values\": [<br>    0.8862184691999567,<br>    4.1881659487644525<br>  ],<br>  \"params\": {<br>    \"lambd\": 0.01706522290533341,<br>    \"lambd2\": 6.579122307153963,<br>    \"max_dist\": 0.3079597801305235<br>  }<br>}",
          "{<br>  \"number\": 216,<br>  \"values\": [<br>    0.6891005168108705,<br>    3.9041033779188394<br>  ],<br>  \"params\": {<br>    \"lambd\": 0.08797211348064171,<br>    \"lambd2\": 9.29527773411542,<br>    \"max_dist\": 2.7203761240029376<br>  }<br>}",
          "{<br>  \"number\": 217,<br>  \"values\": [<br>    0.9436123348017621,<br>    4.631602811153933<br>  ],<br>  \"params\": {<br>    \"lambd\": 0.39153314429830344,<br>    \"lambd2\": 9.926725655769514,<br>    \"max_dist\": 0.05883488915558677<br>  }<br>}",
          "{<br>  \"number\": 218,<br>  \"values\": [<br>    0.8429539739805401,<br>    4.147358875538426<br>  ],<br>  \"params\": {<br>    \"lambd\": 0.12187032148343646,<br>    \"lambd2\": 4.485435394334839,<br>    \"max_dist\": 0.37557914600024256<br>  }<br>}",
          "{<br>  \"number\": 219,<br>  \"values\": [<br>    0.592373572593801,<br>    4.4470641577873495<br>  ],<br>  \"params\": {<br>    \"lambd\": 0.7094246759959164,<br>    \"lambd2\": 2.0946436979711933,<br>    \"max_dist\": 1.1234598225715513<br>  }<br>}",
          "{<br>  \"number\": 220,<br>  \"values\": [<br>    0.5036769394261424,<br>    5.333257764679211<br>  ],<br>  \"params\": {<br>    \"lambd\": 1.5444728119839009,<br>    \"lambd2\": 1.8914328338209152,<br>    \"max_dist\": 1.3287910952098607<br>  }<br>}",
          "{<br>  \"number\": 221,<br>  \"values\": [<br>    0.7435654508132007,<br>    5.742915438676037<br>  ],<br>  \"params\": {<br>    \"lambd\": 1.7490353161038739,<br>    \"lambd2\": 9.961045236144425,<br>    \"max_dist\": 0.8352320501807426<br>  }<br>}",
          "{<br>  \"number\": 222,<br>  \"values\": [<br>    0.7299336149668075,<br>    4.507821355701655<br>  ],<br>  \"params\": {<br>    \"lambd\": 0.6302450306969036,<br>    \"lambd2\": 1.8914328338209152,<br>    \"max_dist\": 0.3551877664465073<br>  }<br>}",
          "{<br>  \"number\": 223,<br>  \"values\": [<br>    0.6868025939124847,<br>    3.880525957832691<br>  ],<br>  \"params\": {<br>    \"lambd\": 0.01706522290533341,<br>    \"lambd2\": 9.29527773411542,<br>    \"max_dist\": 2.6611467372214443<br>  }<br>}",
          "{<br>  \"number\": 224,<br>  \"values\": [<br>    0.7260684252966249,<br>    3.9360689186125595<br>  ],<br>  \"params\": {<br>    \"lambd\": 0.018796869203219213,<br>    \"lambd2\": 8.60292318113295,<br>    \"max_dist\": 1.899306961670905<br>  }<br>}",
          "{<br>  \"number\": 225,<br>  \"values\": [<br>    0.5893143674920855,<br>    5.227612786216278<br>  ],<br>  \"params\": {<br>    \"lambd\": 1.391842479331713,<br>    \"lambd2\": 4.033312149937482,<br>    \"max_dist\": 1.452193303272641<br>  }<br>}",
          "{<br>  \"number\": 226,<br>  \"values\": [<br>    0.448840498949805,<br>    5.288823396055316<br>  ],<br>  \"params\": {<br>    \"lambd\": 1.5104977693918402,<br>    \"lambd2\": 1.8914328338209152,<br>    \"max_dist\": 2.9625146725199465<br>  }<br>}",
          "{<br>  \"number\": 227,<br>  \"values\": [<br>    0.37404051843462943,<br>    3.603264565858082<br>  ],<br>  \"params\": {<br>    \"lambd\": 0.10815628036817038,<br>    \"lambd2\": 0.8111463719023437,<br>    \"max_dist\": 2.948490994596254<br>  }<br>}",
          "{<br>  \"number\": 229,<br>  \"values\": [<br>    0.9141449356203226,<br>    4.877125368397189<br>  ],<br>  \"params\": {<br>    \"lambd\": 0.6302450306969036,<br>    \"lambd2\": 4.463623893529725,<br>    \"max_dist\": 0.08017004399383121<br>  }<br>}",
          "{<br>  \"number\": 230,<br>  \"values\": [<br>    0.9346111081696405,<br>    4.2817955112219455<br>  ],<br>  \"params\": {<br>    \"lambd\": 0.020671769579967192,<br>    \"lambd2\": 8.028019417037571,<br>    \"max_dist\": 0.11933071741688894<br>  }<br>}",
          "{<br>  \"number\": 231,<br>  \"values\": [<br>    0.4194888971591614,<br>    3.654953525277715<br>  ],<br>  \"params\": {<br>    \"lambd\": 0.1645651378913413,<br>    \"lambd2\": 0.4781304650661866,<br>    \"max_dist\": 1.1234598225715513<br>  }<br>}",
          "{<br>  \"number\": 232,<br>  \"values\": [<br>    0.752301446623592,<br>    3.9648605758331446<br>  ],<br>  \"params\": {<br>    \"lambd\": 0.007431264990963804,<br>    \"lambd2\": 4.463623893529725,<br>    \"max_dist\": 0.808646214978535<br>  }<br>}",
          "{<br>  \"number\": 233,<br>  \"values\": [<br>    0.7197215410173246,<br>    5.731580140557696<br>  ],<br>  \"params\": {<br>    \"lambd\": 1.7523767572097786,<br>    \"lambd2\": 3.2150316050176753,<br>    \"max_dist\": 0.2928562049029052<br>  }<br>}",
          "{<br>  \"number\": 235,<br>  \"values\": [<br>    0.6568057756647298,<br>    3.8623894808433463<br>  ],<br>  \"params\": {<br>    \"lambd\": 0.08797211348064171,<br>    \"lambd2\": 5.228607048814227,<br>    \"max_dist\": 1.8826760455081344<br>  }<br>}",
          "{<br>  \"number\": 237,<br>  \"values\": [<br>    0.7594460591554112,<br>    3.9780095216504194<br>  ],<br>  \"params\": {<br>    \"lambd\": 0.007431264990963804,<br>    \"lambd2\": 7.925204626837824,<br>    \"max_dist\": 1.3574345764817513<br>  }<br>}",
          "{<br>  \"number\": 238,<br>  \"values\": [<br>    0.823205648523934,<br>    4.0777601450918155<br>  ],<br>  \"params\": {<br>    \"lambd\": 0.007431264990963804,<br>    \"lambd2\": 7.375156122685929,<br>    \"max_dist\": 0.740021821818916<br>  }<br>}",
          "{<br>  \"number\": 239,<br>  \"values\": [<br>    0.5537148872513713,<br>    4.091815914758558<br>  ],<br>  \"params\": {<br>    \"lambd\": 0.46035759906847473,<br>    \"lambd2\": 1.8914328338209152,<br>    \"max_dist\": 1.49656607430388<br>  }<br>}",
          "{<br>  \"number\": 240,<br>  \"values\": [<br>    0.816422710135285,<br>    4.08886873724779<br>  ],<br>  \"params\": {<br>    \"lambd\": 0.08797211348064171,<br>    \"lambd2\": 6.706482983539743,<br>    \"max_dist\": 0.7289656628519521<br>  }<br>}",
          "{<br>  \"number\": 241,<br>  \"values\": [<br>    0.754337899543379,<br>    3.9718884606665155<br>  ],<br>  \"params\": {<br>    \"lambd\": 0.007431264990963804,<br>    \"lambd2\": 6.579122307153963,<br>    \"max_dist\": 1.1684142483955302<br>  }<br>}",
          "{<br>  \"number\": 242,<br>  \"values\": [<br>    0.6767878077373974,<br>    3.867603717977783<br>  ],<br>  \"params\": {<br>    \"lambd\": 0.007431264990963804,<br>    \"lambd2\": 9.3193694778666,<br>    \"max_dist\": 2.810028437377982<br>  }<br>}",
          "{<br>  \"number\": 243,<br>  \"values\": [<br>    0.5548003398470688,<br>    3.735660847880299<br>  ],<br>  \"params\": {<br>    \"lambd\": 0.007431264990963804,<br>    \"lambd2\": 1.8914328338209152,<br>    \"max_dist\": 1.1514113584648917<br>  }<br>}",
          "{<br>  \"number\": 244,<br>  \"values\": [<br>    0.696032162209404,<br>    3.890954432101564<br>  ],<br>  \"params\": {<br>    \"lambd\": 0.007431264990963804,<br>    \"lambd2\": 7.04824837009296,<br>    \"max_dist\": 1.899306961670905<br>  }<br>}",
          "{<br>  \"number\": 245,<br>  \"values\": [<br>    0.9217210714095532,<br>    4.25731126728633<br>  ],<br>  \"params\": {<br>    \"lambd\": 0.007431264990963804,<br>    \"lambd2\": 9.29527773411542,<br>    \"max_dist\": 0.2122577312325018<br>  }<br>}",
          "{<br>  \"number\": 246,<br>  \"values\": [<br>    0.7853394277975284,<br>    4.017456359102244<br>  ],<br>  \"params\": {<br>    \"lambd\": 0.007431264990963804,<br>    \"lambd2\": 4.463623893529725,<br>    \"max_dist\": 0.6113844898230288<br>  }<br>}",
          "{<br>  \"number\": 247,<br>  \"values\": [<br>    0.9399008020261714,<br>    4.296531398775787<br>  ],<br>  \"params\": {<br>    \"lambd\": 0.007431264990963804,<br>    \"lambd2\": 9.961045236144425,<br>    \"max_dist\": 0.11933071741688894<br>  }<br>}",
          "{<br>  \"number\": 248,<br>  \"values\": [<br>    0.9179528403001072,<br>    4.230333257764679<br>  ],<br>  \"params\": {<br>    \"lambd\": 0.01706522290533341,<br>    \"lambd2\": 4.463623893529725,<br>    \"max_dist\": 0.11933071741688894<br>  }<br>}",
          "{<br>  \"number\": 250,<br>  \"values\": [<br>    0.757997141914917,<br>    4.124688279301745<br>  ],<br>  \"params\": {<br>    \"lambd\": 0.25916619258615214,<br>    \"lambd2\": 6.230571283676094,<br>    \"max_dist\": 1.1234598225715513<br>  }<br>}",
          "{<br>  \"number\": 251,<br>  \"values\": [<br>    0.8013351877607788,<br>    4.075039673543414<br>  ],<br>  \"params\": {<br>    \"lambd\": 0.1036454207671067,<br>    \"lambd2\": 9.3193694778666,<br>    \"max_dist\": 1.1668029865831855<br>  }<br>}",
          "{<br>  \"number\": 252,<br>  \"values\": [<br>    0.6841340400068388,<br>    5.304012695533893<br>  ],<br>  \"params\": {<br>    \"lambd\": 1.3446887530903953,<br>    \"lambd2\": 4.828773614485517,<br>    \"max_dist\": 0.8352320501807426<br>  }<br>}",
          "{<br>  \"number\": 253,<br>  \"values\": [<br>    0.9289473684210526,<br>    4.393561550668783<br>  ],<br>  \"params\": {<br>    \"lambd\": 0.25916619258615214,<br>    \"lambd2\": 3.429857075097462,<br>    \"max_dist\": 0.05883488915558677<br>  }<br>}",
          "{<br>  \"number\": 254,<br>  \"values\": [<br>    0.6019032982622059,<br>    3.8354114713216956<br>  ],<br>  \"params\": {<br>    \"lambd\": 0.1645651378913413,<br>    \"lambd2\": 1.8914328338209152,<br>    \"max_dist\": 1.014470129546408<br>  }<br>}",
          "{<br>  \"number\": 255,<br>  \"values\": [<br>    0.9171739826978532,<br>    4.245295851280889<br>  ],<br>  \"params\": {<br>    \"lambd\": 0.007431264990963804,<br>    \"lambd2\": 8.158600133223171,<br>    \"max_dist\": 0.2122577312325018<br>  }<br>}",
          "{<br>  \"number\": 256,<br>  \"values\": [<br>    0.9011840432294977,<br>    5.70573566084788<br>  ],<br>  \"params\": {<br>    \"lambd\": 1.354205483850469,<br>    \"lambd2\": 7.04824837009296,<br>    \"max_dist\": 0.08017004399383121<br>  }<br>}",
          "{<br>  \"number\": 257,<br>  \"values\": [<br>    0.6897435897435897,<br>    3.890274314214464<br>  ],<br>  \"params\": {<br>    \"lambd\": 0.05314421121345414,<br>    \"lambd2\": 6.579122307153963,<br>    \"max_dist\": 1.8953827978798914<br>  }<br>}",
          "{<br>  \"number\": 258,<br>  \"values\": [<br>    0.7006608933454876,<br>    3.9791430514622537<br>  ],<br>  \"params\": {<br>    \"lambd\": 0.18631831566051704,<br>    \"lambd2\": 6.579122307153963,<br>    \"max_dist\": 1.8039404425213763<br>  }<br>}",
          "{<br>  \"number\": 259,<br>  \"values\": [<br>    0.5425145348837209,<br>    3.743368850600771<br>  ],<br>  \"params\": {<br>    \"lambd\": 0.10815628036817038,<br>    \"lambd2\": 3.429857075097462,<br>    \"max_dist\": 2.58790063497885<br>  }<br>}",
          "{<br>  \"number\": 260,<br>  \"values\": [<br>    0.6373124592302675,<br>    3.8229426433915212<br>  ],<br>  \"params\": {<br>    \"lambd\": 0.018796869203219213,<br>    \"lambd2\": 6.324744019938064,<br>    \"max_dist\": 2.4443352321532337<br>  }<br>}",
          "{<br>  \"number\": 261,<br>  \"values\": [<br>    0.48475672985192253,<br>    5.465654046701428<br>  ],<br>  \"params\": {<br>    \"lambd\": 1.7158329009140207,<br>    \"lambd2\": 2.7296102168291227,<br>    \"max_dist\": 2.252774243456453<br>  }<br>}",
          "{<br>  \"number\": 262,<br>  \"values\": [<br>    0.7812429759496516,<br>    4.034459306279755<br>  ],<br>  \"params\": {<br>    \"lambd\": 0.08797211348064171,<br>    \"lambd2\": 7.568393306003886,<br>    \"max_dist\": 1.1222485768302886<br>  }<br>}",
          "{<br>  \"number\": 263,<br>  \"values\": [<br>    0.8879333657850614,<br>    4.191566538199955<br>  ],<br>  \"params\": {<br>    \"lambd\": 0.007431264990963804,<br>    \"lambd2\": 8.60292318113295,<br>    \"max_dist\": 0.3910342760195109<br>  }<br>}",
          "{<br>  \"number\": 264,<br>  \"values\": [<br>    0.4883902840675175,<br>    5.506687825889821<br>  ],<br>  \"params\": {<br>    \"lambd\": 1.721426101421822,<br>    \"lambd2\": 1.8914328338209152,<br>    \"max_dist\": 1.3587263118584252<br>  }<br>}",
          "{<br>  \"number\": 265,<br>  \"values\": [<br>    0.3731806100493608,<br>    3.5824076173203356<br>  ],<br>  \"params\": {<br>    \"lambd\": 0.007431264990963804,<br>    \"lambd2\": 0.7519331455489342,<br>    \"max_dist\": 1.7574096883170656<br>  }<br>}",
          "{<br>  \"number\": 266,<br>  \"values\": [<br>    0.7283267840683064,<br>    4.67309000226706<br>  ],<br>  \"params\": {<br>    \"lambd\": 0.7362443061052666,<br>    \"lambd2\": 7.2685889580045,<br>    \"max_dist\": 1.3287910952098607<br>  }<br>}",
          "{<br>  \"number\": 267,<br>  \"values\": [<br>    0.7612458717685913,<br>    3.9814101110859217<br>  ],<br>  \"params\": {<br>    \"lambd\": 0.020671769579967192,<br>    \"lambd2\": 8.028019417037571,<br>    \"max_dist\": 1.3587263118584252<br>  }<br>}",
          "{<br>  \"number\": 268,<br>  \"values\": [<br>    0.9399008020261714,<br>    4.296531398775787<br>  ],<br>  \"params\": {<br>    \"lambd\": 0.007431264990963804,<br>    \"lambd2\": 9.961045236144425,<br>    \"max_dist\": 0.11933071741688894<br>  }<br>}",
          "{<br>  \"number\": 269,<br>  \"values\": [<br>    0.9368421052631579,<br>    4.285876218544548<br>  ],<br>  \"params\": {<br>    \"lambd\": 0.007431264990963804,<br>    \"lambd2\": 8.841618291684966,<br>    \"max_dist\": 0.11933071741688894<br>  }<br>}",
          "{<br>  \"number\": 271,<br>  \"values\": [<br>    0.4063767392525114,<br>    3.6334164588528677<br>  ],<br>  \"params\": {<br>    \"lambd\": 0.1645651378913413,<br>    \"lambd2\": 0.22561423445834006,<br>    \"max_dist\": 0.5615694986080549<br>  }<br>}",
          "{<br>  \"number\": 273,<br>  \"values\": [<br>    0.6314290799074569,<br>    3.82158240761732<br>  ],<br>  \"params\": {<br>    \"lambd\": 0.05314421121345414,<br>    \"lambd2\": 3.429857075097462,<br>    \"max_dist\": 1.4045724399947415<br>  }<br>}",
          "{<br>  \"number\": 274,<br>  \"values\": [<br>    0.5425145348837209,<br>    3.743368850600771<br>  ],<br>  \"params\": {<br>    \"lambd\": 0.10815628036817038,<br>    \"lambd2\": 3.429857075097462,<br>    \"max_dist\": 2.58790063497885<br>  }<br>}",
          "{<br>  \"number\": 275,<br>  \"values\": [<br>    0.5509832483612528,<br>    3.735207435955566<br>  ],<br>  \"params\": {<br>    \"lambd\": 0.007431264990963804,<br>    \"lambd2\": 3.429857075097462,<br>    \"max_dist\": 2.1407099747735647<br>  }<br>}",
          "{<br>  \"number\": 276,<br>  \"values\": [<br>    0.7786013352947833,<br>    4.0068011788710045<br>  ],<br>  \"params\": {<br>    \"lambd\": 0.007431264990963804,<br>    \"lambd2\": 9.3193694778666,<br>    \"max_dist\": 1.3574345764817513<br>  }<br>}",
          "{<br>  \"number\": 277,<br>  \"values\": [<br>    0.9401723037651564,<br>    4.2629789163455<br>  ],<br>  \"params\": {<br>    \"lambd\": 0.007431264990963804,<br>    \"lambd2\": 4.463623893529725,<br>    \"max_dist\": 0.05883488915558677<br>  }<br>}",
          "{<br>  \"number\": 279,<br>  \"values\": [<br>    0.44343342432514404,<br>    4.484697347540241<br>  ],<br>  \"params\": {<br>    \"lambd\": 0.8476998290231608,<br>    \"lambd2\": 0.8453973948255056,<br>    \"max_dist\": 2.6509509808635485<br>  }<br>}",
          "{<br>  \"number\": 280,<br>  \"values\": [<br>    0.6392937551842636,<br>    3.8263432328270235<br>  ],<br>  \"params\": {<br>    \"lambd\": 0.05314421121345414,<br>    \"lambd2\": 3.429857075097462,<br>    \"max_dist\": 1.3287910952098607<br>  }<br>}",
          "{<br>  \"number\": 281,<br>  \"values\": [<br>    0.7208155761677948,<br>    5.425980503287237<br>  ],<br>  \"params\": {<br>    \"lambd\": 1.4140405082745666,<br>    \"lambd2\": 9.3193694778666,<br>    \"max_dist\": 1.1514113584648917<br>  }<br>}",
          "{<br>  \"number\": 283,<br>  \"values\": [<br>    0.7685864328805173,<br>    5.223532078893675<br>  ],<br>  \"params\": {<br>    \"lambd\": 1.1796659512184104,<br>    \"lambd2\": 1.8914328338209152,<br>    \"max_dist\": 0.11933071741688894<br>  }<br>}",
          "{<br>  \"number\": 284,<br>  \"values\": [<br>    0.6977445352814983,<br>    3.909997732940376<br>  ],<br>  \"params\": {<br>    \"lambd\": 0.08797211348064171,<br>    \"lambd2\": 4.070824175280747,<br>    \"max_dist\": 1.1222485768302886<br>  }<br>}",
          "{<br>  \"number\": 285,<br>  \"values\": [<br>    0.41468459152016546,<br>    3.726819315347994<br>  ],<br>  \"params\": {<br>    \"lambd\": 0.2539706515285751,<br>    \"lambd2\": 0.8111463719023437,<br>    \"max_dist\": 2.58790063497885<br>  }<br>}",
          "{<br>  \"number\": 286,<br>  \"values\": [<br>    0.7039217928195747,<br>    3.9655406937202446<br>  ],<br>  \"params\": {<br>    \"lambd\": 0.1645651378913413,<br>    \"lambd2\": 9.57237179772956,<br>    \"max_dist\": 2.58790063497885<br>  }<br>}",
          "{<br>  \"number\": 287,<br>  \"values\": [<br>    0.7785883949779436,<br>    4.008614826569938<br>  ],<br>  \"params\": {<br>    \"lambd\": 0.01706522290533341,<br>    \"lambd2\": 8.028019417037571,<br>    \"max_dist\": 1.170361613376456<br>  }<br>}",
          "{<br>  \"number\": 289,<br>  \"values\": [<br>    0.8341064722774464,<br>    4.1051915665382<br>  ],<br>  \"params\": {<br>    \"lambd\": 0.05314421121345414,<br>    \"lambd2\": 6.579122307153963,<br>    \"max_dist\": 0.6008775168535888<br>  }<br>}",
          "{<br>  \"number\": 290,<br>  \"values\": [<br>    0.6918855808523059,<br>    3.8834731353434595<br>  ],<br>  \"params\": {<br>    \"lambd\": 0.018796869203219213,<br>    \"lambd2\": 4.885998734596026,<br>    \"max_dist\": 1.3574345764817513<br>  }<br>}",
          "{<br>  \"number\": 291,<br>  \"values\": [<br>    0.7465353338678273,<br>    3.9587395148492406<br>  ],<br>  \"params\": {<br>    \"lambd\": 0.007431264990963804,<br>    \"lambd2\": 5.2578862874448316,<br>    \"max_dist\": 0.9924716184828605<br>  }<br>}",
          "{<br>  \"number\": 292,<br>  \"values\": [<br>    0.72595971113645,<br>    4.175243708909544<br>  ],<br>  \"params\": {<br>    \"lambd\": 0.3521505689908888,<br>    \"lambd2\": 9.696495338484517,<br>    \"max_dist\": 2.1947996098209623<br>  }<br>}",
          "{<br>  \"number\": 293,<br>  \"values\": [<br>    0.5281405148316576,<br>    5.433915211970075<br>  ],<br>  \"params\": {<br>    \"lambd\": 1.6135069075975237,<br>    \"lambd2\": 1.8914328338209152,<br>    \"max_dist\": 0.9241039114250347<br>  }<br>}",
          "{<br>  \"number\": 294,<br>  \"values\": [<br>    0.611836792856125,<br>    4.772840625708456<br>  ],<br>  \"params\": {<br>    \"lambd\": 0.9506932746068273,<br>    \"lambd2\": 3.429857075097462,<br>    \"max_dist\": 1.4015607406800616<br>  }<br>}",
          "{<br>  \"number\": 295,<br>  \"values\": [<br>    0.3409593629526638,<br>    3.5871684425300385<br>  ],<br>  \"params\": {<br>    \"lambd\": 0.10815628036817038,<br>    \"lambd2\": 0.42310676525409985,<br>    \"max_dist\": 2.58790063497885<br>  }<br>}",
          "{<br>  \"number\": 297,<br>  \"values\": [<br>    0.7064730356857097,<br>    5.666742235320789<br>  ],<br>  \"params\": {<br>    \"lambd\": 1.705514172494043,<br>    \"lambd2\": 9.961045236144425,<br>    \"max_dist\": 1.1668029865831855<br>  }<br>}",
          "{<br>  \"number\": 298,<br>  \"values\": [<br>    0.421138517542208,<br>    3.6121060983903877<br>  ],<br>  \"params\": {<br>    \"lambd\": 0.018796869203219213,<br>    \"lambd2\": 0.8453973948255056,<br>    \"max_dist\": 1.3736054320153337<br>  }<br>}",
          "{<br>  \"number\": 299,<br>  \"values\": [<br>    0.5342891154702137,<br>    4.380185898889141<br>  ],<br>  \"params\": {<br>    \"lambd\": 0.7225607263464231,<br>    \"lambd2\": 0.8453973948255056,<br>    \"max_dist\": 0.7289656628519521<br>  }<br>}",
          "{<br>  \"number\": 300,<br>  \"values\": [<br>    0.8341064722774464,<br>    4.1051915665382<br>  ],<br>  \"params\": {<br>    \"lambd\": 0.05314421121345414,<br>    \"lambd2\": 6.579122307153963,<br>    \"max_dist\": 0.6008775168535888<br>  }<br>}",
          "{<br>  \"number\": 301,<br>  \"values\": [<br>    0.8681108807159227,<br>    4.1546134663341645<br>  ],<br>  \"params\": {<br>    \"lambd\": 0.007431264990963804,<br>    \"lambd2\": 5.018811031536571,<br>    \"max_dist\": 0.3079597801305235<br>  }<br>}",
          "{<br>  \"number\": 302,<br>  \"values\": [<br>    0.5935902369303502,<br>    4.124008161414645<br>  ],<br>  \"params\": {<br>    \"lambd\": 0.4479378757045531,<br>    \"lambd2\": 4.463623893529725,<br>    \"max_dist\": 2.6091304166445144<br>  }<br>}",
          "{<br>  \"number\": 303,<br>  \"values\": [<br>    0.465022365805169,<br>    3.649059170256178<br>  ],<br>  \"params\": {<br>    \"lambd\": 0.007431264990963804,<br>    \"lambd2\": 1.2194879927154922,<br>    \"max_dist\": 1.3574345764817513<br>  }<br>}",
          "{<br>  \"number\": 304,<br>  \"values\": [<br>    0.8130648220461899,<br>    4.06393108138744<br>  ],<br>  \"params\": {<br>    \"lambd\": 0.018796869203219213,<br>    \"lambd2\": 8.2399880820657,<br>    \"max_dist\": 0.9083636367084037<br>  }<br>}",
          "{<br>  \"number\": 305,<br>  \"values\": [<br>    0.8341145589200337,<br>    4.83654500113353<br>  ],<br>  \"params\": {<br>    \"lambd\": 0.7285013469421011,<br>    \"lambd2\": 4.463623893529725,<br>    \"max_dist\": 0.3079597801305235<br>  }<br>}",
          "{<br>  \"number\": 306,<br>  \"values\": [<br>    0.8532793167633855,<br>    4.141011108592156<br>  ],<br>  \"params\": {<br>    \"lambd\": 0.05314421121345414,<br>    \"lambd2\": 8.134631599299913,<br>    \"max_dist\": 0.6008775168535888<br>  }<br>}",
          "{<br>  \"number\": 307,<br>  \"values\": [<br>    0.571075327181714,<br>    3.7590115620040807<br>  ],<br>  \"params\": {<br>    \"lambd\": 0.007431264990963804,<br>    \"lambd2\": 3.429857075097462,<br>    \"max_dist\": 1.899306961670905<br>  }<br>}",
          "{<br>  \"number\": 308,<br>  \"values\": [<br>    0.7517751479289941,<br>    3.8313307639990932<br>  ],<br>  \"params\": {<br>    \"lambd\": 0.007431264990963804,<br>    \"lambd2\": 1.03953013516914,<br>    \"max_dist\": 0.11933071741688894<br>  }<br>}",
          "{<br>  \"number\": 309,<br>  \"values\": [<br>    0.7327045508134874,<br>    4.8072999319882115<br>  ],<br>  \"params\": {<br>    \"lambd\": 0.8347646499933523,<br>    \"lambd2\": 8.205190634491291,<br>    \"max_dist\": 1.3574345764817513<br>  }<br>}",
          "{<br>  \"number\": 310,<br>  \"values\": [<br>    0.6834417374049168,<br>    4.112899569258672<br>  ],<br>  \"params\": {<br>    \"lambd\": 0.3521505689908888,<br>    \"lambd2\": 4.463623893529725,<br>    \"max_dist\": 1.3574345764817513<br>  }<br>}",
          "{<br>  \"number\": 311,<br>  \"values\": [<br>    0.5558028444251438,<br>    4.176377238721378<br>  ],<br>  \"params\": {<br>    \"lambd\": 0.5521803740547315,<br>    \"lambd2\": 0.8111463719023437,<br>    \"max_dist\": 0.6008775168535888<br>  }<br>}",
          "{<br>  \"number\": 312,<br>  \"values\": [<br>    0.3374896621922514,<br>    3.5635910224438905<br>  ],<br>  \"params\": {<br>    \"lambd\": 0.007431264990963804,<br>    \"lambd2\": 0.7519331455489342,<br>    \"max_dist\": 2.6611467372214443<br>  }<br>}",
          "{<br>  \"number\": 314,<br>  \"values\": [<br>    0.7057491289198606,<br>    3.9038766719564726<br>  ],<br>  \"params\": {<br>    \"lambd\": 0.007431264990963804,<br>    \"lambd2\": 6.706482983539743,<br>    \"max_dist\": 1.6851082983404757<br>  }<br>}",
          "{<br>  \"number\": 315,<br>  \"values\": [<br>    0.3763505855685682,<br>    6.000906823849467<br>  ],<br>  \"params\": {<br>    \"lambd\": 1.953801337781037,<br>    \"lambd2\": 0.37090396386858515,<br>    \"max_dist\": 1.1684142483955302<br>  }<br>}",
          "{<br>  \"number\": 316,<br>  \"values\": [<br>    0.7618830762224625,<br>    3.9825436408977555<br>  ],<br>  \"params\": {<br>    \"lambd\": 0.007431264990963804,<br>    \"lambd2\": 6.949920918460548,<br>    \"max_dist\": 1.1684142483955302<br>  }<br>}",
          "{<br>  \"number\": 317,<br>  \"values\": [<br>    0.7089835512442008,<br>    4.837678530945364<br>  ],<br>  \"params\": {<br>    \"lambd\": 0.8939128098167661,<br>    \"lambd2\": 3.9403424707029853,<br>    \"max_dist\": 0.7589302938172664<br>  }<br>}",
          "{<br>  \"number\": 318,<br>  \"values\": [<br>    0.8720786718159016,<br>    5.694173656767173<br>  ],<br>  \"params\": {<br>    \"lambd\": 1.4332148830577025,<br>    \"lambd2\": 3.6328551436430923,<br>    \"max_dist\": 0.05883488915558677<br>  }<br>}",
          "{<br>  \"number\": 320,<br>  \"values\": [<br>    0.3374896621922514,<br>    3.5635910224438905<br>  ],<br>  \"params\": {<br>    \"lambd\": 0.007431264990963804,<br>    \"lambd2\": 0.8111463719023437,<br>    \"max_dist\": 2.8734212529578267<br>  }<br>}",
          "{<br>  \"number\": 321,<br>  \"values\": [<br>    0.6598995076891844,<br>    4.466787576513262<br>  ],<br>  \"params\": {<br>    \"lambd\": 0.6527246135004448,<br>    \"lambd2\": 8.2399880820657,<br>    \"max_dist\": 2.6775490851418398<br>  }<br>}",
          "{<br>  \"number\": 322,<br>  \"values\": [<br>    0.6414472015020044,<br>    4.4676944003627295<br>  ],<br>  \"params\": {<br>    \"lambd\": 0.6832160333602166,<br>    \"lambd2\": 3.4550818217691495,<br>    \"max_dist\": 1.2698710108668099<br>  }<br>}",
          "{<br>  \"number\": 324,<br>  \"values\": [<br>    0.5733140480925691,<br>    3.7617320335524824<br>  ],<br>  \"params\": {<br>    \"lambd\": 0.007431264990963804,<br>    \"lambd2\": 4.463623893529725,<br>    \"max_dist\": 2.4442131197759833<br>  }<br>}",
          "{<br>  \"number\": 326,<br>  \"values\": [<br>    0.35669436164140295,<br>    3.5744729086374973<br>  ],<br>  \"params\": {<br>    \"lambd\": 0.007431264990963804,<br>    \"lambd2\": 0.8453973948255056,<br>    \"max_dist\": 2.39836502504449<br>  }<br>}",
          "{<br>  \"number\": 327,<br>  \"values\": [<br>    0.9045375785141867,<br>    4.186805712990251<br>  ],<br>  \"params\": {<br>    \"lambd\": 0.018796869203219213,<br>    \"lambd2\": 3.429857075097462,<br>    \"max_dist\": 0.11933071741688894<br>  }<br>}",
          "{<br>  \"number\": 329,<br>  \"values\": [<br>    0.5328083989501312,<br>    3.714123781455452<br>  ],<br>  \"params\": {<br>    \"lambd\": 0.007431264990963804,<br>    \"lambd2\": 1.8914328338209152,<br>    \"max_dist\": 1.3287910952098607<br>  }<br>}",
          "{<br>  \"number\": 330,<br>  \"values\": [<br>    0.43377001455604075,<br>    4.360915892087962<br>  ],<br>  \"params\": {<br>    \"lambd\": 0.7443182588802995,<br>    \"lambd2\": 0.3251708435273315,<br>    \"max_dist\": 1.1915982586271214<br>  }<br>}",
          "{<br>  \"number\": 331,<br>  \"values\": [<br>    0.6817783490097564,<br>    3.880525957832691<br>  ],<br>  \"params\": {<br>    \"lambd\": 0.05314421121345414,<br>    \"lambd2\": 8.54486465427913,<br>    \"max_dist\": 2.58790063497885<br>  }<br>}",
          "{<br>  \"number\": 332,<br>  \"values\": [<br>    0.465022365805169,<br>    3.649059170256178<br>  ],<br>  \"params\": {<br>    \"lambd\": 0.007431264990963804,<br>    \"lambd2\": 1.2194879927154922,<br>    \"max_dist\": 1.3574345764817513<br>  }<br>}",
          "{<br>  \"number\": 334,<br>  \"values\": [<br>    0.5515470647112581,<br>    5.2094763092269325<br>  ],<br>  \"params\": {<br>    \"lambd\": 1.409788886705539,<br>    \"lambd2\": 2.7421000534326225,<br>    \"max_dist\": 1.3574345764817513<br>  }<br>}",
          "{<br>  \"number\": 336,<br>  \"values\": [<br>    0.47577447335811646,<br>    3.6590342326003173<br>  ],<br>  \"params\": {<br>    \"lambd\": 0.018796869203219213,<br>    \"lambd2\": 1.2626949386880704,<br>    \"max_dist\": 1.3736054320153337<br>  }<br>}",
          "{<br>  \"number\": 337,<br>  \"values\": [<br>    0.7528867040128044,<br>    3.9659941056449783<br>  ],<br>  \"params\": {<br>    \"lambd\": 0.01706522290533341,<br>    \"lambd2\": 4.463623893529725,<br>    \"max_dist\": 0.808646214978535<br>  }<br>}",
          "{<br>  \"number\": 338,<br>  \"values\": [<br>    0.5526906509737305,<br>    3.7367943776921333<br>  ],<br>  \"params\": {<br>    \"lambd\": 0.018796869203219213,<br>    \"lambd2\": 3.429857075097462,<br>    \"max_dist\": 2.1407099747735647<br>  }<br>}",
          "{<br>  \"number\": 339,<br>  \"values\": [<br>    0.7815577439570277,<br>    4.051688959419633<br>  ],<br>  \"params\": {<br>    \"lambd\": 0.12365140067911962,<br>    \"lambd2\": 9.057687044109155,<br>    \"max_dist\": 1.3574345764817513<br>  }<br>}",
          "{<br>  \"number\": 340,<br>  \"values\": [<br>    0.6906018591460532,<br>    5.7556109725685785<br>  ],<br>  \"params\": {<br>    \"lambd\": 1.845204741678788,<br>    \"lambd2\": 8.134631599299913,<br>    \"max_dist\": 1.0017858711213967<br>  }<br>}",
          "{<br>  \"number\": 341,<br>  \"values\": [<br>    0.47155177762610906,<br>    3.6538199954658808<br>  ],<br>  \"params\": {<br>    \"lambd\": 0.018796869203219213,<br>    \"lambd2\": 1.2194879927154922,<br>    \"max_dist\": 1.3574345764817513<br>  }<br>}",
          "{<br>  \"number\": 342,<br>  \"values\": [<br>    0.5328083989501312,<br>    3.714123781455452<br>  ],<br>  \"params\": {<br>    \"lambd\": 0.007431264990963804,<br>    \"lambd2\": 1.8914328338209152,<br>    \"max_dist\": 1.3287910952098607<br>  }<br>}",
          "{<br>  \"number\": 343,<br>  \"values\": [<br>    0.7216578157469407,<br>    3.9274540920426206<br>  ],<br>  \"params\": {<br>    \"lambd\": 0.018796869203219213,<br>    \"lambd2\": 8.2399880820657,<br>    \"max_dist\": 1.8785852469824045<br>  }<br>}",
          "{<br>  \"number\": 345,<br>  \"values\": [<br>    0.4613568588469185,<br>    3.649059170256178<br>  ],<br>  \"params\": {<br>    \"lambd\": 0.020671769579967192,<br>    \"lambd2\": 1.2626949386880704,<br>    \"max_dist\": 1.5076768465867505<br>  }<br>}",
          "{<br>  \"number\": 346,<br>  \"values\": [<br>    0.7907747626271139,<br>    4.0351394241668554<br>  ],<br>  \"params\": {<br>    \"lambd\": 0.05314421121345414,<br>    \"lambd2\": 9.806199728152105,<br>    \"max_dist\": 1.3287910952098607<br>  }<br>}",
          "{<br>  \"number\": 347,<br>  \"values\": [<br>    0.7255094123892359,<br>    5.551802312400816<br>  ],<br>  \"params\": {<br>    \"lambd\": 1.5383285527644006,<br>    \"lambd2\": 5.536361679433277,<br>    \"max_dist\": 0.6113844898230288<br>  }<br>}",
          "{<br>  \"number\": 348,<br>  \"values\": [<br>    0.607503435091702,<br>    3.7948311040580367<br>  ],<br>  \"params\": {<br>    \"lambd\": 0.01706522290533341,<br>    \"lambd2\": 5.786563724445964,<br>    \"max_dist\": 2.6611467372214443<br>  }<br>}",
          "{<br>  \"number\": 349,<br>  \"values\": [<br>    0.5431873479318735,<br>    3.7270460213103607<br>  ],<br>  \"params\": {<br>    \"lambd\": 0.007431264990963804,<br>    \"lambd2\": 4.463623893529725,<br>    \"max_dist\": 2.9461449531985666<br>  }<br>}",
          "{<br>  \"number\": 350,<br>  \"values\": [<br>    0.45701258034389936,<br>    4.126728632963047<br>  ],<br>  \"params\": {<br>    \"lambd\": 0.5813083317464824,<br>    \"lambd2\": 0.8453973948255056,<br>    \"max_dist\": 2.0505125711032814<br>  }<br>}",
          "{<br>  \"number\": 351,<br>  \"values\": [<br>    0.5038423401090729,<br>    3.65812740875085<br>  ],<br>  \"params\": {<br>    \"lambd\": 0.007431264990963804,<br>    \"lambd2\": 0.7519331455489342,<br>    \"max_dist\": 0.6125560108473976<br>  }<br>}",
          "{<br>  \"number\": 352,<br>  \"values\": [<br>    0.48533860114821903,<br>    3.672409884379959<br>  ],<br>  \"params\": {<br>    \"lambd\": 0.01706522290533341,<br>    \"lambd2\": 2.6642524500210607,<br>    \"max_dist\": 2.6611467372214443<br>  }<br>}",
          "{<br>  \"number\": 353,<br>  \"values\": [<br>    0.9464502828143998,<br>    4.288596690092949<br>  ],<br>  \"params\": {<br>    \"lambd\": 0.018796869203219213,<br>    \"lambd2\": 5.885807332716092,<br>    \"max_dist\": 0.05883488915558677<br>  }<br>}",
          "{<br>  \"number\": 355,<br>  \"values\": [<br>    0.7179040102780582,<br>    4.940829743822262<br>  ],<br>  \"params\": {<br>    \"lambd\": 1.0153909988019463,<br>    \"lambd2\": 1.2626949386880704,<br>    \"max_dist\": 0.11933071741688894<br>  }<br>}",
          "{<br>  \"number\": 356,<br>  \"values\": [<br>    0.5291781240452185,<br>    3.71004307413285<br>  ],<br>  \"params\": {<br>    \"lambd\": 0.007431264990963804,<br>    \"lambd2\": 1.8914328338209152,<br>    \"max_dist\": 1.3574345764817513<br>  }<br>}",
          "{<br>  \"number\": 358,<br>  \"values\": [<br>    0.5720262541741834,<br>    5.906370437542507<br>  ],<br>  \"params\": {<br>    \"lambd\": 1.8421133544840187,<br>    \"lambd2\": 1.03953013516914,<br>    \"max_dist\": 0.05883488915558677<br>  }<br>}",
          "{<br>  \"number\": 360,<br>  \"values\": [<br>    0.4570792446606745,<br>    5.498526411244616<br>  ],<br>  \"params\": {<br>    \"lambd\": 1.5095789654045209,<br>    \"lambd2\": 0.5522862041954502,<br>    \"max_dist\": 0.3551877664465073<br>  }<br>}",
          "{<br>  \"number\": 361,<br>  \"values\": [<br>    0.8124783094898392,<br>    5.87916572205849<br>  ],<br>  \"params\": {<br>    \"lambd\": 1.790970184213474,<br>    \"lambd2\": 7.728780078780192,<br>    \"max_dist\": 0.3143280423512971<br>  }<br>}",
          "{<br>  \"number\": 362,<br>  \"values\": [<br>    0.9401723037651564,<br>    4.2629789163455<br>  ],<br>  \"params\": {<br>    \"lambd\": 0.007431264990963804,<br>    \"lambd2\": 4.463623893529725,<br>    \"max_dist\": 0.05883488915558677<br>  }<br>}",
          "{<br>  \"number\": 363,<br>  \"values\": [<br>    0.9517096265123619,<br>    4.309680344593063<br>  ],<br>  \"params\": {<br>    \"lambd\": 0.01706522290533341,<br>    \"lambd2\": 9.926725655769514,<br>    \"max_dist\": 0.05883488915558677<br>  }<br>}",
          "{<br>  \"number\": 364,<br>  \"values\": [<br>    0.7561178922298303,<br>    3.807526637950578<br>  ],<br>  \"params\": {<br>    \"lambd\": 0.05314421121345414,<br>    \"lambd2\": 0.8656157904078154,<br>    \"max_dist\": 0.05883488915558677<br>  }<br>}",
          "{<br>  \"number\": 365,<br>  \"values\": [<br>    0.5469623329283111,<br>    3.7315801405576967<br>  ],<br>  \"params\": {<br>    \"lambd\": 0.007431264990963804,<br>    \"lambd2\": 4.463623893529725,<br>    \"max_dist\": 2.868492523492569<br>  }<br>}",
          "{<br>  \"number\": 366,<br>  \"values\": [<br>    0.36702767749699156,<br>    3.579460439809567<br>  ],<br>  \"params\": {<br>    \"lambd\": 0.007431264990963804,<br>    \"lambd2\": 0.7519331455489342,<br>    \"max_dist\": 1.8913807389133224<br>  }<br>}",
          "{<br>  \"number\": 367,<br>  \"values\": [<br>    0.8126360439805771,<br>    4.061890727726139<br>  ],<br>  \"params\": {<br>    \"lambd\": 0.007431264990963804,<br>    \"lambd2\": 8.2399880820657,<br>    \"max_dist\": 0.9083636367084037<br>  }<br>}",
          "{<br>  \"number\": 368,<br>  \"values\": [<br>    0.687985514864786,<br>    3.8814327816821583<br>  ],<br>  \"params\": {<br>    \"lambd\": 0.007431264990963804,<br>    \"lambd2\": 8.833688514575213,<br>    \"max_dist\": 2.4757006387432856<br>  }<br>}",
          "{<br>  \"number\": 370,<br>  \"values\": [<br>    0.4078519482055224,<br>    3.834277941509862<br>  ],<br>  \"params\": {<br>    \"lambd\": 0.3754487669145552,<br>    \"lambd2\": 0.5522862041954502,<br>    \"max_dist\": 2.85435171556672<br>  }<br>}",
          "{<br>  \"number\": 371,<br>  \"values\": [<br>    0.6680188679245282,<br>    4.806166402176377<br>  ],<br>  \"params\": {<br>    \"lambd\": 0.9167049885165168,<br>    \"lambd2\": 5.156209015232958,<br>    \"max_dist\": 1.3574345764817513<br>  }<br>}",
          "{<br>  \"number\": 372,<br>  \"values\": [<br>    0.4467409574799228,<br>    3.641577873498073<br>  ],<br>  \"params\": {<br>    \"lambd\": 0.020671769579967192,<br>    \"lambd2\": 1.8589455105864783,<br>    \"max_dist\": 2.4806632782130222<br>  }<br>}",
          "{<br>  \"number\": 374,<br>  \"values\": [<br>    0.623745734222992,<br>    4.4509181591475855<br>  ],<br>  \"params\": {<br>    \"lambd\": 0.6840321170914003,<br>    \"lambd2\": 3.2032582192497028,<br>    \"max_dist\": 1.3574345764817513<br>  }<br>}",
          "{<br>  \"number\": 375,<br>  \"values\": [<br>    0.7091302258529553,<br>    4.717751076853321<br>  ],<br>  \"params\": {<br>    \"lambd\": 0.7994959992769193,<br>    \"lambd2\": 3.429857075097462,<br>    \"max_dist\": 0.6983641523579339<br>  }<br>}",
          "{<br>  \"number\": 378,<br>  \"values\": [<br>    0.5057156657543068,<br>    4.224212196780775<br>  ],<br>  \"params\": {<br>    \"lambd\": 0.6266939632233035,<br>    \"lambd2\": 1.2626949386880704,<br>    \"max_dist\": 1.6177054386612078<br>  }<br>}",
          "{<br>  \"number\": 379,<br>  \"values\": [<br>    0.53420314595781,<br>    3.718431194740422<br>  ],<br>  \"params\": {<br>    \"lambd\": 0.007431264990963804,<br>    \"lambd2\": 3.857318506853109,<br>    \"max_dist\": 2.6896643663390947<br>  }<br>}",
          "{<br>  \"number\": 380,<br>  \"values\": [<br>    0.4904159531569353,<br>    4.104058036726366<br>  ],<br>  \"params\": {<br>    \"lambd\": 0.5369185763180968,<br>    \"lambd2\": 0.8656157904078154,<br>    \"max_dist\": 1.3287910952098607<br>  }<br>}",
          "{<br>  \"number\": 381,<br>  \"values\": [<br>    0.8638174772119426,<br>    4.153479936522331<br>  ],<br>  \"params\": {<br>    \"lambd\": 0.018796869203219213,<br>    \"lambd2\": 6.697519614642445,<br>    \"max_dist\": 0.43522388945026236<br>  }<br>}",
          "{<br>  \"number\": 383,<br>  \"values\": [<br>    0.6961361384696078,<br>    3.890047608252097<br>  ],<br>  \"params\": {<br>    \"lambd\": 0.018796869203219213,<br>    \"lambd2\": 7.0201275526048,<br>    \"max_dist\": 1.899306961670905<br>  }<br>}",
          "{<br>  \"number\": 384,<br>  \"values\": [<br>    0.675450437232232,<br>    3.86284289276808<br>  ],<br>  \"params\": {<br>    \"lambd\": 0.007431264990963804,<br>    \"lambd2\": 4.463623893529725,<br>    \"max_dist\": 1.3574345764817513<br>  }<br>}",
          "{<br>  \"number\": 385,<br>  \"values\": [<br>    0.6294597653225326,<br>    3.8061664021763773<br>  ],<br>  \"params\": {<br>    \"lambd\": 0.007431264990963804,<br>    \"lambd2\": 2.127388453281227,<br>    \"max_dist\": 0.848460225500626<br>  }<br>}",
          "{<br>  \"number\": 386,<br>  \"values\": [<br>    0.6673325499412456,<br>    3.8585354794831104<br>  ],<br>  \"params\": {<br>    \"lambd\": 0.05314421121345414,<br>    \"lambd2\": 3.429857075097462,<br>    \"max_dist\": 1.1379124806528802<br>  }<br>}",
          "{<br>  \"number\": 387,<br>  \"values\": [<br>    0.4817491489918827,<br>    4.328950351394242<br>  ],<br>  \"params\": {<br>    \"lambd\": 0.7220051418968891,<br>    \"lambd2\": 0.8656157904078154,<br>    \"max_dist\": 1.4239249956344802<br>  }<br>}",
          "{<br>  \"number\": 388,<br>  \"values\": [<br>    0.8575963222416813,<br>    4.142371344366357<br>  ],<br>  \"params\": {<br>    \"lambd\": 0.01706522290533341,<br>    \"lambd2\": 9.926725655769514,<br>    \"max_dist\": 0.6935943664228504<br>  }<br>}",
          "{<br>  \"number\": 392,<br>  \"values\": [<br>    0.9459545214172396,<br>    4.287009748356382<br>  ],<br>  \"params\": {<br>    \"lambd\": 0.018796869203219213,<br>    \"lambd2\": 5.68820559312106,<br>    \"max_dist\": 0.05883488915558677<br>  }<br>}",
          "{<br>  \"number\": 393,<br>  \"values\": [<br>    0.7811795565392025,<br>    5.531398775787803<br>  ],<br>  \"params\": {<br>    \"lambd\": 1.4288509802804257,<br>    \"lambd2\": 5.018811031536571,<br>    \"max_dist\": 0.35045908727520936<br>  }<br>}",
          "{<br>  \"number\": 395,<br>  \"values\": [<br>    0.7847794200609275,<br>    4.018589888914079<br>  ],<br>  \"params\": {<br>    \"lambd\": 0.018796869203219213,<br>    \"lambd2\": 5.580457802171226,<br>    \"max_dist\": 0.7729765614241789<br>  }<br>}",
          "{<br>  \"number\": 397,<br>  \"values\": [<br>    0.8238597813795703,<br>    6.0145091815914755<br>  ],<br>  \"params\": {<br>    \"lambd\": 1.8955048307800921,<br>    \"lambd2\": 3.4550818217691495,<br>    \"max_dist\": 0.05883488915558677<br>  }<br>}",
          "{<br>  \"number\": 398,<br>  \"values\": [<br>    0.8647734956051386,<br>    5.70006801178871<br>  ],<br>  \"params\": {<br>    \"lambd\": 1.4525997019952,<br>    \"lambd2\": 3.429857075097462,<br>    \"max_dist\": 0.05883488915558677<br>  }<br>}",
          "{<br>  \"number\": 399,<br>  \"values\": [<br>    0.4494138305014719,<br>    4.389707549308547<br>  ],<br>  \"params\": {<br>    \"lambd\": 0.7771232109444774,<br>    \"lambd2\": 0.7519331455489342,<br>    \"max_dist\": 2.1407099747735647<br>  }<br>}",
          "{<br>  \"number\": 400,<br>  \"values\": [<br>    0.9464502828143998,<br>    4.288596690092949<br>  ],<br>  \"params\": {<br>    \"lambd\": 0.018796869203219213,<br>    \"lambd2\": 5.885807332716092,<br>    \"max_dist\": 0.05883488915558677<br>  }<br>}",
          "{<br>  \"number\": 402,<br>  \"values\": [<br>    0.7053690884765285,<br>    3.897302199047835<br>  ],<br>  \"params\": {<br>    \"lambd\": 0.007431264990963804,<br>    \"lambd2\": 3.429857075097462,<br>    \"max_dist\": 0.8644841930016721<br>  }<br>}",
          "{<br>  \"number\": 404,<br>  \"values\": [<br>    0.421138517542208,<br>    3.6121060983903877<br>  ],<br>  \"params\": {<br>    \"lambd\": 0.018796869203219213,<br>    \"lambd2\": 0.8453973948255056,<br>    \"max_dist\": 1.3736054320153337<br>  }<br>}"
         ],
         "type": "scatter",
         "x": [
          0.48088474025974026,
          0.6546082674820315,
          0.8130084624504313,
          0.7811731647348086,
          0.6834572284477977,
          0.6672475424486148,
          0.7877918480411555,
          0.450367269892076,
          0.6755596939395166,
          0.7246972225788505,
          0.4691765495636608,
          0.48714039240861856,
          0.5028526632115325,
          0.5795419029334286,
          0.9250703186240605,
          0.9178684393931271,
          0.500801183286084,
          0.47142800175459587,
          0.7675831485587583,
          0.6677455400146418,
          0.5231563575675394,
          0.7808071397048006,
          0.6357685367798246,
          0.6,
          0.7002242152466368,
          0.6818265682656827,
          0.7276766595289079,
          0.5681610247026533,
          0.8039607558139535,
          0.7731283803017364,
          0.6595573224454712,
          0.8769309989701339,
          0.4825599432699552,
          0.4540003970617431,
          0.5896526680052976,
          0.6937354988399071,
          0.6872958469435371,
          0.8363225598229517,
          0.6482461404178713,
          0.621690374831274,
          0.5320691024622717,
          0.6759362107267534,
          0.5407495783107746,
          0.7299526820484904,
          0.4828749454300115,
          0.7756884740931451,
          0.6474093525906474,
          0.7199380864854407,
          0.7145100091587073,
          0.5609778387023076,
          0.8591564745242143,
          0.7108590927338418,
          0.7865719600879418,
          0.6107155848880113,
          0.5734620024125452,
          0.5475622790429993,
          0.648436397836821,
          0.621690374831274,
          0.7503353132784059,
          0.5452422650321074,
          0.707765311456951,
          0.6592644978783593,
          0.7914617006324666,
          0.7980616664522492,
          0.49074156108797734,
          0.8597576919724571,
          0.8113178294573643,
          0.5723477008908485,
          0.7525201042020614,
          0.6123342659043912,
          0.8575330649798735,
          0.7877918480411555,
          0.6709435066835789,
          0.5541893982574709,
          0.8753891186172932,
          0.8387882725574596,
          0.6628292153136031,
          0.6196041020748867,
          0.6854123792939687,
          0.7722585173586739,
          0.6404561175961954,
          0.6389197545775158,
          0.39267761394101874,
          0.7675831485587583,
          0.7151830729812381,
          0.4452837650781096,
          0.7041452314998021,
          0.826320939334638,
          0.6321518580084723,
          0.48088474025974026,
          0.5523959084928484,
          0.5416844025539678,
          0.7737445630684064,
          0.9178684393931271,
          0.46782015452901526,
          0.6676846457432813,
          0.5681610247026533,
          0.7926706438366777,
          0.6866981447035818,
          0.7612458717685913,
          0.7475717439293599,
          0.687775435907262,
          0.8363225598229517,
          0.7436180904522613,
          0.6696501220504475,
          0.5733140480925691,
          0.8621102055279943,
          0.39056108431528175,
          0.6938097428819711,
          0.6072854830005396,
          0.6664339244984406,
          0.8628800143910775,
          0.6787012073613878,
          0.7289719626168224,
          0.5910510841602352,
          0.8135373653955146,
          0.5698314700483897,
          0.5578936124759667,
          0.6071469476577711,
          0.812565445026178,
          0.8184130711280697,
          0.8026833342313702,
          0.7158601342550847,
          0.7199380864854407,
          0.6598173515981736,
          0.5389108501976517,
          0.6224088634739099,
          0.8642440318302387,
          0.6644747934581015,
          0.5919395465994962,
          0.6199614065180102,
          0.4944988146617227,
          0.6950095537821738,
          0.6503655404070342,
          0.4024130589070263,
          0.6016972055564564,
          0.8938053097345132,
          0.4681188537591202,
          0.7470629581283261,
          0.7616442558413007,
          0.6610378101614809,
          0.6857356235997013,
          0.9369512324129906,
          0.6253937088395304,
          0.84179136846671,
          0.7516118558374693,
          0.877659005879209,
          0.720141985195446,
          0.7786013352947833,
          0.6212173463229589,
          0.633802096650473,
          0.8763639769587411,
          0.6670776094869085,
          0.816422710135285,
          0.6958708750207285,
          0.6487905604719764,
          0.6355743442883768,
          0.9322160946618836,
          0.6188425190265117,
          0.7942772570300938,
          0.8865186789388197,
          0.5381602223907,
          0.716339723584485,
          0.9250703186240605,
          0.4501500656537235,
          0.816422710135285,
          0.8533314242077129,
          0.7666558159722222,
          0.5931377630351404,
          0.6405760801502818,
          0.5410928113122727,
          0.6209161333782418,
          0.8168551427032849,
          0.6543759922159061,
          0.5416844025539678,
          0.584713312447163,
          0.67331963604344,
          0.3827315541601256,
          0.7605823068309071,
          0.8754635810710577,
          0.5901139371619288,
          0.6232598313179555,
          0.8698383746263363,
          0.7117768595041323,
          0.43514897391444585,
          0.702140032565713,
          0.9045375785141867,
          0.6644747934581015,
          0.8354620168813861,
          0.9362895544502063,
          0.9217210714095532,
          0.7877730642667407,
          0.6746485648618312,
          0.9488822652757078,
          0.9178684393931271,
          0.7408653846153846,
          0.7525201042020614,
          0.746521049850273,
          0.8814634146341463,
          0.8341064722774464,
          0.9205601244721049,
          0.877659005879209,
          0.7786013352947833,
          0.6937640871525169,
          0.9178684393931271,
          0.8862184691999567,
          0.6891005168108705,
          0.9436123348017621,
          0.8429539739805401,
          0.592373572593801,
          0.5036769394261424,
          0.7435654508132007,
          0.7299336149668075,
          0.6868025939124847,
          0.7260684252966249,
          0.5893143674920855,
          0.448840498949805,
          0.37404051843462943,
          0.9141449356203226,
          0.9346111081696405,
          0.4194888971591614,
          0.752301446623592,
          0.7197215410173246,
          0.6568057756647298,
          0.7594460591554112,
          0.823205648523934,
          0.5537148872513713,
          0.816422710135285,
          0.754337899543379,
          0.6767878077373974,
          0.5548003398470688,
          0.696032162209404,
          0.9217210714095532,
          0.7853394277975284,
          0.9399008020261714,
          0.9179528403001072,
          0.757997141914917,
          0.8013351877607788,
          0.6841340400068388,
          0.9289473684210526,
          0.6019032982622059,
          0.9171739826978532,
          0.9011840432294977,
          0.6897435897435897,
          0.7006608933454876,
          0.5425145348837209,
          0.6373124592302675,
          0.48475672985192253,
          0.7812429759496516,
          0.8879333657850614,
          0.4883902840675175,
          0.3731806100493608,
          0.7283267840683064,
          0.7612458717685913,
          0.9399008020261714,
          0.9368421052631579,
          0.4063767392525114,
          0.6314290799074569,
          0.5425145348837209,
          0.5509832483612528,
          0.7786013352947833,
          0.9401723037651564,
          0.44343342432514404,
          0.6392937551842636,
          0.7208155761677948,
          0.7685864328805173,
          0.6977445352814983,
          0.41468459152016546,
          0.7039217928195747,
          0.7785883949779436,
          0.8341064722774464,
          0.6918855808523059,
          0.7465353338678273,
          0.72595971113645,
          0.5281405148316576,
          0.611836792856125,
          0.3409593629526638,
          0.7064730356857097,
          0.421138517542208,
          0.5342891154702137,
          0.8341064722774464,
          0.8681108807159227,
          0.5935902369303502,
          0.465022365805169,
          0.8130648220461899,
          0.8341145589200337,
          0.8532793167633855,
          0.571075327181714,
          0.7517751479289941,
          0.7327045508134874,
          0.6834417374049168,
          0.5558028444251438,
          0.3374896621922514,
          0.7057491289198606,
          0.3763505855685682,
          0.7618830762224625,
          0.7089835512442008,
          0.8720786718159016,
          0.3374896621922514,
          0.6598995076891844,
          0.6414472015020044,
          0.5733140480925691,
          0.35669436164140295,
          0.9045375785141867,
          0.5328083989501312,
          0.43377001455604075,
          0.6817783490097564,
          0.465022365805169,
          0.5515470647112581,
          0.47577447335811646,
          0.7528867040128044,
          0.5526906509737305,
          0.7815577439570277,
          0.6906018591460532,
          0.47155177762610906,
          0.5328083989501312,
          0.7216578157469407,
          0.4613568588469185,
          0.7907747626271139,
          0.7255094123892359,
          0.607503435091702,
          0.5431873479318735,
          0.45701258034389936,
          0.5038423401090729,
          0.48533860114821903,
          0.9464502828143998,
          0.7179040102780582,
          0.5291781240452185,
          0.5720262541741834,
          0.4570792446606745,
          0.8124783094898392,
          0.9401723037651564,
          0.9517096265123619,
          0.7561178922298303,
          0.5469623329283111,
          0.36702767749699156,
          0.8126360439805771,
          0.687985514864786,
          0.4078519482055224,
          0.6680188679245282,
          0.4467409574799228,
          0.623745734222992,
          0.7091302258529553,
          0.5057156657543068,
          0.53420314595781,
          0.4904159531569353,
          0.8638174772119426,
          0.6961361384696078,
          0.675450437232232,
          0.6294597653225326,
          0.6673325499412456,
          0.4817491489918827,
          0.8575963222416813,
          0.9459545214172396,
          0.7811795565392025,
          0.7847794200609275,
          0.8238597813795703,
          0.8647734956051386,
          0.4494138305014719,
          0.9464502828143998,
          0.7053690884765285,
          0.421138517542208
         ],
         "y": [
          5.586034912718205,
          5.7091362502833825,
          5.545454545454546,
          5.808886873724779,
          4.086601677624121,
          5.073679437769213,
          4.583087735207436,
          5.524597596916799,
          5.59986397642258,
          5.297438222625255,
          4.0525957832691,
          5.650192700068012,
          5.20539560190433,
          5.077533439129449,
          4.916572205849014,
          4.228746316028111,
          5.517796418045795,
          5.6851054182725,
          5.112219451371571,
          5.883699841305826,
          4.346860122421219,
          4.623214690546361,
          5.402629789163455,
          4.585128088868737,
          4.044434368623895,
          4.914985264112446,
          4.234867377012016,
          4.212423486737701,
          4.991158467467694,
          5.574926320562231,
          4.219904783495806,
          4.842892768079801,
          5.115166628882339,
          5.709589662208116,
          5.306506461119928,
          3.9084107912038086,
          3.886647018816595,
          4.9170256177737475,
          4.155746996145998,
          4.366810247109499,
          4.566764905917026,
          5.714803899342552,
          5.510541827250057,
          5.413965087281795,
          5.712310133756517,
          4.931081387440489,
          4.489231466787577,
          4.686919065971435,
          5.198141011108592,
          4.961459986397642,
          4.133529811834051,
          4.517796418045795,
          4.021537066424847,
          4.3625028338245295,
          3.758784856041714,
          5.5148492405350265,
          4.82090228973022,
          4.366810247109499,
          4.732713670369531,
          3.8834731353434595,
          5.6374971661754705,
          4.808433461800045,
          5.161641351167535,
          5.286556336431648,
          5.117660394468374,
          5.201995012468828,
          4.386760371797778,
          5.038766719564725,
          4.003173883473135,
          5.591249149852641,
          4.730900022670596,
          4.583087735207436,
          4.647018816594876,
          5.568351847653593,
          4.879392428020857,
          5.582861029245069,
          4.174790296984811,
          3.8023124008161413,
          5.728406257084561,
          4.198821128995693,
          4.194967127635457,
          4.692586715030605,
          5.411924733620494,
          5.112219451371571,
          5.4858308773520745,
          5.732260258444797,
          4.583087735207436,
          5.5606438449331215,
          4.227839492178644,
          5.586034912718205,
          5.341419179324416,
          3.7281795511221945,
          5.733393788256631,
          4.228746316028111,
          5.516209476309227,
          4.825209703015189,
          4.212423486737701,
          5.85218771253684,
          4.753343912944911,
          3.9814101110859217,
          4.107912038086602,
          4.732713670369531,
          4.9170256177737475,
          4.511448651099524,
          4.457946043980956,
          3.7617320335524824,
          5.118113806393108,
          3.7132169576059852,
          4.435048741781909,
          4.200861482656994,
          4.870324189526184,
          5.041033779188393,
          3.8680571299025166,
          4.317841759238268,
          4.934935388800725,
          5.600090682384947,
          4.075946497392882,
          4.244842439356155,
          3.9587395148492406,
          4.54658807526638,
          4.6343232827023355,
          4.207435955565631,
          4.525504420766266,
          4.686919065971435,
          4.170482883699841,
          3.842439356155067,
          3.8059396962140104,
          4.2734073906143735,
          4.033779188392654,
          3.780095216504194,
          4.229426433915212,
          3.7295397868963955,
          4.034005894355022,
          4.589435502153707,
          5.749716617547041,
          4.194287009748356,
          4.201314894581728,
          4.287916572205849,
          4.5155293584221265,
          4.4341419179324415,
          4.60485150759465,
          4.553389254137384,
          4.286102924506914,
          5.54228066198141,
          4.181364769893448,
          4.887553842666062,
          4.241668555883019,
          5.237134436635683,
          4.0068011788710045,
          5.259124914985264,
          4.433235094082974,
          4.8408524144184994,
          3.861709362956246,
          4.08886873724779,
          4.101337565177964,
          3.842666062117434,
          4.987304466107458,
          4.234187259124915,
          5.4214463840399,
          5.054862842892768,
          4.187259124914985,
          5.3824529585128085,
          4.068011788710043,
          4.916572205849014,
          4.834277941509861,
          4.08886873724779,
          4.749943323509409,
          4.178644298345047,
          4.3740648379052365,
          3.9825436408977555,
          5.54726819315348,
          5.384720018136477,
          4.209929721151666,
          4.426887327136703,
          3.7281795511221945,
          4.558830197234188,
          3.8619360689186126,
          3.6102924506914533,
          4.048968487871231,
          6.112899569258672,
          3.9396962140104286,
          4.46202675130356,
          4.474495579233734,
          3.9501246882793017,
          5.622987984583995,
          3.898435728859669,
          4.186805712990251,
          4.033779188392654,
          4.082520970301519,
          4.28428927680798,
          4.25731126728633,
          5.7182044887780545,
          4.241441849920653,
          4.56359102244389,
          4.228746316028111,
          4.243935615506688,
          4.003173883473135,
          5.148038993425527,
          6.041713897075493,
          4.1051915665382,
          5.0997506234413965,
          4.241668555883019,
          4.0068011788710045,
          4.526184538653367,
          4.228746316028111,
          4.1881659487644525,
          3.9041033779188394,
          4.631602811153933,
          4.147358875538426,
          4.4470641577873495,
          5.333257764679211,
          5.742915438676037,
          4.507821355701655,
          3.880525957832691,
          3.9360689186125595,
          5.227612786216278,
          5.288823396055316,
          3.603264565858082,
          4.877125368397189,
          4.2817955112219455,
          3.654953525277715,
          3.9648605758331446,
          5.731580140557696,
          3.8623894808433463,
          3.9780095216504194,
          4.0777601450918155,
          4.091815914758558,
          4.08886873724779,
          3.9718884606665155,
          3.867603717977783,
          3.735660847880299,
          3.890954432101564,
          4.25731126728633,
          4.017456359102244,
          4.296531398775787,
          4.230333257764679,
          4.124688279301745,
          4.075039673543414,
          5.304012695533893,
          4.393561550668783,
          3.8354114713216956,
          4.245295851280889,
          5.70573566084788,
          3.890274314214464,
          3.9791430514622537,
          3.743368850600771,
          3.8229426433915212,
          5.465654046701428,
          4.034459306279755,
          4.191566538199955,
          5.506687825889821,
          3.5824076173203356,
          4.67309000226706,
          3.9814101110859217,
          4.296531398775787,
          4.285876218544548,
          3.6334164588528677,
          3.82158240761732,
          3.743368850600771,
          3.735207435955566,
          4.0068011788710045,
          4.2629789163455,
          4.484697347540241,
          3.8263432328270235,
          5.425980503287237,
          5.223532078893675,
          3.909997732940376,
          3.726819315347994,
          3.9655406937202446,
          4.008614826569938,
          4.1051915665382,
          3.8834731353434595,
          3.9587395148492406,
          4.175243708909544,
          5.433915211970075,
          4.772840625708456,
          3.5871684425300385,
          5.666742235320789,
          3.6121060983903877,
          4.380185898889141,
          4.1051915665382,
          4.1546134663341645,
          4.124008161414645,
          3.649059170256178,
          4.06393108138744,
          4.83654500113353,
          4.141011108592156,
          3.7590115620040807,
          3.8313307639990932,
          4.8072999319882115,
          4.112899569258672,
          4.176377238721378,
          3.5635910224438905,
          3.9038766719564726,
          6.000906823849467,
          3.9825436408977555,
          4.837678530945364,
          5.694173656767173,
          3.5635910224438905,
          4.466787576513262,
          4.4676944003627295,
          3.7617320335524824,
          3.5744729086374973,
          4.186805712990251,
          3.714123781455452,
          4.360915892087962,
          3.880525957832691,
          3.649059170256178,
          5.2094763092269325,
          3.6590342326003173,
          3.9659941056449783,
          3.7367943776921333,
          4.051688959419633,
          5.7556109725685785,
          3.6538199954658808,
          3.714123781455452,
          3.9274540920426206,
          3.649059170256178,
          4.0351394241668554,
          5.551802312400816,
          3.7948311040580367,
          3.7270460213103607,
          4.126728632963047,
          3.65812740875085,
          3.672409884379959,
          4.288596690092949,
          4.940829743822262,
          3.71004307413285,
          5.906370437542507,
          5.498526411244616,
          5.87916572205849,
          4.2629789163455,
          4.309680344593063,
          3.807526637950578,
          3.7315801405576967,
          3.579460439809567,
          4.061890727726139,
          3.8814327816821583,
          3.834277941509862,
          4.806166402176377,
          3.641577873498073,
          4.4509181591475855,
          4.717751076853321,
          4.224212196780775,
          3.718431194740422,
          4.104058036726366,
          4.153479936522331,
          3.890047608252097,
          3.86284289276808,
          3.8061664021763773,
          3.8585354794831104,
          4.328950351394242,
          4.142371344366357,
          4.287009748356382,
          5.531398775787803,
          4.018589888914079,
          6.0145091815914755,
          5.70006801178871,
          4.389707549308547,
          4.288596690092949,
          3.897302199047835,
          3.6121060983903877
         ]
        },
        {
         "hovertemplate": "%{text}<extra>Best Trial</extra>",
         "marker": {
          "color": [
           18,
           27,
           105,
           169,
           185,
           193,
           197,
           228,
           234,
           236,
           249,
           270,
           272,
           278,
           282,
           288,
           296,
           313,
           319,
           323,
           325,
           328,
           333,
           335,
           344,
           357,
           359,
           369,
           373,
           376,
           377,
           382,
           389,
           390,
           391,
           394,
           396,
           401,
           403,
           405
          ],
          "colorbar": {
           "title": {
            "text": "Best Trial"
           },
           "x": 1.1,
           "xpad": 40
          },
          "colorscale": [
           [
            0,
            "rgb(255,245,240)"
           ],
           [
            0.125,
            "rgb(254,224,210)"
           ],
           [
            0.25,
            "rgb(252,187,161)"
           ],
           [
            0.375,
            "rgb(252,146,114)"
           ],
           [
            0.5,
            "rgb(251,106,74)"
           ],
           [
            0.625,
            "rgb(239,59,44)"
           ],
           [
            0.75,
            "rgb(203,24,29)"
           ],
           [
            0.875,
            "rgb(165,15,21)"
           ],
           [
            1,
            "rgb(103,0,13)"
           ]
          ],
          "line": {
           "color": "Grey",
           "width": 0.5
          }
         },
         "mode": "markers",
         "showlegend": false,
         "text": [
          "{<br>  \"number\": 18,<br>  \"values\": [<br>    0.3195738165114202,<br>    3.5533892541373837<br>  ],<br>  \"params\": {<br>    \"lambd\": 0.01706522290533341,<br>    \"lambd2\": 0.5522862041954502,<br>    \"max_dist\": 2.6611467372214443<br>  }<br>}",
          "{<br>  \"number\": 27,<br>  \"values\": [<br>    0.9323034009226477,<br>    4.2262525504420765<br>  ],<br>  \"params\": {<br>    \"lambd\": 0.018796869203219213,<br>    \"lambd2\": 3.429857075097462,<br>    \"max_dist\": 0.05883488915558677<br>  }<br>}",
          "{<br>  \"number\": 105,<br>  \"values\": [<br>    0.9323034009226477,<br>    4.2262525504420765<br>  ],<br>  \"params\": {<br>    \"lambd\": 0.018796869203219213,<br>    \"lambd2\": 3.429857075097462,<br>    \"max_dist\": 0.05883488915558677<br>  }<br>}",
          "{<br>  \"number\": 169,<br>  \"values\": [<br>    0.5228815142270096,<br>    3.6411244615733396<br>  ],<br>  \"params\": {<br>    \"lambd\": 0.01706522290533341,<br>    \"lambd2\": 0.5522862041954502,<br>    \"max_dist\": 0.3551877664465073<br>  }<br>}",
          "{<br>  \"number\": 185,<br>  \"values\": [<br>    0.3195738165114202,<br>    3.5533892541373837<br>  ],<br>  \"params\": {<br>    \"lambd\": 0.01706522290533341,<br>    \"lambd2\": 0.5522862041954502,<br>    \"max_dist\": 2.6611467372214443<br>  }<br>}",
          "{<br>  \"number\": 193,<br>  \"values\": [<br>    0.9065987124463519,<br>    4.225799138517343<br>  ],<br>  \"params\": {<br>    \"lambd\": 0.007431264990963804,<br>    \"lambd2\": 8.2399880820657,<br>    \"max_dist\": 0.26837817347515125<br>  }<br>}",
          "{<br>  \"number\": 197,<br>  \"values\": [<br>    0.7446400766558869,<br>    3.7855361596009973<br>  ],<br>  \"params\": {<br>    \"lambd\": 0.018796869203219213,<br>    \"lambd2\": 0.8453973948255056,<br>    \"max_dist\": 0.05883488915558677<br>  }<br>}",
          "{<br>  \"number\": 228,<br>  \"values\": [<br>    0.8978602929166439,<br>    4.163908410791204<br>  ],<br>  \"params\": {<br>    \"lambd\": 0.007431264990963804,<br>    \"lambd2\": 3.075451000945394,<br>    \"max_dist\": 0.11933071741688894<br>  }<br>}",
          "{<br>  \"number\": 234,<br>  \"values\": [<br>    0.36241993785274906,<br>    3.5749263205622306<br>  ],<br>  \"params\": {<br>    \"lambd\": 0.018796869203219213,<br>    \"lambd2\": 0.8453973948255056,<br>    \"max_dist\": 2.39836502504449<br>  }<br>}",
          "{<br>  \"number\": 236,<br>  \"values\": [<br>    0.7446400766558869,<br>    3.7855361596009973<br>  ],<br>  \"params\": {<br>    \"lambd\": 0.018796869203219213,<br>    \"lambd2\": 0.8453973948255056,<br>    \"max_dist\": 0.05883488915558677<br>  }<br>}",
          "{<br>  \"number\": 249,<br>  \"values\": [<br>    0.9047128927410617,<br>    4.1849920652913175<br>  ],<br>  \"params\": {<br>    \"lambd\": 0.007431264990963804,<br>    \"lambd2\": 3.429857075097462,<br>    \"max_dist\": 0.11933071741688894<br>  }<br>}",
          "{<br>  \"number\": 270,<br>  \"values\": [<br>    0.37458003169572107,<br>    3.5762865563364317<br>  ],<br>  \"params\": {<br>    \"lambd\": 0.01706522290533341,<br>    \"lambd2\": 0.5522862041954502,<br>    \"max_dist\": 1.3287910952098607<br>  }<br>}",
          "{<br>  \"number\": 272,<br>  \"values\": [<br>    0.8274105799282324,<br>    3.9170256177737475<br>  ],<br>  \"params\": {<br>    \"lambd\": 0.018796869203219213,<br>    \"lambd2\": 1.2626949386880704,<br>    \"max_dist\": 0.05883488915558677<br>  }<br>}",
          "{<br>  \"number\": 278,<br>  \"values\": [<br>    0.9324020552344252,<br>    4.235774200861482<br>  ],<br>  \"params\": {<br>    \"lambd\": 0.05314421121345414,<br>    \"lambd2\": 3.4550818217691495,<br>    \"max_dist\": 0.05883488915558677<br>  }<br>}",
          "{<br>  \"number\": 282,<br>  \"values\": [<br>    0.9323034009226477,<br>    4.2262525504420765<br>  ],<br>  \"params\": {<br>    \"lambd\": 0.018796869203219213,<br>    \"lambd2\": 3.429857075097462,<br>    \"max_dist\": 0.05883488915558677<br>  }<br>}",
          "{<br>  \"number\": 288,<br>  \"values\": [<br>    0.769652541867811,<br>    3.8038993425527092<br>  ],<br>  \"params\": {<br>    \"lambd\": 0.020671769579967192,<br>    \"lambd2\": 0.8656157904078154,<br>    \"max_dist\": 0.02935175122332978<br>  }<br>}",
          "{<br>  \"number\": 296,<br>  \"values\": [<br>    0.3195738165114202,<br>    3.5533892541373837<br>  ],<br>  \"params\": {<br>    \"lambd\": 0.01706522290533341,<br>    \"lambd2\": 0.5522862041954502,<br>    \"max_dist\": 2.6611467372214443<br>  }<br>}",
          "{<br>  \"number\": 313,<br>  \"values\": [<br>    0.42762535477767266,<br>    3.5944230333257763<br>  ],<br>  \"params\": {<br>    \"lambd\": 0.007431264990963804,<br>    \"lambd2\": 0.4781304650661866,<br>    \"max_dist\": 0.677481628061677<br>  }<br>}",
          "{<br>  \"number\": 319,<br>  \"values\": [<br>    0.28059720620274253,<br>    3.537973248696441<br>  ],<br>  \"params\": {<br>    \"lambd\": 0.018796869203219213,<br>    \"lambd2\": 0.1580752090077786,<br>    \"max_dist\": 1.3736054320153337<br>  }<br>}",
          "{<br>  \"number\": 323,<br>  \"values\": [<br>    0.8700352921404964,<br>    4.04692813420993<br>  ],<br>  \"params\": {<br>    \"lambd\": 0.10815628036817038,<br>    \"lambd2\": 1.6122036109156646,<br>    \"max_dist\": 0.05883488915558677<br>  }<br>}",
          "{<br>  \"number\": 325,<br>  \"values\": [<br>    0.5486098267677701,<br>    3.677397415552029<br>  ],<br>  \"params\": {<br>    \"lambd\": 0.018796869203219213,<br>    \"lambd2\": 0.7362194564650737,<br>    \"max_dist\": 0.43522388945026236<br>  }<br>}",
          "{<br>  \"number\": 328,<br>  \"values\": [<br>    0.7087812537746104,<br>    3.753797324869644<br>  ],<br>  \"params\": {<br>    \"lambd\": 0.018796869203219213,<br>    \"lambd2\": 0.7519331455489342,<br>    \"max_dist\": 0.07666327965865927<br>  }<br>}",
          "{<br>  \"number\": 333,<br>  \"values\": [<br>    0.35924061922660383,<br>    3.5586034912718203<br>  ],<br>  \"params\": {<br>    \"lambd\": 0.018796869203219213,<br>    \"lambd2\": 0.2641937607507372,<br>    \"max_dist\": 0.740021821818916<br>  }<br>}",
          "{<br>  \"number\": 335,<br>  \"values\": [<br>    0.3639533409407886,<br>    3.576059850374065<br>  ],<br>  \"params\": {<br>    \"lambd\": 0.018796869203219213,<br>    \"lambd2\": 0.8453973948255056,<br>    \"max_dist\": 2.3637331556560017<br>  }<br>}",
          "{<br>  \"number\": 344,<br>  \"values\": [<br>    0.8277777777777777,<br>    3.917479029698481<br>  ],<br>  \"params\": {<br>    \"lambd\": 0.020671769579967192,<br>    \"lambd2\": 1.2626949386880704,<br>    \"max_dist\": 0.05883488915558677<br>  }<br>}",
          "{<br>  \"number\": 357,<br>  \"values\": [<br>    0.8277777777777777,<br>    3.917479029698481<br>  ],<br>  \"params\": {<br>    \"lambd\": 0.020671769579967192,<br>    \"lambd2\": 1.2626949386880704,<br>    \"max_dist\": 0.05883488915558677<br>  }<br>}",
          "{<br>  \"number\": 359,<br>  \"values\": [<br>    0.9504924421972929,<br>    4.304466107458627<br>  ],<br>  \"params\": {<br>    \"lambd\": 0.018796869203219213,<br>    \"lambd2\": 8.2399880820657,<br>    \"max_dist\": 0.05883488915558677<br>  }<br>}",
          "{<br>  \"number\": 369,<br>  \"values\": [<br>    0.4452336448598131,<br>    3.6386306959873043<br>  ],<br>  \"params\": {<br>    \"lambd\": 0.007431264990963804,<br>    \"lambd2\": 1.8914328338209152,<br>    \"max_dist\": 2.4847942483382486<br>  }<br>}",
          "{<br>  \"number\": 373,<br>  \"values\": [<br>    0.9065987124463519,<br>    4.225799138517343<br>  ],<br>  \"params\": {<br>    \"lambd\": 0.007431264990963804,<br>    \"lambd2\": 8.2399880820657,<br>    \"max_dist\": 0.26837817347515125<br>  }<br>}",
          "{<br>  \"number\": 376,<br>  \"values\": [<br>    0.9323034009226477,<br>    4.2262525504420765<br>  ],<br>  \"params\": {<br>    \"lambd\": 0.018796869203219213,<br>    \"lambd2\": 3.429857075097462,<br>    \"max_dist\": 0.05883488915558677<br>  }<br>}",
          "{<br>  \"number\": 377,<br>  \"values\": [<br>    0.8277777777777777,<br>    3.917479029698481<br>  ],<br>  \"params\": {<br>    \"lambd\": 0.020671769579967192,<br>    \"lambd2\": 1.2626949386880704,<br>    \"max_dist\": 0.05883488915558677<br>  }<br>}",
          "{<br>  \"number\": 382,<br>  \"values\": [<br>    0.7346313322516675,<br>    3.7726139197460893<br>  ],<br>  \"params\": {<br>    \"lambd\": 0.007431264990963804,<br>    \"lambd2\": 0.8111463719023437,<br>    \"max_dist\": 0.05883488915558677<br>  }<br>}",
          "{<br>  \"number\": 389,<br>  \"values\": [<br>    0.7672614429790535,<br>    3.7989118113806395<br>  ],<br>  \"params\": {<br>    \"lambd\": 0.007431264990963804,<br>    \"lambd2\": 0.8656157904078154,<br>    \"max_dist\": 0.02935175122332978<br>  }<br>}",
          "{<br>  \"number\": 390,<br>  \"values\": [<br>    0.7446400766558869,<br>    3.7855361596009973<br>  ],<br>  \"params\": {<br>    \"lambd\": 0.018796869203219213,<br>    \"lambd2\": 0.8453973948255056,<br>    \"max_dist\": 0.05883488915558677<br>  }<br>}",
          "{<br>  \"number\": 391,<br>  \"values\": [<br>    0.5787563810812473,<br>    3.6860122421219677<br>  ],<br>  \"params\": {<br>    \"lambd\": 0.007431264990963804,<br>    \"lambd2\": 0.6958680745281032,<br>    \"max_dist\": 0.3079597801305235<br>  }<br>}",
          "{<br>  \"number\": 394,<br>  \"values\": [<br>    0.8274105799282324,<br>    3.9170256177737475<br>  ],<br>  \"params\": {<br>    \"lambd\": 0.018796869203219213,<br>    \"lambd2\": 1.2626949386880704,<br>    \"max_dist\": 0.05883488915558677<br>  }<br>}",
          "{<br>  \"number\": 396,<br>  \"values\": [<br>    0.5245334322086269,<br>    3.6685558830197236<br>  ],<br>  \"params\": {<br>    \"lambd\": 0.018796869203219213,<br>    \"lambd2\": 0.7519331455489342,<br>    \"max_dist\": 0.5401967915821074<br>  }<br>}",
          "{<br>  \"number\": 401,<br>  \"values\": [<br>    0.9500720115218435,<br>    4.250056676490591<br>  ],<br>  \"params\": {<br>    \"lambd\": 0.018796869203219213,<br>    \"lambd2\": 3.429857075097462,<br>    \"max_dist\": 0.021798504774539484<br>  }<br>}",
          "{<br>  \"number\": 403,<br>  \"values\": [<br>    0.5933574361174092,<br>    3.6996145998639762<br>  ],<br>  \"params\": {<br>    \"lambd\": 0.018796869203219213,<br>    \"lambd2\": 0.7362194564650737,<br>    \"max_dist\": 0.3079597801305235<br>  }<br>}",
          "{<br>  \"number\": 405,<br>  \"values\": [<br>    0.9517596927771056,<br>    4.309453638630696<br>  ],<br>  \"params\": {<br>    \"lambd\": 0.018796869203219213,<br>    \"lambd2\": 9.926725655769514,<br>    \"max_dist\": 0.05883488915558677<br>  }<br>}"
         ],
         "type": "scatter",
         "x": [
          0.3195738165114202,
          0.9323034009226477,
          0.9323034009226477,
          0.5228815142270096,
          0.3195738165114202,
          0.9065987124463519,
          0.7446400766558869,
          0.8978602929166439,
          0.36241993785274906,
          0.7446400766558869,
          0.9047128927410617,
          0.37458003169572107,
          0.8274105799282324,
          0.9324020552344252,
          0.9323034009226477,
          0.769652541867811,
          0.3195738165114202,
          0.42762535477767266,
          0.28059720620274253,
          0.8700352921404964,
          0.5486098267677701,
          0.7087812537746104,
          0.35924061922660383,
          0.3639533409407886,
          0.8277777777777777,
          0.8277777777777777,
          0.9504924421972929,
          0.4452336448598131,
          0.9065987124463519,
          0.9323034009226477,
          0.8277777777777777,
          0.7346313322516675,
          0.7672614429790535,
          0.7446400766558869,
          0.5787563810812473,
          0.8274105799282324,
          0.5245334322086269,
          0.9500720115218435,
          0.5933574361174092,
          0.9517596927771056
         ],
         "y": [
          3.5533892541373837,
          4.2262525504420765,
          4.2262525504420765,
          3.6411244615733396,
          3.5533892541373837,
          4.225799138517343,
          3.7855361596009973,
          4.163908410791204,
          3.5749263205622306,
          3.7855361596009973,
          4.1849920652913175,
          3.5762865563364317,
          3.9170256177737475,
          4.235774200861482,
          4.2262525504420765,
          3.8038993425527092,
          3.5533892541373837,
          3.5944230333257763,
          3.537973248696441,
          4.04692813420993,
          3.677397415552029,
          3.753797324869644,
          3.5586034912718203,
          3.576059850374065,
          3.917479029698481,
          3.917479029698481,
          4.304466107458627,
          3.6386306959873043,
          4.225799138517343,
          4.2262525504420765,
          3.917479029698481,
          3.7726139197460893,
          3.7989118113806395,
          3.7855361596009973,
          3.6860122421219677,
          3.9170256177737475,
          3.6685558830197236,
          4.250056676490591,
          3.6996145998639762,
          4.309453638630696
         ]
        }
       ],
       "layout": {
        "template": {
         "data": {
          "bar": [
           {
            "error_x": {
             "color": "#2a3f5f"
            },
            "error_y": {
             "color": "#2a3f5f"
            },
            "marker": {
             "line": {
              "color": "#E5ECF6",
              "width": 0.5
             },
             "pattern": {
              "fillmode": "overlay",
              "size": 10,
              "solidity": 0.2
             }
            },
            "type": "bar"
           }
          ],
          "barpolar": [
           {
            "marker": {
             "line": {
              "color": "#E5ECF6",
              "width": 0.5
             },
             "pattern": {
              "fillmode": "overlay",
              "size": 10,
              "solidity": 0.2
             }
            },
            "type": "barpolar"
           }
          ],
          "carpet": [
           {
            "aaxis": {
             "endlinecolor": "#2a3f5f",
             "gridcolor": "white",
             "linecolor": "white",
             "minorgridcolor": "white",
             "startlinecolor": "#2a3f5f"
            },
            "baxis": {
             "endlinecolor": "#2a3f5f",
             "gridcolor": "white",
             "linecolor": "white",
             "minorgridcolor": "white",
             "startlinecolor": "#2a3f5f"
            },
            "type": "carpet"
           }
          ],
          "choropleth": [
           {
            "colorbar": {
             "outlinewidth": 0,
             "ticks": ""
            },
            "type": "choropleth"
           }
          ],
          "contour": [
           {
            "colorbar": {
             "outlinewidth": 0,
             "ticks": ""
            },
            "colorscale": [
             [
              0,
              "#0d0887"
             ],
             [
              0.1111111111111111,
              "#46039f"
             ],
             [
              0.2222222222222222,
              "#7201a8"
             ],
             [
              0.3333333333333333,
              "#9c179e"
             ],
             [
              0.4444444444444444,
              "#bd3786"
             ],
             [
              0.5555555555555556,
              "#d8576b"
             ],
             [
              0.6666666666666666,
              "#ed7953"
             ],
             [
              0.7777777777777778,
              "#fb9f3a"
             ],
             [
              0.8888888888888888,
              "#fdca26"
             ],
             [
              1,
              "#f0f921"
             ]
            ],
            "type": "contour"
           }
          ],
          "contourcarpet": [
           {
            "colorbar": {
             "outlinewidth": 0,
             "ticks": ""
            },
            "type": "contourcarpet"
           }
          ],
          "heatmap": [
           {
            "colorbar": {
             "outlinewidth": 0,
             "ticks": ""
            },
            "colorscale": [
             [
              0,
              "#0d0887"
             ],
             [
              0.1111111111111111,
              "#46039f"
             ],
             [
              0.2222222222222222,
              "#7201a8"
             ],
             [
              0.3333333333333333,
              "#9c179e"
             ],
             [
              0.4444444444444444,
              "#bd3786"
             ],
             [
              0.5555555555555556,
              "#d8576b"
             ],
             [
              0.6666666666666666,
              "#ed7953"
             ],
             [
              0.7777777777777778,
              "#fb9f3a"
             ],
             [
              0.8888888888888888,
              "#fdca26"
             ],
             [
              1,
              "#f0f921"
             ]
            ],
            "type": "heatmap"
           }
          ],
          "heatmapgl": [
           {
            "colorbar": {
             "outlinewidth": 0,
             "ticks": ""
            },
            "colorscale": [
             [
              0,
              "#0d0887"
             ],
             [
              0.1111111111111111,
              "#46039f"
             ],
             [
              0.2222222222222222,
              "#7201a8"
             ],
             [
              0.3333333333333333,
              "#9c179e"
             ],
             [
              0.4444444444444444,
              "#bd3786"
             ],
             [
              0.5555555555555556,
              "#d8576b"
             ],
             [
              0.6666666666666666,
              "#ed7953"
             ],
             [
              0.7777777777777778,
              "#fb9f3a"
             ],
             [
              0.8888888888888888,
              "#fdca26"
             ],
             [
              1,
              "#f0f921"
             ]
            ],
            "type": "heatmapgl"
           }
          ],
          "histogram": [
           {
            "marker": {
             "pattern": {
              "fillmode": "overlay",
              "size": 10,
              "solidity": 0.2
             }
            },
            "type": "histogram"
           }
          ],
          "histogram2d": [
           {
            "colorbar": {
             "outlinewidth": 0,
             "ticks": ""
            },
            "colorscale": [
             [
              0,
              "#0d0887"
             ],
             [
              0.1111111111111111,
              "#46039f"
             ],
             [
              0.2222222222222222,
              "#7201a8"
             ],
             [
              0.3333333333333333,
              "#9c179e"
             ],
             [
              0.4444444444444444,
              "#bd3786"
             ],
             [
              0.5555555555555556,
              "#d8576b"
             ],
             [
              0.6666666666666666,
              "#ed7953"
             ],
             [
              0.7777777777777778,
              "#fb9f3a"
             ],
             [
              0.8888888888888888,
              "#fdca26"
             ],
             [
              1,
              "#f0f921"
             ]
            ],
            "type": "histogram2d"
           }
          ],
          "histogram2dcontour": [
           {
            "colorbar": {
             "outlinewidth": 0,
             "ticks": ""
            },
            "colorscale": [
             [
              0,
              "#0d0887"
             ],
             [
              0.1111111111111111,
              "#46039f"
             ],
             [
              0.2222222222222222,
              "#7201a8"
             ],
             [
              0.3333333333333333,
              "#9c179e"
             ],
             [
              0.4444444444444444,
              "#bd3786"
             ],
             [
              0.5555555555555556,
              "#d8576b"
             ],
             [
              0.6666666666666666,
              "#ed7953"
             ],
             [
              0.7777777777777778,
              "#fb9f3a"
             ],
             [
              0.8888888888888888,
              "#fdca26"
             ],
             [
              1,
              "#f0f921"
             ]
            ],
            "type": "histogram2dcontour"
           }
          ],
          "mesh3d": [
           {
            "colorbar": {
             "outlinewidth": 0,
             "ticks": ""
            },
            "type": "mesh3d"
           }
          ],
          "parcoords": [
           {
            "line": {
             "colorbar": {
              "outlinewidth": 0,
              "ticks": ""
             }
            },
            "type": "parcoords"
           }
          ],
          "pie": [
           {
            "automargin": true,
            "type": "pie"
           }
          ],
          "scatter": [
           {
            "fillpattern": {
             "fillmode": "overlay",
             "size": 10,
             "solidity": 0.2
            },
            "type": "scatter"
           }
          ],
          "scatter3d": [
           {
            "line": {
             "colorbar": {
              "outlinewidth": 0,
              "ticks": ""
             }
            },
            "marker": {
             "colorbar": {
              "outlinewidth": 0,
              "ticks": ""
             }
            },
            "type": "scatter3d"
           }
          ],
          "scattercarpet": [
           {
            "marker": {
             "colorbar": {
              "outlinewidth": 0,
              "ticks": ""
             }
            },
            "type": "scattercarpet"
           }
          ],
          "scattergeo": [
           {
            "marker": {
             "colorbar": {
              "outlinewidth": 0,
              "ticks": ""
             }
            },
            "type": "scattergeo"
           }
          ],
          "scattergl": [
           {
            "marker": {
             "colorbar": {
              "outlinewidth": 0,
              "ticks": ""
             }
            },
            "type": "scattergl"
           }
          ],
          "scattermapbox": [
           {
            "marker": {
             "colorbar": {
              "outlinewidth": 0,
              "ticks": ""
             }
            },
            "type": "scattermapbox"
           }
          ],
          "scatterpolar": [
           {
            "marker": {
             "colorbar": {
              "outlinewidth": 0,
              "ticks": ""
             }
            },
            "type": "scatterpolar"
           }
          ],
          "scatterpolargl": [
           {
            "marker": {
             "colorbar": {
              "outlinewidth": 0,
              "ticks": ""
             }
            },
            "type": "scatterpolargl"
           }
          ],
          "scatterternary": [
           {
            "marker": {
             "colorbar": {
              "outlinewidth": 0,
              "ticks": ""
             }
            },
            "type": "scatterternary"
           }
          ],
          "surface": [
           {
            "colorbar": {
             "outlinewidth": 0,
             "ticks": ""
            },
            "colorscale": [
             [
              0,
              "#0d0887"
             ],
             [
              0.1111111111111111,
              "#46039f"
             ],
             [
              0.2222222222222222,
              "#7201a8"
             ],
             [
              0.3333333333333333,
              "#9c179e"
             ],
             [
              0.4444444444444444,
              "#bd3786"
             ],
             [
              0.5555555555555556,
              "#d8576b"
             ],
             [
              0.6666666666666666,
              "#ed7953"
             ],
             [
              0.7777777777777778,
              "#fb9f3a"
             ],
             [
              0.8888888888888888,
              "#fdca26"
             ],
             [
              1,
              "#f0f921"
             ]
            ],
            "type": "surface"
           }
          ],
          "table": [
           {
            "cells": {
             "fill": {
              "color": "#EBF0F8"
             },
             "line": {
              "color": "white"
             }
            },
            "header": {
             "fill": {
              "color": "#C8D4E3"
             },
             "line": {
              "color": "white"
             }
            },
            "type": "table"
           }
          ]
         },
         "layout": {
          "annotationdefaults": {
           "arrowcolor": "#2a3f5f",
           "arrowhead": 0,
           "arrowwidth": 1
          },
          "autotypenumbers": "strict",
          "coloraxis": {
           "colorbar": {
            "outlinewidth": 0,
            "ticks": ""
           }
          },
          "colorscale": {
           "diverging": [
            [
             0,
             "#8e0152"
            ],
            [
             0.1,
             "#c51b7d"
            ],
            [
             0.2,
             "#de77ae"
            ],
            [
             0.3,
             "#f1b6da"
            ],
            [
             0.4,
             "#fde0ef"
            ],
            [
             0.5,
             "#f7f7f7"
            ],
            [
             0.6,
             "#e6f5d0"
            ],
            [
             0.7,
             "#b8e186"
            ],
            [
             0.8,
             "#7fbc41"
            ],
            [
             0.9,
             "#4d9221"
            ],
            [
             1,
             "#276419"
            ]
           ],
           "sequential": [
            [
             0,
             "#0d0887"
            ],
            [
             0.1111111111111111,
             "#46039f"
            ],
            [
             0.2222222222222222,
             "#7201a8"
            ],
            [
             0.3333333333333333,
             "#9c179e"
            ],
            [
             0.4444444444444444,
             "#bd3786"
            ],
            [
             0.5555555555555556,
             "#d8576b"
            ],
            [
             0.6666666666666666,
             "#ed7953"
            ],
            [
             0.7777777777777778,
             "#fb9f3a"
            ],
            [
             0.8888888888888888,
             "#fdca26"
            ],
            [
             1,
             "#f0f921"
            ]
           ],
           "sequentialminus": [
            [
             0,
             "#0d0887"
            ],
            [
             0.1111111111111111,
             "#46039f"
            ],
            [
             0.2222222222222222,
             "#7201a8"
            ],
            [
             0.3333333333333333,
             "#9c179e"
            ],
            [
             0.4444444444444444,
             "#bd3786"
            ],
            [
             0.5555555555555556,
             "#d8576b"
            ],
            [
             0.6666666666666666,
             "#ed7953"
            ],
            [
             0.7777777777777778,
             "#fb9f3a"
            ],
            [
             0.8888888888888888,
             "#fdca26"
            ],
            [
             1,
             "#f0f921"
            ]
           ]
          },
          "colorway": [
           "#636efa",
           "#EF553B",
           "#00cc96",
           "#ab63fa",
           "#FFA15A",
           "#19d3f3",
           "#FF6692",
           "#B6E880",
           "#FF97FF",
           "#FECB52"
          ],
          "font": {
           "color": "#2a3f5f"
          },
          "geo": {
           "bgcolor": "white",
           "lakecolor": "white",
           "landcolor": "#E5ECF6",
           "showlakes": true,
           "showland": true,
           "subunitcolor": "white"
          },
          "hoverlabel": {
           "align": "left"
          },
          "hovermode": "closest",
          "mapbox": {
           "style": "light"
          },
          "paper_bgcolor": "white",
          "plot_bgcolor": "#E5ECF6",
          "polar": {
           "angularaxis": {
            "gridcolor": "white",
            "linecolor": "white",
            "ticks": ""
           },
           "bgcolor": "#E5ECF6",
           "radialaxis": {
            "gridcolor": "white",
            "linecolor": "white",
            "ticks": ""
           }
          },
          "scene": {
           "xaxis": {
            "backgroundcolor": "#E5ECF6",
            "gridcolor": "white",
            "gridwidth": 2,
            "linecolor": "white",
            "showbackground": true,
            "ticks": "",
            "zerolinecolor": "white"
           },
           "yaxis": {
            "backgroundcolor": "#E5ECF6",
            "gridcolor": "white",
            "gridwidth": 2,
            "linecolor": "white",
            "showbackground": true,
            "ticks": "",
            "zerolinecolor": "white"
           },
           "zaxis": {
            "backgroundcolor": "#E5ECF6",
            "gridcolor": "white",
            "gridwidth": 2,
            "linecolor": "white",
            "showbackground": true,
            "ticks": "",
            "zerolinecolor": "white"
           }
          },
          "shapedefaults": {
           "line": {
            "color": "#2a3f5f"
           }
          },
          "ternary": {
           "aaxis": {
            "gridcolor": "white",
            "linecolor": "white",
            "ticks": ""
           },
           "baxis": {
            "gridcolor": "white",
            "linecolor": "white",
            "ticks": ""
           },
           "bgcolor": "#E5ECF6",
           "caxis": {
            "gridcolor": "white",
            "linecolor": "white",
            "ticks": ""
           }
          },
          "title": {
           "x": 0.05
          },
          "xaxis": {
           "automargin": true,
           "gridcolor": "white",
           "linecolor": "white",
           "ticks": "",
           "title": {
            "standoff": 15
           },
           "zerolinecolor": "white",
           "zerolinewidth": 2
          },
          "yaxis": {
           "automargin": true,
           "gridcolor": "white",
           "linecolor": "white",
           "ticks": "",
           "title": {
            "standoff": 15
           },
           "zerolinecolor": "white",
           "zerolinewidth": 2
          }
         }
        },
        "title": {
         "text": "Pareto-front Plot"
        },
        "xaxis": {
         "title": {
          "text": "KP"
         }
        },
        "yaxis": {
         "title": {
          "text": "edits"
         }
        }
       }
      }
     },
     "metadata": {},
     "output_type": "display_data"
    }
   ],
   "source": [
    "optuna.visualization.plot_pareto_front(study, target_names=[\"KP\", \"edits\"])"
   ]
  },
  {
   "cell_type": "code",
   "execution_count": null,
   "metadata": {},
   "outputs": [],
   "source": [
    "results = combine_results(\"optimize_counterfactuals_performance_vgg_final\")"
   ]
  },
  {
   "cell_type": "code",
   "execution_count": null,
   "metadata": {},
   "outputs": [
    {
     "name": "stdout",
     "output_type": "stream",
     "text": [
      "Total runtime is 2014018.7791371346 seconds.\n",
      "Average runtime is 5009.996963027698 seconds.\n",
      "Minimum runtime is 4239.713100671768 seconds.\n",
      "Maximum runtime is 6449.528575897217 seconds.\n",
      "Median runtime is 4831.093306779861 seconds.\n"
     ]
    }
   ],
   "source": [
    "evaluate_performance(results)"
   ]
  },
  {
   "cell_type": "code",
   "execution_count": null,
   "metadata": {},
   "outputs": [
    {
     "name": "stdout",
     "output_type": "stream",
     "text": [
      "Pearson correlation is 0.9948931791825408\n",
      "Pearson pvalue is 0.0\n",
      "Spearman correlation is 0.992236381163734\n",
      "Spearman pvalue is 0.0\n"
     ]
    }
   ],
   "source": [
    "performance_edits_correlation(results)"
   ]
  },
  {
   "cell_type": "code",
   "execution_count": null,
   "metadata": {},
   "outputs": [
    {
     "name": "stdout",
     "output_type": "stream",
     "text": [
      "Average time per edit is 0.2572854834105754 seconds, variance is 9.633807466052671e-05.\n"
     ]
    }
   ],
   "source": [
    "average_time_per_edit(results)"
   ]
  },
  {
   "cell_type": "code",
   "execution_count": null,
   "metadata": {},
   "outputs": [
    {
     "data": {
      "image/png": "[encoded data removed]",
      "text/plain": [
       "<Figure size 640x480 with 1 Axes>"
      ]
     },
     "metadata": {},
     "output_type": "display_data"
    }
   ],
   "source": [
    "plot_runtime(results, \"runtime\")"
   ]
  },
  {
   "cell_type": "code",
   "execution_count": null,
   "metadata": {},
   "outputs": [
    {
     "data": {
      "image/png": "[encoded data removed]",
      "text/plain": [
       "<Figure size 640x480 with 1 Axes>"
      ]
     },
     "metadata": {},
     "output_type": "display_data"
    }
   ],
   "source": [
    "plot_runtime_per_edit(results, \"runtime_per_edit\")"
   ]
  },
  {
   "cell_type": "code",
   "execution_count": null,
   "metadata": {},
   "outputs": [
    {
     "data": {
      "image/png": "[encoded data removed]",
      "text/plain": [
       "<Figure size 640x480 with 1 Axes>"
      ]
     },
     "metadata": {},
     "output_type": "display_data"
    }
   ],
   "source": [
    "plot_runtime_edits(results, \"runtime_edits_combined\")"
   ]
  }
 ],
 "metadata": {
  "kernelspec": {
   "display_name": "Python 3",
   "language": "python",
   "name": "python3"
  },
  "language_info": {
   "codemirror_mode": {
    "name": "ipython",
    "version": 3
   },
   "file_extension": ".py",
   "mimetype": "text/x-python",
   "name": "python",
   "nbconvert_exporter": "python",
   "pygments_lexer": "ipython3",
   "version": "3.9.13"
  },
  "orig_nbformat": 4
 },
 "nbformat": 4,
 "nbformat_minor": 2
}
