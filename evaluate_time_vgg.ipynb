{
 "cells": [
  {
   "cell_type": "code",
   "execution_count": 1,
   "metadata": {},
   "outputs": [],
   "source": [
    "import optuna"
   ]
  },
  {
   "cell_type": "code",
   "execution_count": 4,
   "metadata": {},
   "outputs": [
    {
     "name": "stderr",
     "output_type": "stream",
     "text": [
      "\u001b[32m[I 2023-05-06 16:47:06,968]\u001b[0m A new study created in RDB with name: optimize_counterfactuals_performance_vgg\u001b[0m\n"
     ]
    }
   ],
   "source": [
    "study = optuna.create_study(\n",
    "    storage=\"sqlite://///store-01.hpi.uni-potsdam.de/fg/doellner/florence.boettger/counterfactuals/optimize_counterfactuals_full.db\",\n",
    "    study_name=\"optimize_counterfactuals_performance_vgg\",\n",
    "    directions=[\"maximize\", \"minimize\"],\n",
    ")\n",
    "study.enqueue_trial(\n",
    "    {\n",
    "        \"lambd2\": 10,\n",
    "        \"max_dist\": 0\n",
    "    }\n",
    ")\n",
    "study.enqueue_trial(\n",
    "    {\n",
    "        \"lambd2\": 0,\n",
    "        \"max_dist\": 0\n",
    "    }\n",
    ")"
   ]
  }
 ],
 "metadata": {
  "kernelspec": {
   "display_name": "Python 3",
   "language": "python",
   "name": "python3"
  },
  "language_info": {
   "codemirror_mode": {
    "name": "ipython",
    "version": 3
   },
   "file_extension": ".py",
   "mimetype": "text/x-python",
   "name": "python",
   "nbconvert_exporter": "python",
   "pygments_lexer": "ipython3",
   "version": "3.9.0"
  },
  "orig_nbformat": 4
 },
 "nbformat": 4,
 "nbformat_minor": 2
}
