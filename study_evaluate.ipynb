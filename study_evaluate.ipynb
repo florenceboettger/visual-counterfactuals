{
 "cells": [
  {
   "cell_type": "code",
   "execution_count": 1,
   "metadata": {},
   "outputs": [],
   "source": [
    "from study_help import load_studies"
   ]
  },
  {
   "cell_type": "code",
   "execution_count": 2,
   "metadata": {},
   "outputs": [
    {
     "name": "stdout",
     "output_type": "stream",
     "text": [
      "[0 0 0 0 1 1 1 1 2 2 2 2 3 3 3 3 4 4 4 4 5 5 5 5 6 6 6 6 7 7 7 7 8 8 8 8 9\n",
      " 9 9 9]\n",
      "[-1.  -0.5  0.5  1.  -1.  -0.5  0.5  1.  -1.  -0.5  0.5  1.  -1.  -0.5\n",
      "  0.5  1.  -1.  -0.5  0.5  1.  -1.  -0.5  0.5  1.  -1.  -0.5  0.5  1.\n",
      " -1.  -0.5  0.5  1.  -1.  -0.5  0.5  1.  -1.  -0.5  0.5  1. ]\n",
      "[0 0 0 0 1 1 1 1 2 2 2 2 3 3 3 3 4 4 4 4 5 5 5 5 6 6 6 6 7 7 7 7 8 8 8 8 9\n",
      " 9 9 9]\n",
      "[-1.  -0.5  0.5  1.  -1.  -0.5  0.5  1.  -1.  -0.5  0.5  1.  -1.  -0.5\n",
      "  0.5  1.  -1.  -0.5  0.5  1.  -1.  -0.5  0.5  1.  -1.  -0.5  0.5  1.\n",
      " -1.  -0.5  0.5  1.  -1.  -0.5  0.5  1.  -1.  -0.5  0.5  1. ]\n",
      "[0 0 0 0 1 1 1 1 2 2 2 2 3 3 3 3 4 4 4 4 5 5 5 5 6 6 6 6 7 7 7 7 8 8 8 8 9\n",
      " 9 9 9]\n",
      "[-1.  -0.5  0.5  1.  -1.  -0.5  0.5  1.  -1.  -0.5  0.5  1.  -1.  -0.5\n",
      "  0.5  1.  -1.  -0.5  0.5  1.  -1.  -0.5  0.5  1.  -1.  -0.5  0.5  1.\n",
      " -1.  -0.5  0.5  1.  -1.  -0.5  0.5  1.  -1.  -0.5  0.5  1. ]\n",
      "[0 0 0 0 1 1 1 1 2 2 2 2 3 3 3 3 4 4 4 4 5 5 5 5 6 6 6 6 7 7 7 7 8 8 8 8 9\n",
      " 9 9 9]\n",
      "[-1.  -0.5  0.5  1.  -1.  -0.5  0.5  1.  -1.  -0.5  0.5  1.  -1.  -0.5\n",
      "  0.5  1.  -1.  -0.5  0.5  1.  -1.  -0.5  0.5  1.  -1.  -0.5  0.5  1.\n",
      " -1.  -0.5  0.5  1.  -1.  -0.5  0.5  1.  -1.  -0.5  0.5  1. ]\n"
     ]
    }
   ],
   "source": [
    "load_studies()"
   ]
  }
 ],
 "metadata": {
  "kernelspec": {
   "display_name": "Python 3",
   "language": "python",
   "name": "python3"
  },
  "language_info": {
   "codemirror_mode": {
    "name": "ipython",
    "version": 3
   },
   "file_extension": ".py",
   "mimetype": "text/x-python",
   "name": "python",
   "nbconvert_exporter": "python",
   "pygments_lexer": "ipython3",
   "version": "3.9.13"
  },
  "orig_nbformat": 4
 },
 "nbformat": 4,
 "nbformat_minor": 2
}
