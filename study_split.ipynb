{
 "cells": [
  {
   "cell_type": "code",
   "execution_count": 83,
   "metadata": {},
   "outputs": [],
   "source": [
    "import csv\n",
    "from pathlib import Path"
   ]
  },
  {
   "cell_type": "code",
   "execution_count": 84,
   "metadata": {},
   "outputs": [],
   "source": [
    "def replace_keys():\n",
    "    results_path = (Path.cwd().parent / 'Study')\n",
    "    files = [str(results_path / f / 'initial.csv') for f in results_path.iterdir() if (results_path / f).is_dir() and (results_path / f / 'initial.csv').is_file()]\n",
    "    \n",
    "    new_keys = []\n",
    "    new_keys.append('timestamp')\n",
    "    new_keys.append('referral')\n",
    "    new_keys.append('initial_0')\n",
    "    new_keys.append('initial_1')\n",
    "    new_keys.append('initial_2')\n",
    "    new_keys.append('age')\n",
    "    new_keys.append('gender')\n",
    "    new_keys.append('education')\n",
    "    new_keys.append('location')\n",
    "    new_keys.append('bird_familiarity')\n",
    "    for i in range(10):\n",
    "        new_keys.append(f'training_initial_{i}')\n",
    "    for i in range(10):\n",
    "        new_keys.append(f'training_later_{i}')\n",
    "        new_keys.append(f'training_explanation_{i}')\n",
    "    new_keys.append('mental_model')\n",
    "    new_keys.append('mail')\n",
    "    new_keys.append('address')\n",
    "\n",
    "    assert len(new_keys) == 43\n",
    "\n",
    "    for file in files:\n",
    "        csv_content = []\n",
    "        with open(file, 'r') as f:\n",
    "            reader = csv.DictReader(f, fieldnames=new_keys)\n",
    "            for row in reader:\n",
    "                csv_content.append(row)\n",
    "\n",
    "        csv_content = csv_content[1:-1]\n",
    "\n",
    "        raffle_dict = [{'mail': response['mail'], 'address': response['address']} for response in csv_content]\n",
    "        with (Path(file).parent / 'raffle.csv').open('w', newline='') as f:\n",
    "            writer = csv.DictWriter(f, fieldnames = raffle_dict[0].keys())\n",
    "            writer.writeheader()\n",
    "            for response in raffle_dict:  \n",
    "                writer.writerow(response)\n",
    "\n",
    "        main_dict = [{k: response[k] for k in response if k != 'mail' and k != 'address'} for response in csv_content]\n",
    "        sub_study = Path(file).parent.stem\n",
    "        main_path = Path.cwd() / 'study_data' / sub_study / 'main.csv'\n",
    "        main_path.parent.mkdir(exist_ok=True, parents=True)\n",
    "        with (main_path).open('w', newline='') as f:\n",
    "            writer = csv.DictWriter(f, fieldnames=main_dict[0].keys())\n",
    "            writer.writeheader()\n",
    "            for response in main_dict:\n",
    "                writer.writerow(response)"
   ]
  },
  {
   "cell_type": "code",
   "execution_count": 85,
   "metadata": {},
   "outputs": [],
   "source": [
    "replace_keys()"
   ]
  }
 ],
 "metadata": {
  "kernelspec": {
   "display_name": "Python 3",
   "language": "python",
   "name": "python3"
  },
  "language_info": {
   "codemirror_mode": {
    "name": "ipython",
    "version": 3
   },
   "file_extension": ".py",
   "mimetype": "text/x-python",
   "name": "python",
   "nbconvert_exporter": "python",
   "pygments_lexer": "ipython3",
   "version": "3.9.13"
  },
  "orig_nbformat": 4
 },
 "nbformat": 4,
 "nbformat_minor": 2
}
