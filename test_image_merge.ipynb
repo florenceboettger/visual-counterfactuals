{
 "cells": [
  {
   "cell_type": "code",
   "execution_count": 81,
   "metadata": {},
   "outputs": [
    {
     "ename": "TypeError",
     "evalue": "slice indices must be integers or None or have an __index__ method",
     "output_type": "error",
     "traceback": [
      "\u001b[1;31m---------------------------------------------------------------------------\u001b[0m",
      "\u001b[1;31mTypeError\u001b[0m                                 Traceback (most recent call last)",
      "\u001b[1;32m<ipython-input-81-6a4301b90733>\u001b[0m in \u001b[0;36m<module>\u001b[1;34m\u001b[0m\n\u001b[0;32m     38\u001b[0m \u001b[0mwidth_cell\u001b[0m \u001b[1;33m=\u001b[0m \u001b[0mwidth\u001b[0m \u001b[1;33m//\u001b[0m \u001b[0mn_pix\u001b[0m\u001b[1;33m\u001b[0m\u001b[1;33m\u001b[0m\u001b[0m\n\u001b[0;32m     39\u001b[0m \u001b[0mheight_cell\u001b[0m \u001b[1;33m=\u001b[0m \u001b[0mheight\u001b[0m \u001b[1;33m//\u001b[0m \u001b[0mn_pix\u001b[0m\u001b[1;33m\u001b[0m\u001b[1;33m\u001b[0m\u001b[0m\n\u001b[1;32m---> 40\u001b[1;33m \u001b[0mcropped_image\u001b[0m \u001b[1;33m=\u001b[0m \u001b[0mimage\u001b[0m\u001b[1;33m[\u001b[0m\u001b[1;33m(\u001b[0m\u001b[0morigin\u001b[0m\u001b[1;33m[\u001b[0m\u001b[1;36m0\u001b[0m\u001b[1;33m]\u001b[0m \u001b[1;33m+\u001b[0m \u001b[1;36m0.5\u001b[0m \u001b[1;33m-\u001b[0m \u001b[0mradius\u001b[0m\u001b[1;33m)\u001b[0m \u001b[1;33m*\u001b[0m \u001b[0mwidth_cell\u001b[0m\u001b[1;33m:\u001b[0m\u001b[1;33m(\u001b[0m\u001b[0morigin\u001b[0m\u001b[1;33m[\u001b[0m\u001b[1;36m0\u001b[0m\u001b[1;33m]\u001b[0m \u001b[1;33m+\u001b[0m \u001b[1;36m0.5\u001b[0m \u001b[1;33m+\u001b[0m \u001b[0mradius\u001b[0m\u001b[1;33m)\u001b[0m \u001b[1;33m*\u001b[0m \u001b[0mwidth_cell\u001b[0m\u001b[1;33m,\u001b[0m \u001b[1;33m(\u001b[0m\u001b[0morigin\u001b[0m\u001b[1;33m[\u001b[0m\u001b[1;36m1\u001b[0m\u001b[1;33m]\u001b[0m \u001b[1;33m+\u001b[0m \u001b[1;36m0.5\u001b[0m \u001b[1;33m-\u001b[0m \u001b[0mradius\u001b[0m\u001b[1;33m)\u001b[0m \u001b[1;33m*\u001b[0m \u001b[0mheight_cell\u001b[0m\u001b[1;33m:\u001b[0m\u001b[1;33m(\u001b[0m\u001b[0morigin\u001b[0m\u001b[1;33m[\u001b[0m\u001b[1;36m1\u001b[0m\u001b[1;33m]\u001b[0m \u001b[1;33m+\u001b[0m \u001b[1;36m0.5\u001b[0m \u001b[1;33m+\u001b[0m \u001b[0mradius\u001b[0m\u001b[1;33m)\u001b[0m \u001b[1;33m*\u001b[0m \u001b[0mheight_cell\u001b[0m\u001b[1;33m]\u001b[0m\u001b[1;33m\u001b[0m\u001b[1;33m\u001b[0m\u001b[0m\n\u001b[0m\u001b[0;32m     41\u001b[0m \u001b[0mmasked_image\u001b[0m \u001b[1;33m=\u001b[0m \u001b[0mcircular_crop\u001b[0m\u001b[1;33m(\u001b[0m\u001b[0mcropped_image\u001b[0m\u001b[1;33m)\u001b[0m\u001b[1;33m\u001b[0m\u001b[1;33m\u001b[0m\u001b[0m\n\u001b[0;32m     42\u001b[0m \u001b[0mplt\u001b[0m\u001b[1;33m.\u001b[0m\u001b[0mfigure\u001b[0m\u001b[1;33m(\u001b[0m\u001b[0mfigsize\u001b[0m\u001b[1;33m=\u001b[0m\u001b[1;33m(\u001b[0m\u001b[1;36m10\u001b[0m\u001b[1;33m,\u001b[0m \u001b[1;36m10\u001b[0m\u001b[1;33m)\u001b[0m\u001b[1;33m)\u001b[0m\u001b[1;33m\u001b[0m\u001b[1;33m\u001b[0m\u001b[0m\n",
      "\u001b[1;31mTypeError\u001b[0m: slice indices must be integers or None or have an __index__ method"
     ]
    }
   ],
   "source": [
    "import matplotlib.pyplot as plt \n",
    "from skimage import data\n",
    "import numpy as np\n",
    "\n",
    "def smoothstep(e0, e1, x):\n",
    "    t = max(min((x - e0) / (e1 - e0), 1.0), 0.0)\n",
    "    return t * t * (3.0 - 2.0 * t)\n",
    "\n",
    "def circular_crop(image):\n",
    "    width = image.shape[0]\n",
    "    height = image.shape[1]\n",
    "    tolerance = 0.3\n",
    "    min_radius = 0.5 - tolerance\n",
    "    max_radius = 0.5\n",
    "    mask = np.zeros((width, height))\n",
    "    output = np.zeros((width, height, 4))\n",
    "    for i in range(width):\n",
    "        for j in range(height):\n",
    "            v = [i / width, j / height]\n",
    "            d = np.linalg.norm(v - np.array([0.5, 0.5]))\n",
    "            s = smoothstep(min_radius, max_radius, d)\n",
    "            mask[i, j] = 1.0 - s\n",
    "            output[i, j] = np.append(image[i, j] / 255, [1.0 - s])\n",
    "    return output\n",
    "    image_t = np.transpose(image, (2, 0, 1))\n",
    "    return [[[m, m, m] for m in m1] for m1 in mask]\n",
    "    return np.transpose(mask * image_t, (1, 2, 0))\n",
    "            \n",
    "\n",
    "background_image = data.camera()\n",
    "image = data.astronaut()\n",
    "width = image.shape[0]\n",
    "height = image.shape[1]\n",
    "radius = 1.0\n",
    "n_pix = 7\n",
    "origin = [0, 3]\n",
    "target = [1, 5]\n",
    "width_cell = width // n_pix\n",
    "height_cell = height // n_pix\n",
    "cropped_image = image[round((origin[0] + 0.5 - radius) * width_cell):round((origin[0] + 0.5 + radius) * width_cell), round((origin[1] + 0.5 - radius) * height_cell):round((origin[1] + 0.5 + radius) * height_cell)]\n",
    "masked_image = circular_crop(cropped_image)\n",
    "plt.figure(figsize=(10, 10))\n",
    "ax = plt.axes([0, 0, 1, 1], frameon=False)\n",
    "ax.set_axis_off()\n",
    "ax.set_xlim(0, 1)\n",
    "ax.set_ylim(0, 1)\n",
    "plt.imshow(background_image, extent=(0, 1, 0, 1))\n",
    "plt.imshow(masked_image, extent=((target[0] + 0.5 - radius) / n_pix, (target[0] + 0.5 + radius) / n_pix, (target[1] + 0.5 - radius) / n_pix, (target[1] + 0.5 + radius) / n_pix))"
   ]
  }
 ],
 "metadata": {
  "kernelspec": {
   "display_name": "Python 3",
   "language": "python",
   "name": "python3"
  },
  "language_info": {
   "codemirror_mode": {
    "name": "ipython",
    "version": 3
   },
   "file_extension": ".py",
   "mimetype": "text/x-python",
   "name": "python",
   "nbconvert_exporter": "python",
   "pygments_lexer": "ipython3",
   "version": "3.9.0"
  },
  "orig_nbformat": 4
 },
 "nbformat": 4,
 "nbformat_minor": 2
}
