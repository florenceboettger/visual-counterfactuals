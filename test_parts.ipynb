{
 "cells": [
  {
   "cell_type": "code",
   "execution_count": 8,
   "metadata": {},
   "outputs": [],
   "source": [
    "import numpy as np\n",
    "import math"
   ]
  },
  {
   "cell_type": "code",
   "execution_count": 9,
   "metadata": {},
   "outputs": [],
   "source": [
    "def get_parts_matrix(max_dist, n_parts, seed):\n",
    "        # return parts as binary mask on 7 x 7 grid to ease evaluation\n",
    "        np.random.seed(seed)\n",
    "        n_row = 7\n",
    "        n_pix_per_cell = 50\n",
    "        part_locs = [np.random.randint(350, size=2) for _ in range(n_parts)]\n",
    "        parts = np.zeros((n_parts, n_row, n_row))\n",
    "        if max_dist == 0:\n",
    "            for part_loc, part_id in zip(part_locs, range(n_parts)):\n",
    "                x_coord = int(part_loc[0] // n_pix_per_cell)\n",
    "                y_coord = int(part_loc[1] // n_pix_per_cell)\n",
    "                if part_id != -1:\n",
    "                    parts[part_id, y_coord, x_coord] = 1\n",
    "        else:\n",
    "            for part_loc, part_id in zip(part_locs, range(n_parts)):\n",
    "                if part_id == -1:\n",
    "                    continue\n",
    "                x_coord_part = part_loc[0]\n",
    "                y_coord_part = part_loc[1]\n",
    "                for cell_x, cell_y in np.ndindex(n_row, n_row):\n",
    "                    x_coord_cell = cell_x * n_pix_per_cell\n",
    "                    y_coord_cell = cell_y * n_pix_per_cell\n",
    "                    dx = max(x_coord_cell - x_coord_part, 0, x_coord_part - x_coord_cell - n_pix_per_cell)\n",
    "                    dy = max(y_coord_cell - y_coord_part, 0, y_coord_part - y_coord_cell - n_pix_per_cell)\n",
    "                    dist = math.sqrt(dx * dx + dy * dy) / n_pix_per_cell\n",
    "                    # print(f\"{cell_x}, {cell_y}, {dist}, {1 - dist / max_dist}, {max(parts[part_id, cell_y, cell_x], 1 - dist / max_dist)}\")\n",
    "                    parts[part_id, cell_y, cell_x] = max(parts[part_id, cell_y, cell_x], 1 - dist / max_dist)\n",
    "        return parts"
   ]
  },
  {
   "cell_type": "code",
   "execution_count": 10,
   "metadata": {},
   "outputs": [
    {
     "data": {
      "text/plain": [
       "array([[[0., 0., 0., 1., 0., 0., 0.],\n",
       "        [0., 0., 0., 0., 0., 0., 0.],\n",
       "        [0., 0., 0., 0., 0., 0., 0.],\n",
       "        [0., 0., 0., 0., 0., 0., 0.],\n",
       "        [0., 0., 0., 0., 0., 0., 0.],\n",
       "        [0., 0., 0., 0., 0., 0., 0.],\n",
       "        [0., 0., 0., 0., 0., 0., 0.]]])"
      ]
     },
     "execution_count": 10,
     "metadata": {},
     "output_type": "execute_result"
    }
   ],
   "source": [
    "get_parts_matrix(0, 1, 0)"
   ]
  },
  {
   "cell_type": "code",
   "execution_count": 11,
   "metadata": {},
   "outputs": [
    {
     "data": {
      "text/plain": [
       "array([[[0.18666667, 0.52      , 0.85333333, 1.        , 0.81333333,\n",
       "         0.48      , 0.14666667],\n",
       "        [0.1864208 , 0.51958351, 0.85197598, 0.98      , 0.81226496,\n",
       "         0.47961553, 0.14643232],\n",
       "        [0.11323309, 0.40397614, 0.61743555, 0.64666667, 0.60038908,\n",
       "         0.37131531, 0.07640798],\n",
       "        [0.        , 0.16219864, 0.29784459, 0.31333333, 0.28841335,\n",
       "         0.13865738, 0.        ],\n",
       "        [0.        , 0.        , 0.        , 0.        , 0.        ,\n",
       "         0.        , 0.        ],\n",
       "        [0.        , 0.        , 0.        , 0.        , 0.        ,\n",
       "         0.        , 0.        ],\n",
       "        [0.        , 0.        , 0.        , 0.        , 0.        ,\n",
       "         0.        , 0.        ]]])"
      ]
     },
     "execution_count": 11,
     "metadata": {},
     "output_type": "execute_result"
    }
   ],
   "source": [
    "get_parts_matrix(3.0, 1, 0)"
   ]
  },
  {
   "cell_type": "code",
   "execution_count": 12,
   "metadata": {},
   "outputs": [
    {
     "data": {
      "text/plain": [
       "array([[[0.        , 0.        , 0.56      , 1.        , 0.44      ,\n",
       "         0.        , 0.        ],\n",
       "        [0.        , 0.        , 0.55592793, 0.94      , 0.43679489,\n",
       "         0.        , 0.        ],\n",
       "        [0.        , 0.        , 0.        , 0.        , 0.        ,\n",
       "         0.        , 0.        ],\n",
       "        [0.        , 0.        , 0.        , 0.        , 0.        ,\n",
       "         0.        , 0.        ],\n",
       "        [0.        , 0.        , 0.        , 0.        , 0.        ,\n",
       "         0.        , 0.        ],\n",
       "        [0.        , 0.        , 0.        , 0.        , 0.        ,\n",
       "         0.        , 0.        ],\n",
       "        [0.        , 0.        , 0.        , 0.        , 0.        ,\n",
       "         0.        , 0.        ]]])"
      ]
     },
     "execution_count": 12,
     "metadata": {},
     "output_type": "execute_result"
    },
    {
     "ename": "",
     "evalue": "",
     "output_type": "error",
     "traceback": [
      "\u001b[1;31mThe Kernel crashed while executing code in the the current cell or a previous cell. Please review the code in the cell(s) to identify a possible cause of the failure. Click <a href='https://aka.ms/vscodeJupyterKernelCrash'>here</a> for more info. View Jupyter <a href='command:jupyter.viewOutput'>log</a> for further details."
     ]
    }
   ],
   "source": [
    "get_parts_matrix(1, 1, 0)"
   ]
  }
 ],
 "metadata": {
  "kernelspec": {
   "display_name": "Python 3",
   "language": "python",
   "name": "python3"
  },
  "language_info": {
   "codemirror_mode": {
    "name": "ipython",
    "version": 3
   },
   "file_extension": ".py",
   "mimetype": "text/x-python",
   "name": "python",
   "nbconvert_exporter": "python",
   "pygments_lexer": "ipython3",
   "version": "3.9.0"
  },
  "orig_nbformat": 4,
  "vscode": {
   "interpreter": {
    "hash": "11938c6bc6919ae2720b4d5011047913343b08a43b18698fd82dedb0d4417594"
   }
  }
 },
 "nbformat": 4,
 "nbformat_minor": 2
}
