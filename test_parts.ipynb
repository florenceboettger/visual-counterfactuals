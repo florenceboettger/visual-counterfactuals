{
 "cells": [
  {
   "cell_type": "code",
   "execution_count": 1,
   "metadata": {},
   "outputs": [],
   "source": [
    "import numpy as np\n",
    "import math"
   ]
  },
  {
   "cell_type": "code",
   "execution_count": 16,
   "metadata": {},
   "outputs": [],
   "source": [
    "def get_parts_matrix(max_dist, n_parts, seed):\n",
    "        # return parts as binary mask on 7 x 7 grid to ease evaluation\n",
    "        np.random.seed(seed)\n",
    "        n_row = 4\n",
    "        n_pix_per_cell = 50\n",
    "        part_locs = [np.random.randint(200, size=2) for _ in range(n_parts)]\n",
    "        part_locs = [[75, 130]]\n",
    "        parts = np.zeros((n_parts, n_row, n_row))\n",
    "        if max_dist == 0:\n",
    "            for part_loc, part_id in zip(part_locs, range(n_parts)):\n",
    "                x_coord = int(part_loc[0] // n_pix_per_cell)\n",
    "                y_coord = int(part_loc[1] // n_pix_per_cell)\n",
    "                if part_id != -1:\n",
    "                    parts[part_id, y_coord, x_coord] = 1\n",
    "        else:\n",
    "            for part_loc, part_id in zip(part_locs, range(n_parts)):\n",
    "                if part_id == -1:\n",
    "                    continue\n",
    "                x_coord_part = part_loc[0]\n",
    "                y_coord_part = part_loc[1]\n",
    "                for cell_x, cell_y in np.ndindex(n_row, n_row):\n",
    "                    x_coord_cell = cell_x * n_pix_per_cell\n",
    "                    y_coord_cell = cell_y * n_pix_per_cell\n",
    "                    dx = max(x_coord_cell - x_coord_part, 0, x_coord_part - x_coord_cell - n_pix_per_cell)\n",
    "                    dy = max(y_coord_cell - y_coord_part, 0, y_coord_part - y_coord_cell - n_pix_per_cell)\n",
    "                    dist = math.sqrt(dx * dx + dy * dy) / n_pix_per_cell\n",
    "                    # print(f\"{cell_x}, {cell_y}, {dist}, {1 - dist / max_dist}, {max(parts[part_id, cell_y, cell_x], 1 - dist / max_dist)}\")\n",
    "                    parts[part_id, cell_y, cell_x] = max(parts[part_id, cell_y, cell_x], 1 - dist / max_dist)\n",
    "        return parts"
   ]
  },
  {
   "cell_type": "code",
   "execution_count": 17,
   "metadata": {},
   "outputs": [
    {
     "data": {
      "text/plain": [
       "array([[[0., 0., 0., 0.],\n",
       "        [0., 0., 0., 0.],\n",
       "        [0., 1., 0., 0.],\n",
       "        [0., 0., 0., 0.]]])"
      ]
     },
     "execution_count": 17,
     "metadata": {},
     "output_type": "execute_result"
    }
   ],
   "source": [
    "get_parts_matrix(0, 1, 0)"
   ]
  },
  {
   "cell_type": "code",
   "execution_count": 18,
   "metadata": {},
   "outputs": [
    {
     "data": {
      "text/plain": [
       "array([[[0.        , 0.        , 0.        , 0.        ],\n",
       "        [0.21897503, 0.4       , 0.21897503, 0.        ],\n",
       "        [0.5       , 1.        , 0.5       , 0.        ],\n",
       "        [0.35968758, 0.6       , 0.35968758, 0.        ]]])"
      ]
     },
     "execution_count": 18,
     "metadata": {},
     "output_type": "execute_result"
    }
   ],
   "source": [
    "get_parts_matrix(1, 1, 0)"
   ]
  }
 ],
 "metadata": {
  "kernelspec": {
   "display_name": "Python 3",
   "language": "python",
   "name": "python3"
  },
  "language_info": {
   "codemirror_mode": {
    "name": "ipython",
    "version": 3
   },
   "file_extension": ".py",
   "mimetype": "text/x-python",
   "name": "python",
   "nbconvert_exporter": "python",
   "pygments_lexer": "ipython3",
   "version": "3.9.0"
  },
  "orig_nbformat": 4,
  "vscode": {
   "interpreter": {
    "hash": "11938c6bc6919ae2720b4d5011047913343b08a43b18698fd82dedb0d4417594"
   }
  }
 },
 "nbformat": 4,
 "nbformat_minor": 2
}
